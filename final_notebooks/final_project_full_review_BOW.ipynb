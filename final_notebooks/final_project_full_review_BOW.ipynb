{
 "cells": [
  {
   "cell_type": "markdown",
   "id": "6422abf6",
   "metadata": {},
   "source": [
    "### Installing Packages"
   ]
  },
  {
   "cell_type": "code",
   "execution_count": 1,
   "id": "53852439",
   "metadata": {},
   "outputs": [
    {
     "name": "stdout",
     "output_type": "stream",
     "text": [
      "Looking in indexes: https://pypi.org/simple, https://pip.repos.neuron.amazonaws.com\n",
      "Requirement already satisfied: torchdata in /home/ec2-user/anaconda3/envs/python3/lib/python3.8/site-packages (0.4.1)\n",
      "Requirement already satisfied: urllib3>=1.25 in /home/ec2-user/anaconda3/envs/python3/lib/python3.8/site-packages (from torchdata) (1.26.8)\n",
      "Requirement already satisfied: portalocker>=2.0.0 in /home/ec2-user/anaconda3/envs/python3/lib/python3.8/site-packages (from torchdata) (2.5.1)\n",
      "Requirement already satisfied: requests in /home/ec2-user/anaconda3/envs/python3/lib/python3.8/site-packages (from torchdata) (2.26.0)\n",
      "Collecting torch==1.12.1\n",
      "  Using cached torch-1.12.1-cp38-cp38-manylinux1_x86_64.whl (776.3 MB)\n",
      "Requirement already satisfied: typing-extensions in /home/ec2-user/anaconda3/envs/python3/lib/python3.8/site-packages (from torch==1.12.1->torchdata) (4.0.0)\n",
      "Requirement already satisfied: charset-normalizer~=2.0.0 in /home/ec2-user/anaconda3/envs/python3/lib/python3.8/site-packages (from requests->torchdata) (2.0.8)\n",
      "Requirement already satisfied: idna<4,>=2.5 in /home/ec2-user/anaconda3/envs/python3/lib/python3.8/site-packages (from requests->torchdata) (3.1)\n",
      "Requirement already satisfied: certifi>=2017.4.17 in /home/ec2-user/anaconda3/envs/python3/lib/python3.8/site-packages (from requests->torchdata) (2021.10.8)\n",
      "Installing collected packages: torch\n",
      "  Attempting uninstall: torch\n",
      "    Found existing installation: torch 1.12.0\n",
      "    Uninstalling torch-1.12.0:\n",
      "      Successfully uninstalled torch-1.12.0\n",
      "\u001b[31mERROR: pip's dependency resolver does not currently take into account all the packages that are installed. This behaviour is the source of the following dependency conflicts.\n",
      "torchtext 0.13.0 requires torch==1.12.0, but you have torch 1.12.1 which is incompatible.\u001b[0m\u001b[31m\n",
      "\u001b[0mSuccessfully installed torch-1.12.1\n",
      "\u001b[33mWARNING: You are using pip version 22.0.4; however, version 22.2.2 is available.\n",
      "You should consider upgrading via the '/home/ec2-user/anaconda3/envs/python3/bin/python -m pip install --upgrade pip' command.\u001b[0m\u001b[33m\n",
      "\u001b[0mLooking in indexes: https://pypi.org/simple, https://pip.repos.neuron.amazonaws.com\n",
      "Requirement already satisfied: torchtext==0.13.0 in /home/ec2-user/anaconda3/envs/python3/lib/python3.8/site-packages (0.13.0)\n",
      "Requirement already satisfied: tqdm in /home/ec2-user/anaconda3/envs/python3/lib/python3.8/site-packages (from torchtext==0.13.0) (4.62.3)\n",
      "Requirement already satisfied: requests in /home/ec2-user/anaconda3/envs/python3/lib/python3.8/site-packages (from torchtext==0.13.0) (2.26.0)\n",
      "Requirement already satisfied: numpy in /home/ec2-user/anaconda3/envs/python3/lib/python3.8/site-packages (from torchtext==0.13.0) (1.20.3)\n",
      "Collecting torch==1.12.0\n",
      "  Using cached torch-1.12.0-cp38-cp38-manylinux1_x86_64.whl (776.3 MB)\n",
      "Requirement already satisfied: typing-extensions in /home/ec2-user/anaconda3/envs/python3/lib/python3.8/site-packages (from torch==1.12.0->torchtext==0.13.0) (4.0.0)\n",
      "Requirement already satisfied: certifi>=2017.4.17 in /home/ec2-user/anaconda3/envs/python3/lib/python3.8/site-packages (from requests->torchtext==0.13.0) (2021.10.8)\n",
      "Requirement already satisfied: urllib3<1.27,>=1.21.1 in /home/ec2-user/anaconda3/envs/python3/lib/python3.8/site-packages (from requests->torchtext==0.13.0) (1.26.8)\n",
      "Requirement already satisfied: idna<4,>=2.5 in /home/ec2-user/anaconda3/envs/python3/lib/python3.8/site-packages (from requests->torchtext==0.13.0) (3.1)\n",
      "Requirement already satisfied: charset-normalizer~=2.0.0 in /home/ec2-user/anaconda3/envs/python3/lib/python3.8/site-packages (from requests->torchtext==0.13.0) (2.0.8)\n",
      "Installing collected packages: torch\n",
      "  Attempting uninstall: torch\n",
      "    Found existing installation: torch 1.12.1\n",
      "    Uninstalling torch-1.12.1:\n",
      "      Successfully uninstalled torch-1.12.1\n",
      "\u001b[31mERROR: pip's dependency resolver does not currently take into account all the packages that are installed. This behaviour is the source of the following dependency conflicts.\n",
      "torchdata 0.4.1 requires torch==1.12.1, but you have torch 1.12.0 which is incompatible.\u001b[0m\u001b[31m\n",
      "\u001b[0mSuccessfully installed torch-1.12.0\n",
      "\u001b[33mWARNING: You are using pip version 22.0.4; however, version 22.2.2 is available.\n",
      "You should consider upgrading via the '/home/ec2-user/anaconda3/envs/python3/bin/python -m pip install --upgrade pip' command.\u001b[0m\u001b[33m\n",
      "\u001b[0mLooking in indexes: https://pypi.org/simple, https://pip.repos.neuron.amazonaws.com\n",
      "Requirement already satisfied: datasets in /home/ec2-user/anaconda3/envs/python3/lib/python3.8/site-packages (2.4.0)\n",
      "Requirement already satisfied: huggingface-hub<1.0.0,>=0.1.0 in /home/ec2-user/anaconda3/envs/python3/lib/python3.8/site-packages (from datasets) (0.8.1)\n",
      "Requirement already satisfied: dill<0.3.6 in /home/ec2-user/anaconda3/envs/python3/lib/python3.8/site-packages (from datasets) (0.3.4)\n",
      "Requirement already satisfied: tqdm>=4.62.1 in /home/ec2-user/anaconda3/envs/python3/lib/python3.8/site-packages (from datasets) (4.62.3)\n",
      "Requirement already satisfied: fsspec[http]>=2021.11.1 in /home/ec2-user/anaconda3/envs/python3/lib/python3.8/site-packages (from datasets) (2021.11.1)\n",
      "Requirement already satisfied: aiohttp in /home/ec2-user/anaconda3/envs/python3/lib/python3.8/site-packages (from datasets) (3.8.1)\n",
      "Requirement already satisfied: packaging in /home/ec2-user/anaconda3/envs/python3/lib/python3.8/site-packages (from datasets) (21.3)\n",
      "Requirement already satisfied: numpy>=1.17 in /home/ec2-user/anaconda3/envs/python3/lib/python3.8/site-packages (from datasets) (1.20.3)\n",
      "Requirement already satisfied: pyarrow>=6.0.0 in /home/ec2-user/anaconda3/envs/python3/lib/python3.8/site-packages (from datasets) (7.0.0)\n",
      "Requirement already satisfied: multiprocess in /home/ec2-user/anaconda3/envs/python3/lib/python3.8/site-packages (from datasets) (0.70.12.2)\n",
      "Requirement already satisfied: xxhash in /home/ec2-user/anaconda3/envs/python3/lib/python3.8/site-packages (from datasets) (3.0.0)\n",
      "Requirement already satisfied: requests>=2.19.0 in /home/ec2-user/anaconda3/envs/python3/lib/python3.8/site-packages (from datasets) (2.26.0)\n",
      "Requirement already satisfied: pandas in /home/ec2-user/anaconda3/envs/python3/lib/python3.8/site-packages (from datasets) (1.3.4)\n",
      "Requirement already satisfied: responses<0.19 in /home/ec2-user/anaconda3/envs/python3/lib/python3.8/site-packages (from datasets) (0.18.0)\n",
      "Requirement already satisfied: typing-extensions>=3.7.4.3 in /home/ec2-user/anaconda3/envs/python3/lib/python3.8/site-packages (from huggingface-hub<1.0.0,>=0.1.0->datasets) (4.0.0)\n",
      "Requirement already satisfied: pyyaml>=5.1 in /home/ec2-user/anaconda3/envs/python3/lib/python3.8/site-packages (from huggingface-hub<1.0.0,>=0.1.0->datasets) (5.4.1)\n",
      "Requirement already satisfied: filelock in /home/ec2-user/anaconda3/envs/python3/lib/python3.8/site-packages (from huggingface-hub<1.0.0,>=0.1.0->datasets) (3.4.0)\n",
      "Requirement already satisfied: pyparsing!=3.0.5,>=2.0.2 in /home/ec2-user/anaconda3/envs/python3/lib/python3.8/site-packages (from packaging->datasets) (3.0.6)\n",
      "Requirement already satisfied: idna<4,>=2.5 in /home/ec2-user/anaconda3/envs/python3/lib/python3.8/site-packages (from requests>=2.19.0->datasets) (3.1)\n",
      "Requirement already satisfied: urllib3<1.27,>=1.21.1 in /home/ec2-user/anaconda3/envs/python3/lib/python3.8/site-packages (from requests>=2.19.0->datasets) (1.26.8)\n",
      "Requirement already satisfied: certifi>=2017.4.17 in /home/ec2-user/anaconda3/envs/python3/lib/python3.8/site-packages (from requests>=2.19.0->datasets) (2021.10.8)\n",
      "Requirement already satisfied: charset-normalizer~=2.0.0 in /home/ec2-user/anaconda3/envs/python3/lib/python3.8/site-packages (from requests>=2.19.0->datasets) (2.0.8)\n",
      "Requirement already satisfied: frozenlist>=1.1.1 in /home/ec2-user/anaconda3/envs/python3/lib/python3.8/site-packages (from aiohttp->datasets) (1.2.0)\n",
      "Requirement already satisfied: aiosignal>=1.1.2 in /home/ec2-user/anaconda3/envs/python3/lib/python3.8/site-packages (from aiohttp->datasets) (1.2.0)\n",
      "Requirement already satisfied: attrs>=17.3.0 in /home/ec2-user/anaconda3/envs/python3/lib/python3.8/site-packages (from aiohttp->datasets) (21.2.0)\n",
      "Requirement already satisfied: multidict<7.0,>=4.5 in /home/ec2-user/anaconda3/envs/python3/lib/python3.8/site-packages (from aiohttp->datasets) (5.2.0)\n",
      "Requirement already satisfied: async-timeout<5.0,>=4.0.0a3 in /home/ec2-user/anaconda3/envs/python3/lib/python3.8/site-packages (from aiohttp->datasets) (4.0.1)\n",
      "Requirement already satisfied: yarl<2.0,>=1.0 in /home/ec2-user/anaconda3/envs/python3/lib/python3.8/site-packages (from aiohttp->datasets) (1.7.2)\n",
      "Requirement already satisfied: python-dateutil>=2.7.3 in /home/ec2-user/anaconda3/envs/python3/lib/python3.8/site-packages (from pandas->datasets) (2.8.2)\n",
      "Requirement already satisfied: pytz>=2017.3 in /home/ec2-user/anaconda3/envs/python3/lib/python3.8/site-packages (from pandas->datasets) (2021.3)\n",
      "Requirement already satisfied: six>=1.5 in /home/ec2-user/anaconda3/envs/python3/lib/python3.8/site-packages (from python-dateutil>=2.7.3->pandas->datasets) (1.16.0)\n",
      "\u001b[33mWARNING: You are using pip version 22.0.4; however, version 22.2.2 is available.\n",
      "You should consider upgrading via the '/home/ec2-user/anaconda3/envs/python3/bin/python -m pip install --upgrade pip' command.\u001b[0m\u001b[33m\n",
      "\u001b[0mLooking in indexes: https://pypi.org/simple, https://pip.repos.neuron.amazonaws.com\n",
      "Requirement already satisfied: nltk in /home/ec2-user/anaconda3/envs/python3/lib/python3.8/site-packages (3.7)\n",
      "Requirement already satisfied: joblib in /home/ec2-user/anaconda3/envs/python3/lib/python3.8/site-packages (from nltk) (1.1.0)\n",
      "Requirement already satisfied: regex>=2021.8.3 in /home/ec2-user/anaconda3/envs/python3/lib/python3.8/site-packages (from nltk) (2021.11.10)\n",
      "Requirement already satisfied: click in /home/ec2-user/anaconda3/envs/python3/lib/python3.8/site-packages (from nltk) (8.0.3)\n",
      "Requirement already satisfied: tqdm in /home/ec2-user/anaconda3/envs/python3/lib/python3.8/site-packages (from nltk) (4.62.3)\n",
      "\u001b[33mWARNING: You are using pip version 22.0.4; however, version 22.2.2 is available.\n",
      "You should consider upgrading via the '/home/ec2-user/anaconda3/envs/python3/bin/python -m pip install --upgrade pip' command.\u001b[0m\u001b[33m\n",
      "\u001b[0m"
     ]
    }
   ],
   "source": [
    "!pip install torchdata\n",
    "!pip install -U torchtext==0.13.0\n",
    "!pip install datasets\n",
    "!pip install nltk"
   ]
  },
  {
   "cell_type": "markdown",
   "id": "69f2bcab",
   "metadata": {},
   "source": [
    "### Importing Packages"
   ]
  },
  {
   "cell_type": "code",
   "execution_count": 198,
   "id": "6240cd28",
   "metadata": {},
   "outputs": [],
   "source": [
    "import torch\n",
    "import torchtext\n",
    "import datasets\n",
    "\n",
    "import matplotlib.pyplot as plt\n",
    "%matplotlib inline"
   ]
  },
  {
   "cell_type": "markdown",
   "id": "e0a5ca2f",
   "metadata": {},
   "source": [
    "### Using NLTK Library\n",
    "\n",
    "I used the nltk package in order to remove stop words (i.e. any, then, etc) from the movie reviews."
   ]
  },
  {
   "cell_type": "code",
   "execution_count": 199,
   "id": "c7502dbb",
   "metadata": {},
   "outputs": [
    {
     "name": "stderr",
     "output_type": "stream",
     "text": [
      "[nltk_data] Downloading package stopwords to\n",
      "[nltk_data]     /home/ec2-user/nltk_data...\n",
      "[nltk_data]   Package stopwords is already up-to-date!\n"
     ]
    },
    {
     "data": {
      "text/plain": [
       "True"
      ]
     },
     "execution_count": 199,
     "metadata": {},
     "output_type": "execute_result"
    }
   ],
   "source": [
    "import nltk\n",
    "nltk.download('stopwords')"
   ]
  },
  {
   "cell_type": "code",
   "execution_count": 200,
   "id": "65b99acb",
   "metadata": {},
   "outputs": [
    {
     "name": "stdout",
     "output_type": "stream",
     "text": [
      "{'not', 'they', 'wouldn', 'once', \"needn't\", 'had', \"shouldn't\", \"should've\", 'won', 'as', \"didn't\", 'ma', 'those', 'me', 'm', 'be', 'can', 'off', 'couldn', 'theirs', 'no', 'while', 'will', \"that'll\", 'above', 'how', 'to', 'when', 'with', 'who', \"aren't\", 'was', 'weren', 'mightn', 'each', 'such', 'than', 'you', 'been', 'ours', 'll', \"wouldn't\", 'being', \"isn't\", 'am', 'has', 'herself', 'these', 'this', \"won't\", 'doesn', 'she', 'the', 'if', 'my', \"it's\", 'other', 'ourselves', 'until', \"you'll\", \"you're\", \"you've\", 'and', 'a', 're', \"shan't\", 'themselves', 'but', 'where', 'myself', 's', \"haven't\", 'now', 'into', 'which', 'needn', 'on', 'own', 'it', 'over', 'wasn', 'an', 'against', 'yourselves', 'haven', \"don't\", \"couldn't\", 'below', 't', 'does', 'yourself', 'whom', 'so', 'nor', 'all', 'hers', 'just', \"mustn't\", 'here', 'have', 'himself', 'is', 'few', 'shan', 'your', 'what', \"wasn't\", 'isn', 'i', 'don', \"mightn't\", 'did', 'in', 'y', \"weren't\", 'again', 'then', 'do', 'most', \"hadn't\", \"she's\", 'up', 'further', 'were', 'any', 'shouldn', 'there', 'hadn', 'having', 'under', 'didn', 'itself', 'because', 'through', 'should', \"doesn't\", 'from', 'down', 'out', 've', 'he', 'before', \"you'd\", 'hasn', 'd', \"hasn't\", 'for', 'during', 'more', 'between', 'mustn', 'our', 'same', 'we', 'too', 'o', 'their', 'after', 'yours', 'its', 'ain', 'of', 'very', 'his', 'doing', 'only', 'aren', 'or', 'about', 'both', 'that', 'him', 'at', 'why', 'her', 'them', 'are', 'by', 'some'}\n"
     ]
    }
   ],
   "source": [
    "from nltk.corpus import stopwords\n",
    "\n",
    "stops = set(stopwords.words('english'))\n",
    "print(stops)"
   ]
  },
  {
   "cell_type": "markdown",
   "id": "7b63b50b",
   "metadata": {},
   "source": [
    "### Hugging Face Dataset\n",
    "\n",
    "I used the imdb dataset from the Hugging Face package. This dataset has 25,000 training examples and 25,000 test examples. I also shuffled the dataset because the original dataset has all negative movie reviews listed first and all positive movie reviews listed last, so I wanted to randomize the data for training."
   ]
  },
  {
   "cell_type": "code",
   "execution_count": 201,
   "id": "4788100b",
   "metadata": {},
   "outputs": [
    {
     "name": "stderr",
     "output_type": "stream",
     "text": [
      "Reusing dataset imdb (/home/ec2-user/.cache/huggingface/datasets/imdb/plain_text/1.0.0/2fdd8b9bcadd6e7055e742a706876ba43f19faee861df134affd7a3f60fc38a1)\n"
     ]
    },
    {
     "data": {
      "application/vnd.jupyter.widget-view+json": {
       "model_id": "ede60f041c91401b93664956ff160e81",
       "version_major": 2,
       "version_minor": 0
      },
      "text/plain": [
       "  0%|          | 0/2 [00:00<?, ?it/s]"
      ]
     },
     "metadata": {},
     "output_type": "display_data"
    }
   ],
   "source": [
    "# get dataset from hugging face library\n",
    "train_data, test_data = datasets.load_dataset('imdb', split = ['train', 'test'])"
   ]
  },
  {
   "cell_type": "code",
   "execution_count": 202,
   "id": "df5c70f2",
   "metadata": {},
   "outputs": [],
   "source": [
    "# reshuffle training and test datasets (randomize)\n",
    "train_data = train_data.shuffle()\n",
    "test_data = test_data.shuffle()"
   ]
  },
  {
   "cell_type": "code",
   "execution_count": 203,
   "id": "b71993c0",
   "metadata": {},
   "outputs": [
    {
     "data": {
      "text/plain": [
       "{'text': [\"A cowboy sympathetic to the plight of a nearby Indian tribe is wrongly accused in the rape and murder of the chief's daughter, leading to much hate and violence.<br /><br />This crackpot nudie feature is fun to look at, though thoroughly impossible to defend on any artistic level. The terrible costumes and the fact that all the Indians are obviously white, makes this look more like a live action cartoon than the serious production that it's press materials pretends it to be.<br /><br />In short, the plentiful nudity (the real reason for watching this) is good. Everything else is not. There's definitely better examples of both genres.<br /><br />More interesting is that The Ramrodder was filmed at the infamous Spahn Movie Ranch and features not one, but two members of the Manson family, Catherine Share and Bobby Beausoleil, who was probably already in the can for murder at the time this hit the soda-stained screens of the Pussycat Theater!\",\n",
       "  \"I read the book and saw the movie. Both excellent. The movie is diamond among coals during this era. Liebman and Selby dominate the screen and communicate the intensity of their characters without flaw. This film should have made them stars. Shame on the studio for not putting everything they had behind this film. It could have easily been a franchise. Release on DVD is a must and a worthy remake would revive this film. Look for it in your TV guide and if you see it listed, no matter how late, watch it. You won't be disappointed. Do yourself another favor - read the book (same title). It'll blow you away. Times have changed dramatically since those days, or at least we like to think they have.\",\n",
       "  \"Previous comment made me write this. It says that Muslims are blonde and Serbs are dark (because our blood is mixed). This comment just says that this opinion can be made by racist.Look,race is nothing.I'm color blind.I look like Pierce Brosnan but I'm no Irish. So what?I might add that I am not 100% Serb,that I have some Austrian and Croat blood within me but whats the point.I'm dark, half-breed?Is that so? Anyone using racial prejudices with such bad intent like Lantos(producer9and director is racist for me.Karadzhic, Izetbegovich, Milosevic, Tudjman they are all monsters and I blame them for destroying my life, my family, my country, Yuggoslavia. Hope they will be all in hell but that wont return our dead relatives back. I am proud of being Serb and I am proud of my cousins, Austrians,Croats,Muslims, Hungarians, Arabs (yes I am from Serbia and I have multiethnical family).This movie doesn't show sufferings of Serbs or Croats within Sarayevo,terrible terrorism of street gangs,Muslim extremism.I add: I kneel and pray for all innocent sisters and brothers Muslim,catholic or orthodox, killed in this war.This film is manipulation with our misery,false humanitarianism's which doesn't help at all.It helps Lantos to fill his pockets with more doe,alright!\",\n",
       "  'Entertaining musical where Nathan Detroit needs $1,000.00 to get up a floating crap game so he entices Sky Masterson to try and get salvation army girl, played by Jean Simmons, to go with Masterson to Havana.<br /><br />5 years later, Simmons would be in the missionary again in the fabulous \"Elmer Gantry.\" There she was sister Sharon and here she is Sister Sarah. Same temperament, different story.<br /><br />Frank Sinatra is that devilish Nathan Detroit. He has been engaged to Vivian Blaine for 14 years and she loathes his gambling habit.<br /><br />In a real change of pace, Sky Masterson was played by Marlon Brando who actually did his own singing here!<br /><br />The film is saved by superlative choreography. Those dance and singing routines are fabulous. They are especially realized by Stubby Kaye as Nicely Nicely (Johnson).<br /><br />All in all, it\\'s a very nice production.',\n",
       "  \"This movie is a brilliant lesson on Japanese history set in at the end of the Tokugawa Shogunate shortly before the Shogunate lost a big battle against the loyalist, who wanted the emperor back on the throne to rule Japan. Really, I had to read a lot of history to get the entire background.<br /><br />Shintaro Katsu (also known as the original Zatoichi) gives a superb performance as Izo Okada, one of the four Hitokiri(=Human Slayer) of the Bakumatsu. He is a simple samurai who looses all of his wealth. In order to have a good life he becomes a retainer of Takechi Hanpei (played by Tatsuya Nakada = Ryonosuke out of Sword of Doom). Hanpei is a ultra-nationalist politician who lets his band of Hitokiri assassinate a lot of high ranking pro-west politicians in order to achieve his political goals. Izo Okada follows his leader without really questioning what they are doing. As long as he has money to go and drink and spend at his whore. Okada's killings get more and more brutal in the course of the movie and he is proud to have a reputation based on fear wherever he goes. <br /><br />It is a splendid portrait on the life of a simple samurai who gets caught up in political affairs and is really to naive to realize what is happening. First after being betrayed and tortured and always having talks with Sakamoto ( who is a samurai who rejects violence) does he change his ideas and views on life. But too late....<br /><br />Watch the movie to see the end of Izo Okada...<br /><br />Shintaro Katsu and the rest of the staff give a brilliant performance. Each actor reaches up to their role. The sword-fights a very unique and fast...probably faster than several movies nowadays...<br /><br />Check it out if you have the chance!!!\",\n",
       "  \"I found this film embarrassing to watch. I felt like it was shoving the storyline down my throat as if I couldn't pick up the subtleties I needed a voice over to spell them all out for me constantly.<br /><br />Having a father who IS still an alcoholic, I didn't really feel it was a film about alcoholism as such. Alcoholics, true alcoholics are very lonely people inside, in my opinion of course. They find it hard to communicate, something that the main character had no problem with really, except he DID have a problem saying I love you at one point- which was a bit of a feeble effort at establishing his cold character. He was constantly surrounded with people too!? <br /><br />I felt cheated that at no point were we really alone with the character to really get a sense of his inner loneliness and turmoil. I couldn't connect with the character and felt no link at all considering my father. I felt nothing at all when it had finished, just relief it was over.<br /><br />Kevin McKidd is an okay actor but not a tough guy feature lead! The clockwork orange thing was as subtle as a brick. McKidd was too old for the teen, they should have got three different characters or avoided the teen stage and concentrated more on the adult McKidd.<br /><br />On a good note, I felt the little boy actor was really good at the start of the film!!\",\n",
       "  'I was adopted at birth and certainly did NOT have the problems Antwone fisher had in the movie, but I still share some of the emotions and this movie really helped to bring them out and force me to deal with them. It even caused me to realize that I do have a \"missing piece\" and I am going to seek out my birthparents now.<br /><br />I cried for almost a day after I saw this the first time. Antwone\\'s confrontation with his birthmother juxtaposed with his father\\'s family\\'s reaction to his sudden appearance are powerful for those of us who don\\'t know what will happen if we find our birth parents. And his self-confidence and self affirmations to his mother and against the abusers of his past were so powerful. I could really identify with this and my need to tell people \"yeah, I was put aside by my parents when I was born. BUT another set of parents picked me up and loved me. And now I am a success!\"<br /><br />It also helped my wife understand me and our adopted children, who did go through tragic experiences before they came to our home. And it helped me to realize just how messed up our social system is. If you remember reading the story last year about the foster kid in Florida who was \"lost\" AND then the \"Miranda & Ashley\" story in Oregon City where SCF ignored multiple sexual abuse complaints about the man who ultimately killed them AND the week this movie was released, yet another story in New Jersey of three kids who were ignored by the system. One died. The state apparently thought the home they were in was ok because the guardian was employed (as a stripper) and \"only occasionally\" used heroin!<br /><br />There are just so many issues that are brought out in this movie - and they are dealt with so well by the script and by the acting that Antwone Fisher should be a \"Best Picture\" nominee for sure. No matter if you are adopted or not, it is a heart-tugger that can\\'t be ignored by anyone concerned about children in our society.',\n",
       "  \"Unfortunately, SpaceCamp came out about the same time as the Challenger Explosion. Which really put a crimp on when to bring it out or even if they should, bring it out. I'm glad they did. I first watched SpaceCamp at a drive-in movie. Which really enhanced the viewing a lot.<br /><br />While I had heard of Lea Thompson and Tom Skerritt. I had never heard of the others in the movie. So, it came as a big shock to me to find all those youngsters acting, and acting real good! Of course, Kate Capshaw was excellent too.<br /><br />I especially liked the scenes, where those kids were being shown how to act, as a team. The scenes of the kids being prepared for a trip they could only hope for. The actual launch of a spacecraft, is of course, old news to us. However, this one was different.<br /><br />All in all, this is one of my most treasured films. Escapist maybe, but it was fantastic for a space nut like me. After probably renting it for 30 - 40 times. I finally found it available in a certain store and bought it. Now, if it only comes out on DVD. I will probably have it forever. This movie gets a 9 out of 10 from me.\",\n",
       "  \"This movie was pretty bad. Sci-fi is usually my favorite channel so I watch all the original movies that play on it. I really don't know if this movie can be called original. Starting a zoo/theme park on a remote island sounds pretty familiar. What was it, oh yeah, Jurassic Park. But this has Sabertooth tigers instead.<br /><br />The movie starts out with a few stereotypical college kids on an island doing some kind of treasure hunt. One of them ends up dieing a rather gruesome death with some of the worst special effects I've seen. The blood looked a lot like ketchup. Also at the beginning there is a scientist who wants to make as many saber tooth tigers as possible for people to enjoy. 3 of them have already escaped and are going around eating the tourists, or the people invited to the island to see the tigers first hand. Again, sound like Jurassic Park. Probably the coolest thing was the 1000lb saber tooth who crawled around on his front legs killing the mad scientist with a tooth statue of sorts that somehow shrinks and goes through the guys neck. Funniest death I've seen on TV.<br /><br />The acting is extremely cheesy, the special effects are horrible. The CG tigers could almost pass for clay models, and even some of the sounds were off. For instance, when one of the college students is trying to escape, he uses an ax to break down a door, the ax goes into the door and about 2 seconds later you hear the sound. This movie was pretty bad. The cheesy deaths were quite funny though.\",\n",
       "  'Russell, my fav, is gorgeous in this film. But more than that, the film covers a tremendous range of human passion and sorrow. Everything from marriage to homosexuality is addressed and respected. The film makes the viewer realize that tolerance of other humans provides the route to saving humanity. Fabulous love story between Lachlin and Lil. I replay their scenes over and over again. Anyone who has ever been in love will empathize with these people. All characters are cast and portrayed excellently.'],\n",
       " 'label': [0, 1, 0, 1, 1, 0, 1, 1, 0, 1]}"
      ]
     },
     "execution_count": 203,
     "metadata": {},
     "output_type": "execute_result"
    }
   ],
   "source": [
    "train_data[:10]"
   ]
  },
  {
   "cell_type": "markdown",
   "id": "c14f07f8",
   "metadata": {},
   "source": [
    "### Pre-Processing Data\n",
    "\n",
    "I first removed stop words from the reviews and then tokenized this data. I then used this tokenized data to create a vocab (with tokens that have min_freq=50). I then created the BOW vectors for each example based on this vocab. "
   ]
  },
  {
   "cell_type": "code",
   "execution_count": 204,
   "id": "30c348dd",
   "metadata": {},
   "outputs": [],
   "source": [
    "from torchtext.data.utils import get_tokenizer\n",
    "\n",
    "# use a standard english tokenizer\n",
    "tokenizer = get_tokenizer('basic_english')"
   ]
  },
  {
   "cell_type": "code",
   "execution_count": 205,
   "id": "927ddeab",
   "metadata": {},
   "outputs": [],
   "source": [
    "# function that tokenizes the data and removes stopwords\n",
    "def tokenize_data(ex):\n",
    "    stop_words = set(stopwords.words('english'))\n",
    "    tokens = tokenizer(ex['text'])\n",
    "    tokens_without_stopwords = [token for token in tokens if token not in stop_words]\n",
    "    return {'tokens': tokens_without_stopwords}"
   ]
  },
  {
   "cell_type": "code",
   "execution_count": 206,
   "id": "659170a1",
   "metadata": {},
   "outputs": [
    {
     "data": {
      "application/vnd.jupyter.widget-view+json": {
       "model_id": "becab4397eb347d781695439eda32a9e",
       "version_major": 2,
       "version_minor": 0
      },
      "text/plain": [
       "  0%|          | 0/25000 [00:00<?, ?ex/s]"
      ]
     },
     "metadata": {},
     "output_type": "display_data"
    },
    {
     "data": {
      "application/vnd.jupyter.widget-view+json": {
       "model_id": "f6cc25df748c4f66b1d3d5201cb0c2b0",
       "version_major": 2,
       "version_minor": 0
      },
      "text/plain": [
       "  0%|          | 0/25000 [00:00<?, ?ex/s]"
      ]
     },
     "metadata": {},
     "output_type": "display_data"
    }
   ],
   "source": [
    "train_data = train_data.map(tokenize_data)\n",
    "test_data = test_data.map(tokenize_data)"
   ]
  },
  {
   "cell_type": "code",
   "execution_count": 207,
   "id": "159d4025",
   "metadata": {},
   "outputs": [
    {
     "data": {
      "text/plain": [
       "(Dataset({\n",
       "     features: ['text', 'label', 'tokens'],\n",
       "     num_rows: 25000\n",
       " }),\n",
       " Dataset({\n",
       "     features: ['text', 'label', 'tokens'],\n",
       "     num_rows: 25000\n",
       " }))"
      ]
     },
     "execution_count": 207,
     "metadata": {},
     "output_type": "execute_result"
    }
   ],
   "source": [
    "train_data, test_data"
   ]
  },
  {
   "cell_type": "code",
   "execution_count": 208,
   "id": "3b06aaff",
   "metadata": {},
   "outputs": [],
   "source": [
    "#Documentation: https://huggingface.co/docs/datasets/v2.4.0/en/package_reference/main_classes#datasets.Dataset.train_test_split\n",
    "# split the training data into training and validation data\n",
    "train_valid_data = train_data.train_test_split() # default test_size is 0.25\n",
    "train_data = train_valid_data['train']\n",
    "valid_data = train_valid_data['test']"
   ]
  },
  {
   "cell_type": "code",
   "execution_count": 209,
   "id": "daad8f9c",
   "metadata": {},
   "outputs": [
    {
     "data": {
      "text/plain": [
       "(Dataset({\n",
       "     features: ['text', 'label', 'tokens'],\n",
       "     num_rows: 18750\n",
       " }),\n",
       " Dataset({\n",
       "     features: ['text', 'label', 'tokens'],\n",
       "     num_rows: 6250\n",
       " }),\n",
       " Dataset({\n",
       "     features: ['text', 'label', 'tokens'],\n",
       "     num_rows: 25000\n",
       " }))"
      ]
     },
     "execution_count": 209,
     "metadata": {},
     "output_type": "execute_result"
    }
   ],
   "source": [
    "train_data, valid_data, test_data"
   ]
  },
  {
   "cell_type": "code",
   "execution_count": 210,
   "id": "9a2b5724",
   "metadata": {},
   "outputs": [],
   "source": [
    "from torchtext.vocab import Vocab, build_vocab_from_iterator\n",
    "\n",
    "UNK_IDX, PAD_IDX = 0, 1\n",
    "special_symbols = ['<unk>', '<pad>']\n",
    "\n",
    "# build vocab from the text tokens from training data\n",
    "vocab = build_vocab_from_iterator(train_data['tokens'], min_freq = 50, specials = special_symbols)\n",
    "#vocab = build_vocab_from_iterator(train_data['tokens'], max_tokens = 32, specials = special_symbols)\n",
    "\n",
    "# set unknown index as the default\n",
    "vocab.set_default_index(UNK_IDX)"
   ]
  },
  {
   "cell_type": "code",
   "execution_count": 211,
   "id": "abebf1a9",
   "metadata": {},
   "outputs": [],
   "source": [
    "# save the vocab object\n",
    "torch.save(vocab, 'BOW_vocab.pth')"
   ]
  },
  {
   "cell_type": "code",
   "execution_count": 212,
   "id": "157aa544",
   "metadata": {},
   "outputs": [
    {
     "data": {
      "text/plain": [
       "5705"
      ]
     },
     "execution_count": 212,
     "metadata": {},
     "output_type": "execute_result"
    }
   ],
   "source": [
    "len(vocab)"
   ]
  },
  {
   "cell_type": "code",
   "execution_count": 184,
   "id": "636097e7",
   "metadata": {},
   "outputs": [
    {
     "data": {
      "text/plain": [
       "['<unk>',\n",
       " '<pad>',\n",
       " '.',\n",
       " ',',\n",
       " \"'\",\n",
       " 'movie',\n",
       " 'film',\n",
       " ')',\n",
       " '(',\n",
       " 'one',\n",
       " '!',\n",
       " 'like',\n",
       " '?',\n",
       " 'good',\n",
       " 'even',\n",
       " 'would',\n",
       " 'time',\n",
       " 'story',\n",
       " 'really',\n",
       " 'see',\n",
       " 'well',\n",
       " '-',\n",
       " 'much',\n",
       " 'get',\n",
       " 'people',\n",
       " 'bad',\n",
       " 'also',\n",
       " 'great',\n",
       " 'first',\n",
       " 'made']"
      ]
     },
     "execution_count": 184,
     "metadata": {},
     "output_type": "execute_result"
    }
   ],
   "source": [
    "vocab.get_itos()[:30]"
   ]
  },
  {
   "cell_type": "code",
   "execution_count": 213,
   "id": "a9cf4150",
   "metadata": {},
   "outputs": [],
   "source": [
    "def transform_tokens_bow(ex):\n",
    "  bow = torch.zeros(len(vocab))\n",
    "  c = 0 \n",
    "  for token in ex['tokens']:\n",
    "    bow[vocab[token]] += 1\n",
    "    c += 1\n",
    "  bow = {'bow': bow/c}\n",
    "  return bow"
   ]
  },
  {
   "cell_type": "code",
   "execution_count": 214,
   "id": "16b3a0da",
   "metadata": {},
   "outputs": [
    {
     "data": {
      "application/vnd.jupyter.widget-view+json": {
       "model_id": "dbe1871875d341ada478f266b71b3de2",
       "version_major": 2,
       "version_minor": 0
      },
      "text/plain": [
       "  0%|          | 0/18750 [00:00<?, ?ex/s]"
      ]
     },
     "metadata": {},
     "output_type": "display_data"
    },
    {
     "data": {
      "application/vnd.jupyter.widget-view+json": {
       "model_id": "54e66f53009243e1a772f3244a9cf4ad",
       "version_major": 2,
       "version_minor": 0
      },
      "text/plain": [
       "  0%|          | 0/6250 [00:00<?, ?ex/s]"
      ]
     },
     "metadata": {},
     "output_type": "display_data"
    },
    {
     "data": {
      "application/vnd.jupyter.widget-view+json": {
       "model_id": "1e75968f87c5457b8cc1f2276c40f272",
       "version_major": 2,
       "version_minor": 0
      },
      "text/plain": [
       "  0%|          | 0/25000 [00:00<?, ?ex/s]"
      ]
     },
     "metadata": {},
     "output_type": "display_data"
    }
   ],
   "source": [
    "train_data = train_data.map(transform_tokens_bow)\n",
    "valid_data = valid_data.map(transform_tokens_bow)\n",
    "test_data = test_data.map(transform_tokens_bow)"
   ]
  },
  {
   "cell_type": "code",
   "execution_count": 215,
   "id": "c484d7ef",
   "metadata": {},
   "outputs": [
    {
     "data": {
      "text/plain": [
       "(Dataset({\n",
       "     features: ['text', 'label', 'tokens', 'bow'],\n",
       "     num_rows: 18750\n",
       " }),\n",
       " Dataset({\n",
       "     features: ['text', 'label', 'tokens', 'bow'],\n",
       "     num_rows: 6250\n",
       " }),\n",
       " Dataset({\n",
       "     features: ['text', 'label', 'tokens', 'bow'],\n",
       "     num_rows: 25000\n",
       " }))"
      ]
     },
     "execution_count": 215,
     "metadata": {},
     "output_type": "execute_result"
    }
   ],
   "source": [
    "train_data, valid_data, test_data"
   ]
  },
  {
   "cell_type": "markdown",
   "id": "eacedec4",
   "metadata": {},
   "source": [
    "### Collate into Batches\n",
    "\n",
    "This will be the collate function to group the data into batches for the dataloader. "
   ]
  },
  {
   "cell_type": "code",
   "execution_count": 217,
   "id": "dbc76f44",
   "metadata": {},
   "outputs": [],
   "source": [
    "# collate function to put examples in batches \n",
    "def collate_batch(batch):\n",
    "    batch_bows, batch_labels = [], []\n",
    "\n",
    "    for b in batch: \n",
    "        batch_bows.append(torch.tensor(b['bow'])) # all bow vectors should be the same length (len of vocab)\n",
    "        batch_labels.append(torch.tensor(b['label']))\n",
    "\n",
    "    batch_bows = torch.stack(batch_bows)\n",
    "    batch_labels = torch.stack(batch_labels)\n",
    "\n",
    "    batch = {'bows': batch_bows,\n",
    "           'labels': batch_labels}\n",
    "\n",
    "    return batch"
   ]
  },
  {
   "cell_type": "markdown",
   "id": "31c7238b",
   "metadata": {},
   "source": [
    "### Training an Epoch\n",
    "\n",
    "This is the basic training model where the BOW vector is passed into the model and the gradients and weights are changed each iteration. Training is done with the Adam optimization algorithm, which is an extension to SGD."
   ]
  },
  {
   "cell_type": "code",
   "execution_count": 218,
   "id": "e51b7bb5",
   "metadata": {},
   "outputs": [],
   "source": [
    "def get_accuracy(predictions, actual_labels):\n",
    "    batch_size = predictions.shape[0]\n",
    "    predicted_labels = predictions.argmax(1)\n",
    "    num_correct = (predicted_labels == actual_labels).sum()\n",
    "    accuracy = num_correct / batch_size\n",
    "    return accuracy"
   ]
  },
  {
   "cell_type": "code",
   "execution_count": 219,
   "id": "01189018",
   "metadata": {},
   "outputs": [],
   "source": [
    "def train(dataloader):\n",
    "    model.train()\n",
    "\n",
    "    epoch_loss, epoch_accuracy = 0, 0\n",
    "\n",
    "    for idx, batch in enumerate(dataloader):\n",
    "        token_bows = batch['bows']\n",
    "        labels = batch['labels']\n",
    "        model.zero_grad()\n",
    "        predictions = model(token_bows)\n",
    "        loss = criterion(predictions, labels)\n",
    "        accuracy = get_accuracy(predictions, labels)\n",
    "        loss.backward()\n",
    "        optimizer.step()\n",
    "        epoch_loss += loss.item()\n",
    "        epoch_accuracy += accuracy.item()\n",
    "\n",
    "    return epoch_loss / len(dataloader), epoch_accuracy / len(dataloader)"
   ]
  },
  {
   "cell_type": "code",
   "execution_count": 220,
   "id": "823760a9",
   "metadata": {},
   "outputs": [],
   "source": [
    "def evaluate(dataloader):\n",
    "    model.eval()\n",
    "\n",
    "    epoch_loss, epoch_accuracy = 0, 0\n",
    "\n",
    "    with torch.no_grad():\n",
    "        for idx, batch in enumerate(dataloader):\n",
    "            token_bows = batch['bows']\n",
    "            labels = batch['labels']\n",
    "            predictions = model(token_bows)\n",
    "            loss = criterion(predictions, labels)\n",
    "            accuracy = get_accuracy(predictions, labels)\n",
    "            epoch_loss += loss.item()\n",
    "            epoch_accuracy += accuracy.item()\n",
    "\n",
    "    return epoch_loss / len(dataloader), epoch_accuracy / len(dataloader)"
   ]
  },
  {
   "cell_type": "code",
   "execution_count": 221,
   "id": "441c3e7b",
   "metadata": {},
   "outputs": [],
   "source": [
    "import time\n",
    "\n",
    "def epoch_time(start_time, end_time):\n",
    "    elapsed_time = end_time - start_time\n",
    "    elapsed_mins = int(elapsed_time / 60)\n",
    "    elapsed_secs = int(elapsed_time - (elapsed_mins * 60))\n",
    "    return elapsed_mins, elapsed_secs"
   ]
  },
  {
   "cell_type": "markdown",
   "id": "f37c2d19",
   "metadata": {},
   "source": [
    "### BOW Classifier Class\n",
    "\n",
    "This is the base model with just a simple BOW model. The final and only layer is just a linear layer that provides the predictions/scores of positive or negative labels.\n"
   ]
  },
  {
   "cell_type": "code",
   "execution_count": 216,
   "id": "ebd2e873",
   "metadata": {},
   "outputs": [],
   "source": [
    "# SIMPLE BOW CLASSIFIER\n",
    "\n",
    "from torch import nn\n",
    "import torch.nn.functional as F\n",
    "\n",
    "class BoWClassifier(nn.Module):\n",
    "# I referred to this tutorial for help: https://pytorch.org/tutorials/beginner/nlp/deep_learning_tutorial.html#sphx-glr-beginner-nlp-deep-learning-tutorial-py\n",
    "    def __init__(self, num_labels, vocab_size):\n",
    "        super(BoWClassifier, self).__init__()\n",
    "        self.linear = nn.Linear(vocab_size, num_labels)\n",
    "    def forward(self, bow_vec):\n",
    "        # pass through linear layer\n",
    "        return self.linear(bow_vec)"
   ]
  },
  {
   "cell_type": "markdown",
   "id": "226def8e",
   "metadata": {},
   "source": [
    "### Fine Tuning BOW Parameters\n",
    "\n",
    "I tinkered with the parameters and put a comment at the top of the cell of the parameters I was testing out. The final BOW model with the final parameters chosen is shown at the very bottom of this notebook. "
   ]
  },
  {
   "cell_type": "code",
   "execution_count": 39,
   "id": "0507beb2",
   "metadata": {},
   "outputs": [
    {
     "name": "stdout",
     "output_type": "stream",
     "text": [
      "Epoch: 01 | Time: 0m 19s\n",
      "train_loss: 0.693, train_acc: 0.497\n",
      "valid_loss: 0.693, valid_acc: 0.507\n",
      "test loss: 0.693, test_acc: 0.500\n",
      "Epoch: 02 | Time: 0m 19s\n",
      "train_loss: 0.693, train_acc: 0.497\n",
      "valid_loss: 0.693, valid_acc: 0.507\n",
      "test loss: 0.693, test_acc: 0.500\n",
      "Epoch: 03 | Time: 0m 18s\n",
      "train_loss: 0.693, train_acc: 0.497\n",
      "valid_loss: 0.693, valid_acc: 0.507\n",
      "test loss: 0.693, test_acc: 0.500\n",
      "Epoch: 04 | Time: 0m 17s\n",
      "train_loss: 0.693, train_acc: 0.497\n",
      "valid_loss: 0.693, valid_acc: 0.507\n",
      "test loss: 0.693, test_acc: 0.500\n",
      "Epoch: 05 | Time: 0m 17s\n",
      "train_loss: 0.693, train_acc: 0.497\n",
      "valid_loss: 0.693, valid_acc: 0.507\n",
      "test loss: 0.693, test_acc: 0.500\n",
      "Epoch: 06 | Time: 0m 17s\n",
      "train_loss: 0.693, train_acc: 0.497\n",
      "valid_loss: 0.693, valid_acc: 0.507\n",
      "test loss: 0.693, test_acc: 0.500\n",
      "Epoch: 07 | Time: 0m 18s\n",
      "train_loss: 0.693, train_acc: 0.497\n",
      "valid_loss: 0.693, valid_acc: 0.507\n",
      "test loss: 0.693, test_acc: 0.500\n",
      "Epoch: 08 | Time: 0m 18s\n",
      "train_loss: 0.693, train_acc: 0.497\n",
      "valid_loss: 0.693, valid_acc: 0.507\n",
      "test loss: 0.693, test_acc: 0.500\n",
      "Epoch: 09 | Time: 0m 17s\n",
      "train_loss: 0.693, train_acc: 0.497\n",
      "valid_loss: 0.693, valid_acc: 0.507\n",
      "test loss: 0.693, test_acc: 0.500\n",
      "Epoch: 10 | Time: 0m 18s\n",
      "train_loss: 0.693, train_acc: 0.497\n",
      "valid_loss: 0.693, valid_acc: 0.507\n",
      "test loss: 0.693, test_acc: 0.500\n",
      "Epoch: 11 | Time: 0m 17s\n",
      "train_loss: 0.693, train_acc: 0.497\n",
      "valid_loss: 0.693, valid_acc: 0.507\n",
      "test loss: 0.693, test_acc: 0.500\n",
      "Epoch: 12 | Time: 0m 18s\n",
      "train_loss: 0.693, train_acc: 0.497\n",
      "valid_loss: 0.693, valid_acc: 0.507\n",
      "test loss: 0.693, test_acc: 0.500\n",
      "Epoch: 13 | Time: 0m 18s\n",
      "train_loss: 0.693, train_acc: 0.497\n",
      "valid_loss: 0.693, valid_acc: 0.507\n",
      "test loss: 0.693, test_acc: 0.500\n",
      "Epoch: 14 | Time: 0m 17s\n",
      "train_loss: 0.693, train_acc: 0.497\n",
      "valid_loss: 0.693, valid_acc: 0.507\n",
      "test loss: 0.693, test_acc: 0.500\n",
      "Epoch: 15 | Time: 0m 19s\n",
      "train_loss: 0.693, train_acc: 0.497\n",
      "valid_loss: 0.693, valid_acc: 0.507\n",
      "test loss: 0.693, test_acc: 0.500\n"
     ]
    },
    {
     "data": {
      "text/plain": [
       "<matplotlib.legend.Legend at 0x7f8a264644c0>"
      ]
     },
     "execution_count": 39,
     "metadata": {},
     "output_type": "execute_result"
    },
    {
     "data": {
      "image/png": "[encoded data removed]",
      "text/plain": [
       "<Figure size 432x288 with 1 Axes>"
      ]
     },
     "metadata": {
      "needs_background": "light"
     },
     "output_type": "display_data"
    }
   ],
   "source": [
    "# BOW (with vocab min freq = 1000 and batch size = 500 and lr=0.1)\n",
    "\n",
    "N_EPOCHS = 15\n",
    "best_valid_loss = float('inf')\n",
    "\n",
    "valid_accuracies = []\n",
    "train_accuracies = []\n",
    "test_accuracies = []\n",
    "\n",
    "for epoch in range(N_EPOCHS):\n",
    "  \n",
    "    start_time = time.time()\n",
    "\n",
    "    train_loss, train_acc = train(train_dataloader)\n",
    "    valid_loss, valid_acc = evaluate(valid_dataloader)\n",
    "    test_loss, test_acc = evaluate(test_dataloader)\n",
    "\n",
    "    end_time = time.time()\n",
    "\n",
    "    valid_accuracies.append(valid_acc)\n",
    "    train_accuracies.append(train_acc)\n",
    "    test_accuracies.append(test_acc)\n",
    "\n",
    "    epoch_mins, epoch_secs = epoch_time(start_time, end_time)\n",
    "\n",
    "    # save the best model\n",
    "    if valid_loss < best_valid_loss:\n",
    "        best_valid_loss = valid_loss\n",
    "        torch.save(model.state_dict(), 'tut2-model.pt')\n",
    "\n",
    "    print(f'Epoch: {epoch+1:02} | Time: {epoch_mins}m {epoch_secs}s')\n",
    "    print(f'train_loss: {train_loss:.3f}, train_acc: {train_acc:.3f}')\n",
    "    print(f'valid_loss: {valid_loss:.3f}, valid_acc: {valid_acc:.3f}')\n",
    "    print(f'test loss: {test_loss:.3f}, test_acc: {test_acc:.3f}')\n",
    "\n",
    "plt.title('BOW Classifier for Full Review')\n",
    "plt.plot(range(1, N_EPOCHS+1), valid_accuracies, label = 'validation accuracy')\n",
    "plt.plot(range(1, N_EPOCHS+1), train_accuracies, label = 'training accuracy')\n",
    "plt.plot(range(1, N_EPOCHS+1), test_accuracies, label = 'test accuracy')\n",
    "plt.legend(loc=\"upper left\")"
   ]
  },
  {
   "cell_type": "code",
   "execution_count": 61,
   "id": "65a7c22a",
   "metadata": {},
   "outputs": [
    {
     "name": "stdout",
     "output_type": "stream",
     "text": [
      "Epoch: 01 | Time: 2m 10s\n",
      "train_loss: 0.588, train_acc: 0.756\n",
      "valid_loss: 0.504, valid_acc: 0.836\n",
      "test loss: 0.509, test_acc: 0.836\n",
      "Epoch: 02 | Time: 2m 3s\n",
      "train_loss: 0.445, train_acc: 0.865\n",
      "valid_loss: 0.422, valid_acc: 0.864\n",
      "test loss: 0.430, test_acc: 0.856\n",
      "Epoch: 03 | Time: 2m 3s\n",
      "train_loss: 0.378, train_acc: 0.883\n",
      "valid_loss: 0.379, valid_acc: 0.872\n",
      "test loss: 0.390, test_acc: 0.864\n",
      "Epoch: 04 | Time: 2m 3s\n",
      "train_loss: 0.338, train_acc: 0.895\n",
      "valid_loss: 0.353, valid_acc: 0.877\n",
      "test loss: 0.365, test_acc: 0.869\n",
      "Epoch: 05 | Time: 2m 9s\n",
      "train_loss: 0.310, train_acc: 0.902\n",
      "valid_loss: 0.336, valid_acc: 0.880\n",
      "test loss: 0.348, test_acc: 0.872\n",
      "Epoch: 06 | Time: 2m 9s\n",
      "train_loss: 0.290, train_acc: 0.908\n",
      "valid_loss: 0.323, valid_acc: 0.881\n",
      "test loss: 0.336, test_acc: 0.874\n",
      "Epoch: 07 | Time: 2m 11s\n",
      "train_loss: 0.273, train_acc: 0.912\n",
      "valid_loss: 0.313, valid_acc: 0.881\n",
      "test loss: 0.327, test_acc: 0.875\n",
      "Epoch: 08 | Time: 2m 2s\n",
      "train_loss: 0.260, train_acc: 0.917\n",
      "valid_loss: 0.306, valid_acc: 0.881\n",
      "test loss: 0.320, test_acc: 0.876\n",
      "Epoch: 09 | Time: 2m 4s\n",
      "train_loss: 0.249, train_acc: 0.920\n",
      "valid_loss: 0.301, valid_acc: 0.881\n",
      "test loss: 0.315, test_acc: 0.876\n",
      "Epoch: 10 | Time: 2m 5s\n",
      "train_loss: 0.239, train_acc: 0.924\n",
      "valid_loss: 0.296, valid_acc: 0.882\n",
      "test loss: 0.311, test_acc: 0.876\n",
      "Epoch: 11 | Time: 2m 4s\n",
      "train_loss: 0.231, train_acc: 0.926\n",
      "valid_loss: 0.293, valid_acc: 0.884\n",
      "test loss: 0.307, test_acc: 0.877\n",
      "Epoch: 12 | Time: 2m 3s\n",
      "train_loss: 0.223, train_acc: 0.928\n",
      "valid_loss: 0.290, valid_acc: 0.885\n",
      "test loss: 0.305, test_acc: 0.877\n",
      "Epoch: 13 | Time: 2m 5s\n",
      "train_loss: 0.216, train_acc: 0.932\n",
      "valid_loss: 0.288, valid_acc: 0.885\n",
      "test loss: 0.303, test_acc: 0.877\n",
      "Epoch: 14 | Time: 2m 2s\n",
      "train_loss: 0.210, train_acc: 0.933\n",
      "valid_loss: 0.286, valid_acc: 0.886\n",
      "test loss: 0.301, test_acc: 0.877\n",
      "Epoch: 15 | Time: 2m 4s\n",
      "train_loss: 0.205, train_acc: 0.936\n",
      "valid_loss: 0.285, valid_acc: 0.886\n",
      "test loss: 0.300, test_acc: 0.877\n"
     ]
    },
    {
     "data": {
      "text/plain": [
       "<matplotlib.legend.Legend at 0x7f8a17a86400>"
      ]
     },
     "execution_count": 61,
     "metadata": {},
     "output_type": "execute_result"
    },
    {
     "data": {
      "image/png": "[encoded data removed]",
      "text/plain": [
       "<Figure size 432x288 with 1 Axes>"
      ]
     },
     "metadata": {
      "needs_background": "light"
     },
     "output_type": "display_data"
    }
   ],
   "source": [
    "# BOW (with vocab min freq = 50 and batch size = 500 and lr=0.1)\n",
    "\n",
    "N_EPOCHS = 15\n",
    "best_valid_loss = float('inf')\n",
    "\n",
    "valid_accuracies = []\n",
    "train_accuracies = []\n",
    "test_accuracies = []\n",
    "\n",
    "for epoch in range(N_EPOCHS):\n",
    "  \n",
    "    start_time = time.time()\n",
    "\n",
    "    train_loss, train_acc = train(train_dataloader)\n",
    "    valid_loss, valid_acc = evaluate(valid_dataloader)\n",
    "    test_loss, test_acc = evaluate(test_dataloader)\n",
    "\n",
    "    end_time = time.time()\n",
    "\n",
    "    valid_accuracies.append(valid_acc)\n",
    "    train_accuracies.append(train_acc)\n",
    "    test_accuracies.append(test_acc)\n",
    "\n",
    "    epoch_mins, epoch_secs = epoch_time(start_time, end_time)\n",
    "\n",
    "    # save the best model\n",
    "    if valid_loss < best_valid_loss:\n",
    "        best_valid_loss = valid_loss\n",
    "        torch.save(model.state_dict(), 'tut2-model.pt')\n",
    "\n",
    "    print(f'Epoch: {epoch+1:02} | Time: {epoch_mins}m {epoch_secs}s')\n",
    "    print(f'train_loss: {train_loss:.3f}, train_acc: {train_acc:.3f}')\n",
    "    print(f'valid_loss: {valid_loss:.3f}, valid_acc: {valid_acc:.3f}')\n",
    "    print(f'test loss: {test_loss:.3f}, test_acc: {test_acc:.3f}')\n",
    "\n",
    "plt.title('BOW Classifier for Full Review')\n",
    "plt.plot(range(1, N_EPOCHS+1), valid_accuracies, label = 'validation accuracy')\n",
    "plt.plot(range(1, N_EPOCHS+1), train_accuracies, label = 'training accuracy')\n",
    "plt.plot(range(1, N_EPOCHS+1), test_accuracies, label = 'test accuracy')\n",
    "plt.legend(loc=\"upper left\")"
   ]
  },
  {
   "cell_type": "code",
   "execution_count": 90,
   "id": "8fedf97b",
   "metadata": {},
   "outputs": [
    {
     "name": "stdout",
     "output_type": "stream",
     "text": [
      "Epoch: 01 | Time: 1m 9s\n",
      "train_loss: 0.506, train_acc: 0.802\n",
      "valid_loss: 0.410, valid_acc: 0.845\n",
      "test loss: 0.408, test_acc: 0.856\n",
      "Epoch: 02 | Time: 1m 9s\n",
      "train_loss: 0.356, train_acc: 0.878\n",
      "valid_loss: 0.352, valid_acc: 0.863\n",
      "test loss: 0.349, test_acc: 0.871\n",
      "Epoch: 03 | Time: 1m 8s\n",
      "train_loss: 0.307, train_acc: 0.891\n",
      "valid_loss: 0.327, valid_acc: 0.869\n",
      "test loss: 0.323, test_acc: 0.875\n",
      "Epoch: 04 | Time: 1m 12s\n",
      "train_loss: 0.279, train_acc: 0.900\n",
      "valid_loss: 0.315, valid_acc: 0.872\n",
      "test loss: 0.310, test_acc: 0.878\n",
      "Epoch: 05 | Time: 1m 14s\n",
      "train_loss: 0.261, train_acc: 0.906\n",
      "valid_loss: 0.307, valid_acc: 0.873\n",
      "test loss: 0.302, test_acc: 0.879\n",
      "Epoch: 06 | Time: 1m 16s\n",
      "train_loss: 0.248, train_acc: 0.912\n",
      "valid_loss: 0.303, valid_acc: 0.875\n",
      "test loss: 0.298, test_acc: 0.879\n",
      "Epoch: 07 | Time: 1m 13s\n",
      "train_loss: 0.237, train_acc: 0.915\n",
      "valid_loss: 0.301, valid_acc: 0.876\n",
      "test loss: 0.296, test_acc: 0.879\n",
      "Epoch: 08 | Time: 1m 10s\n",
      "train_loss: 0.229, train_acc: 0.919\n",
      "valid_loss: 0.300, valid_acc: 0.877\n",
      "test loss: 0.294, test_acc: 0.879\n",
      "Epoch: 09 | Time: 1m 13s\n",
      "train_loss: 0.222, train_acc: 0.921\n",
      "valid_loss: 0.300, valid_acc: 0.875\n",
      "test loss: 0.294, test_acc: 0.878\n",
      "Epoch: 10 | Time: 1m 12s\n",
      "train_loss: 0.216, train_acc: 0.924\n",
      "valid_loss: 0.300, valid_acc: 0.876\n",
      "test loss: 0.295, test_acc: 0.878\n",
      "Epoch: 11 | Time: 1m 15s\n",
      "train_loss: 0.211, train_acc: 0.925\n",
      "valid_loss: 0.301, valid_acc: 0.875\n",
      "test loss: 0.296, test_acc: 0.878\n",
      "Epoch: 12 | Time: 1m 10s\n",
      "train_loss: 0.206, train_acc: 0.927\n",
      "valid_loss: 0.302, valid_acc: 0.874\n",
      "test loss: 0.297, test_acc: 0.878\n",
      "Epoch: 13 | Time: 1m 13s\n",
      "train_loss: 0.202, train_acc: 0.928\n",
      "valid_loss: 0.304, valid_acc: 0.873\n",
      "test loss: 0.298, test_acc: 0.877\n",
      "Epoch: 14 | Time: 1m 14s\n",
      "train_loss: 0.198, train_acc: 0.930\n",
      "valid_loss: 0.306, valid_acc: 0.872\n",
      "test loss: 0.300, test_acc: 0.876\n",
      "Epoch: 15 | Time: 1m 13s\n",
      "train_loss: 0.195, train_acc: 0.931\n",
      "valid_loss: 0.308, valid_acc: 0.872\n",
      "test loss: 0.302, test_acc: 0.875\n"
     ]
    },
    {
     "data": {
      "text/plain": [
       "<matplotlib.legend.Legend at 0x7f8a4080f2e0>"
      ]
     },
     "execution_count": 90,
     "metadata": {},
     "output_type": "execute_result"
    },
    {
     "data": {
      "image/png": "[encoded data removed]",
      "text/plain": [
       "<Figure size 432x288 with 1 Axes>"
      ]
     },
     "metadata": {
      "needs_background": "light"
     },
     "output_type": "display_data"
    }
   ],
   "source": [
    "# BOW (with vocab min freq = 100 and batch size = 128 and lr=0.1)\n",
    "\n",
    "N_EPOCHS = 15\n",
    "best_valid_loss = float('inf')\n",
    "\n",
    "valid_accuracies = []\n",
    "train_accuracies = []\n",
    "test_accuracies = []\n",
    "\n",
    "for epoch in range(N_EPOCHS):\n",
    "  \n",
    "    start_time = time.time()\n",
    "\n",
    "    train_loss, train_acc = train(train_dataloader)\n",
    "    valid_loss, valid_acc = evaluate(valid_dataloader)\n",
    "    test_loss, test_acc = evaluate(test_dataloader)\n",
    "\n",
    "    end_time = time.time()\n",
    "\n",
    "    valid_accuracies.append(valid_acc)\n",
    "    train_accuracies.append(train_acc)\n",
    "    test_accuracies.append(test_acc)\n",
    "\n",
    "    epoch_mins, epoch_secs = epoch_time(start_time, end_time)\n",
    "\n",
    "    # save the best model\n",
    "    if valid_loss < best_valid_loss:\n",
    "        best_valid_loss = valid_loss\n",
    "        torch.save(model.state_dict(), 'tut2-model.pt')\n",
    "\n",
    "    print(f'Epoch: {epoch+1:02} | Time: {epoch_mins}m {epoch_secs}s')\n",
    "    print(f'train_loss: {train_loss:.3f}, train_acc: {train_acc:.3f}')\n",
    "    print(f'valid_loss: {valid_loss:.3f}, valid_acc: {valid_acc:.3f}')\n",
    "    print(f'test loss: {test_loss:.3f}, test_acc: {test_acc:.3f}')\n",
    "\n",
    "plt.title('BOW Classifier for Full Review')\n",
    "plt.plot(range(1, N_EPOCHS+1), valid_accuracies, label = 'validation accuracy')\n",
    "plt.plot(range(1, N_EPOCHS+1), train_accuracies, label = 'training accuracy')\n",
    "plt.plot(range(1, N_EPOCHS+1), test_accuracies, label = 'test accuracy')\n",
    "plt.legend(loc=\"upper left\")"
   ]
  },
  {
   "cell_type": "code",
   "execution_count": 117,
   "id": "936f2123",
   "metadata": {},
   "outputs": [
    {
     "name": "stdout",
     "output_type": "stream",
     "text": [
      "Epoch: 01 | Time: 1m 56s\n",
      "train_loss: 0.496, train_acc: 0.820\n",
      "valid_loss: 0.398, valid_acc: 0.864\n",
      "test loss: 0.400, test_acc: 0.866\n",
      "Epoch: 02 | Time: 2m 2s\n",
      "train_loss: 0.339, train_acc: 0.888\n",
      "valid_loss: 0.338, valid_acc: 0.877\n",
      "test loss: 0.342, test_acc: 0.876\n",
      "Epoch: 03 | Time: 1m 58s\n",
      "train_loss: 0.287, train_acc: 0.904\n",
      "valid_loss: 0.312, valid_acc: 0.882\n",
      "test loss: 0.318, test_acc: 0.881\n",
      "Epoch: 04 | Time: 1m 58s\n",
      "train_loss: 0.257, train_acc: 0.914\n",
      "valid_loss: 0.298, valid_acc: 0.886\n",
      "test loss: 0.305, test_acc: 0.882\n",
      "Epoch: 05 | Time: 1m 59s\n",
      "train_loss: 0.236, train_acc: 0.921\n",
      "valid_loss: 0.289, valid_acc: 0.887\n",
      "test loss: 0.298, test_acc: 0.883\n",
      "Epoch: 06 | Time: 2m 0s\n",
      "train_loss: 0.220, train_acc: 0.927\n",
      "valid_loss: 0.284, valid_acc: 0.889\n",
      "test loss: 0.294, test_acc: 0.883\n",
      "Epoch: 07 | Time: 2m 11s\n",
      "train_loss: 0.208, train_acc: 0.932\n",
      "valid_loss: 0.281, valid_acc: 0.888\n",
      "test loss: 0.293, test_acc: 0.882\n",
      "Epoch: 08 | Time: 2m 9s\n",
      "train_loss: 0.198, train_acc: 0.937\n",
      "valid_loss: 0.280, valid_acc: 0.889\n",
      "test loss: 0.292, test_acc: 0.882\n",
      "Epoch: 09 | Time: 2m 7s\n",
      "train_loss: 0.189, train_acc: 0.940\n",
      "valid_loss: 0.279, valid_acc: 0.889\n",
      "test loss: 0.293, test_acc: 0.881\n",
      "Epoch: 10 | Time: 2m 12s\n",
      "train_loss: 0.181, train_acc: 0.944\n",
      "valid_loss: 0.279, valid_acc: 0.888\n",
      "test loss: 0.294, test_acc: 0.881\n",
      "Epoch: 11 | Time: 2m 11s\n",
      "train_loss: 0.175, train_acc: 0.946\n",
      "valid_loss: 0.280, valid_acc: 0.888\n",
      "test loss: 0.296, test_acc: 0.880\n",
      "Epoch: 12 | Time: 2m 11s\n",
      "train_loss: 0.169, train_acc: 0.948\n",
      "valid_loss: 0.280, valid_acc: 0.888\n",
      "test loss: 0.298, test_acc: 0.878\n",
      "Epoch: 13 | Time: 2m 10s\n",
      "train_loss: 0.163, train_acc: 0.951\n",
      "valid_loss: 0.282, valid_acc: 0.888\n",
      "test loss: 0.300, test_acc: 0.878\n",
      "Epoch: 14 | Time: 2m 8s\n",
      "train_loss: 0.158, train_acc: 0.953\n",
      "valid_loss: 0.283, valid_acc: 0.888\n",
      "test loss: 0.302, test_acc: 0.877\n",
      "Epoch: 15 | Time: 2m 13s\n",
      "train_loss: 0.154, train_acc: 0.955\n",
      "valid_loss: 0.285, valid_acc: 0.887\n",
      "test loss: 0.305, test_acc: 0.876\n"
     ]
    },
    {
     "data": {
      "text/plain": [
       "<matplotlib.legend.Legend at 0x7f8a40718820>"
      ]
     },
     "execution_count": 117,
     "metadata": {},
     "output_type": "execute_result"
    },
    {
     "data": {
      "image/png": "[encoded data removed]",
      "text/plain": [
       "<Figure size 432x288 with 1 Axes>"
      ]
     },
     "metadata": {
      "needs_background": "light"
     },
     "output_type": "display_data"
    }
   ],
   "source": [
    "# BOW (with vocab min freq = 50 and batch size = 128 and lr=0.1)\n",
    "\n",
    "N_EPOCHS = 15\n",
    "best_valid_loss = float('inf')\n",
    "\n",
    "valid_accuracies = []\n",
    "train_accuracies = []\n",
    "test_accuracies = []\n",
    "\n",
    "for epoch in range(N_EPOCHS):\n",
    "  \n",
    "    start_time = time.time()\n",
    "\n",
    "    train_loss, train_acc = train(train_dataloader)\n",
    "    valid_loss, valid_acc = evaluate(valid_dataloader)\n",
    "    test_loss, test_acc = evaluate(test_dataloader)\n",
    "\n",
    "    end_time = time.time()\n",
    "\n",
    "    valid_accuracies.append(valid_acc)\n",
    "    train_accuracies.append(train_acc)\n",
    "    test_accuracies.append(test_acc)\n",
    "\n",
    "    epoch_mins, epoch_secs = epoch_time(start_time, end_time)\n",
    "\n",
    "    # save the best model\n",
    "    if valid_loss < best_valid_loss:\n",
    "        best_valid_loss = valid_loss\n",
    "        torch.save(model.state_dict(), 'tut2-model.pt')\n",
    "\n",
    "    print(f'Epoch: {epoch+1:02} | Time: {epoch_mins}m {epoch_secs}s')\n",
    "    print(f'train_loss: {train_loss:.3f}, train_acc: {train_acc:.3f}')\n",
    "    print(f'valid_loss: {valid_loss:.3f}, valid_acc: {valid_acc:.3f}')\n",
    "    print(f'test loss: {test_loss:.3f}, test_acc: {test_acc:.3f}')\n",
    "\n",
    "plt.title('BOW Classifier for Full Review')\n",
    "plt.plot(range(1, N_EPOCHS+1), valid_accuracies, label = 'validation accuracy')\n",
    "plt.plot(range(1, N_EPOCHS+1), train_accuracies, label = 'training accuracy')\n",
    "plt.plot(range(1, N_EPOCHS+1), test_accuracies, label = 'test accuracy')\n",
    "plt.legend(loc=\"upper left\")"
   ]
  },
  {
   "cell_type": "code",
   "execution_count": 145,
   "id": "e8f5f1b6",
   "metadata": {},
   "outputs": [
    {
     "name": "stdout",
     "output_type": "stream",
     "text": [
      "Epoch: 01 | Time: 1m 20s\n",
      "train_loss: 0.596, train_acc: 0.742\n",
      "valid_loss: 0.519, valid_acc: 0.817\n",
      "test loss: 0.518, test_acc: 0.819\n",
      "Epoch: 02 | Time: 1m 20s\n",
      "train_loss: 0.462, train_acc: 0.851\n",
      "valid_loss: 0.440, valid_acc: 0.849\n",
      "test loss: 0.439, test_acc: 0.849\n",
      "Epoch: 03 | Time: 1m 21s\n",
      "train_loss: 0.397, train_acc: 0.871\n",
      "valid_loss: 0.399, valid_acc: 0.859\n",
      "test loss: 0.398, test_acc: 0.859\n",
      "Epoch: 04 | Time: 1m 15s\n",
      "train_loss: 0.359, train_acc: 0.881\n",
      "valid_loss: 0.374, valid_acc: 0.867\n",
      "test loss: 0.372, test_acc: 0.863\n",
      "Epoch: 05 | Time: 1m 11s\n",
      "train_loss: 0.332, train_acc: 0.888\n",
      "valid_loss: 0.357, valid_acc: 0.871\n",
      "test loss: 0.355, test_acc: 0.867\n",
      "Epoch: 06 | Time: 1m 12s\n",
      "train_loss: 0.313, train_acc: 0.893\n",
      "valid_loss: 0.344, valid_acc: 0.873\n",
      "test loss: 0.342, test_acc: 0.869\n",
      "Epoch: 07 | Time: 1m 12s\n",
      "train_loss: 0.298, train_acc: 0.897\n",
      "valid_loss: 0.335, valid_acc: 0.874\n",
      "test loss: 0.333, test_acc: 0.871\n",
      "Epoch: 08 | Time: 1m 13s\n",
      "train_loss: 0.286, train_acc: 0.900\n",
      "valid_loss: 0.328, valid_acc: 0.877\n",
      "test loss: 0.326, test_acc: 0.872\n",
      "Epoch: 09 | Time: 1m 12s\n",
      "train_loss: 0.275, train_acc: 0.903\n",
      "valid_loss: 0.323, valid_acc: 0.878\n",
      "test loss: 0.320, test_acc: 0.873\n",
      "Epoch: 10 | Time: 1m 13s\n",
      "train_loss: 0.267, train_acc: 0.906\n",
      "valid_loss: 0.318, valid_acc: 0.879\n",
      "test loss: 0.316, test_acc: 0.875\n",
      "Epoch: 11 | Time: 1m 11s\n",
      "train_loss: 0.259, train_acc: 0.908\n",
      "valid_loss: 0.315, valid_acc: 0.879\n",
      "test loss: 0.312, test_acc: 0.876\n",
      "Epoch: 12 | Time: 1m 13s\n",
      "train_loss: 0.253, train_acc: 0.910\n",
      "valid_loss: 0.312, valid_acc: 0.879\n",
      "test loss: 0.310, test_acc: 0.876\n",
      "Epoch: 13 | Time: 1m 16s\n",
      "train_loss: 0.247, train_acc: 0.912\n",
      "valid_loss: 0.310, valid_acc: 0.879\n",
      "test loss: 0.308, test_acc: 0.876\n",
      "Epoch: 14 | Time: 1m 15s\n",
      "train_loss: 0.242, train_acc: 0.914\n",
      "valid_loss: 0.308, valid_acc: 0.879\n",
      "test loss: 0.306, test_acc: 0.876\n",
      "Epoch: 15 | Time: 1m 15s\n",
      "train_loss: 0.237, train_acc: 0.915\n",
      "valid_loss: 0.306, valid_acc: 0.878\n",
      "test loss: 0.304, test_acc: 0.876\n"
     ]
    },
    {
     "data": {
      "text/plain": [
       "<matplotlib.legend.Legend at 0x7f8aa1f57070>"
      ]
     },
     "execution_count": 145,
     "metadata": {},
     "output_type": "execute_result"
    },
    {
     "data": {
      "image/png": "[encoded data removed]",
      "text/plain": [
       "<Figure size 432x288 with 1 Axes>"
      ]
     },
     "metadata": {
      "needs_background": "light"
     },
     "output_type": "display_data"
    }
   ],
   "source": [
    "# BOW (with vocab min freq = 100 and batch size = 500 and and lr=0.1)\n",
    "\n",
    "N_EPOCHS = 15\n",
    "best_valid_loss = float('inf')\n",
    "\n",
    "valid_accuracies = []\n",
    "train_accuracies = []\n",
    "test_accuracies = []\n",
    "\n",
    "for epoch in range(N_EPOCHS):\n",
    "  \n",
    "    start_time = time.time()\n",
    "\n",
    "    train_loss, train_acc = train(train_dataloader)\n",
    "    valid_loss, valid_acc = evaluate(valid_dataloader)\n",
    "    test_loss, test_acc = evaluate(test_dataloader)\n",
    "\n",
    "    end_time = time.time()\n",
    "\n",
    "    valid_accuracies.append(valid_acc)\n",
    "    train_accuracies.append(train_acc)\n",
    "    test_accuracies.append(test_acc)\n",
    "\n",
    "    epoch_mins, epoch_secs = epoch_time(start_time, end_time)\n",
    "\n",
    "    # save the best model\n",
    "    if valid_loss < best_valid_loss:\n",
    "        best_valid_loss = valid_loss\n",
    "        torch.save(model.state_dict(), 'tut2-model.pt')\n",
    "\n",
    "    print(f'Epoch: {epoch+1:02} | Time: {epoch_mins}m {epoch_secs}s')\n",
    "    print(f'train_loss: {train_loss:.3f}, train_acc: {train_acc:.3f}')\n",
    "    print(f'valid_loss: {valid_loss:.3f}, valid_acc: {valid_acc:.3f}')\n",
    "    print(f'test loss: {test_loss:.3f}, test_acc: {test_acc:.3f}')\n",
    "\n",
    "plt.title('BOW Classifier for Full Review')\n",
    "plt.plot(range(1, N_EPOCHS+1), valid_accuracies, label = 'validation accuracy')\n",
    "plt.plot(range(1, N_EPOCHS+1), train_accuracies, label = 'training accuracy')\n",
    "plt.plot(range(1, N_EPOCHS+1), test_accuracies, label = 'test accuracy')\n",
    "plt.legend(loc=\"upper left\")"
   ]
  },
  {
   "cell_type": "code",
   "execution_count": 171,
   "id": "49c16f04",
   "metadata": {},
   "outputs": [
    {
     "name": "stdout",
     "output_type": "stream",
     "text": [
      "Epoch: 01 | Time: 1m 15s\n",
      "train_loss: 0.686, train_acc: 0.675\n",
      "valid_loss: 0.679, valid_acc: 0.750\n",
      "test loss: 0.680, test_acc: 0.744\n",
      "Epoch: 02 | Time: 1m 19s\n",
      "train_loss: 0.673, train_acc: 0.746\n",
      "valid_loss: 0.666, valid_acc: 0.763\n",
      "test loss: 0.667, test_acc: 0.763\n",
      "Epoch: 03 | Time: 1m 28s\n",
      "train_loss: 0.660, train_acc: 0.769\n",
      "valid_loss: 0.654, valid_acc: 0.766\n",
      "test loss: 0.655, test_acc: 0.768\n",
      "Epoch: 04 | Time: 1m 58s\n",
      "train_loss: 0.647, train_acc: 0.777\n",
      "valid_loss: 0.643, valid_acc: 0.774\n",
      "test loss: 0.644, test_acc: 0.775\n",
      "Epoch: 05 | Time: 1m 47s\n",
      "train_loss: 0.636, train_acc: 0.785\n",
      "valid_loss: 0.632, valid_acc: 0.780\n",
      "test loss: 0.634, test_acc: 0.781\n",
      "Epoch: 06 | Time: 1m 39s\n",
      "train_loss: 0.625, train_acc: 0.791\n",
      "valid_loss: 0.622, valid_acc: 0.785\n",
      "test loss: 0.624, test_acc: 0.787\n",
      "Epoch: 07 | Time: 1m 30s\n",
      "train_loss: 0.615, train_acc: 0.797\n",
      "valid_loss: 0.612, valid_acc: 0.791\n",
      "test loss: 0.614, test_acc: 0.791\n",
      "Epoch: 08 | Time: 1m 25s\n",
      "train_loss: 0.605, train_acc: 0.801\n",
      "valid_loss: 0.603, valid_acc: 0.794\n",
      "test loss: 0.605, test_acc: 0.796\n",
      "Epoch: 09 | Time: 1m 24s\n",
      "train_loss: 0.595, train_acc: 0.807\n",
      "valid_loss: 0.595, valid_acc: 0.800\n",
      "test loss: 0.597, test_acc: 0.800\n",
      "Epoch: 10 | Time: 1m 15s\n",
      "train_loss: 0.586, train_acc: 0.813\n",
      "valid_loss: 0.586, valid_acc: 0.804\n",
      "test loss: 0.589, test_acc: 0.803\n",
      "Epoch: 11 | Time: 1m 15s\n",
      "train_loss: 0.578, train_acc: 0.817\n",
      "valid_loss: 0.578, valid_acc: 0.808\n",
      "test loss: 0.581, test_acc: 0.808\n",
      "Epoch: 12 | Time: 1m 13s\n",
      "train_loss: 0.570, train_acc: 0.821\n",
      "valid_loss: 0.571, valid_acc: 0.810\n",
      "test loss: 0.573, test_acc: 0.812\n",
      "Epoch: 13 | Time: 1m 13s\n",
      "train_loss: 0.562, train_acc: 0.825\n",
      "valid_loss: 0.563, valid_acc: 0.813\n",
      "test loss: 0.566, test_acc: 0.815\n",
      "Epoch: 14 | Time: 1m 13s\n",
      "train_loss: 0.554, train_acc: 0.828\n",
      "valid_loss: 0.556, valid_acc: 0.816\n",
      "test loss: 0.559, test_acc: 0.817\n",
      "Epoch: 15 | Time: 1m 13s\n",
      "train_loss: 0.547, train_acc: 0.832\n",
      "valid_loss: 0.549, valid_acc: 0.820\n",
      "test loss: 0.553, test_acc: 0.820\n"
     ]
    },
    {
     "data": {
      "text/plain": [
       "<matplotlib.legend.Legend at 0x7f8a148469d0>"
      ]
     },
     "execution_count": 171,
     "metadata": {},
     "output_type": "execute_result"
    },
    {
     "data": {
      "image/png": "[encoded data removed]",
      "text/plain": [
       "<Figure size 432x288 with 1 Axes>"
      ]
     },
     "metadata": {
      "needs_background": "light"
     },
     "output_type": "display_data"
    }
   ],
   "source": [
    "# BOW (with vocab min freq = 100 and batch size = 500 and lr=5e-3)\n",
    "\n",
    "N_EPOCHS = 15\n",
    "best_valid_loss = float('inf')\n",
    "\n",
    "valid_accuracies = []\n",
    "train_accuracies = []\n",
    "test_accuracies = []\n",
    "\n",
    "for epoch in range(N_EPOCHS):\n",
    "  \n",
    "    start_time = time.time()\n",
    "\n",
    "    train_loss, train_acc = train(train_dataloader)\n",
    "    valid_loss, valid_acc = evaluate(valid_dataloader)\n",
    "    test_loss, test_acc = evaluate(test_dataloader)\n",
    "\n",
    "    end_time = time.time()\n",
    "\n",
    "    valid_accuracies.append(valid_acc)\n",
    "    train_accuracies.append(train_acc)\n",
    "    test_accuracies.append(test_acc)\n",
    "\n",
    "    epoch_mins, epoch_secs = epoch_time(start_time, end_time)\n",
    "\n",
    "    # save the best model\n",
    "    if valid_loss < best_valid_loss:\n",
    "        best_valid_loss = valid_loss\n",
    "        torch.save(model.state_dict(), 'tut2-model.pt')\n",
    "\n",
    "    print(f'Epoch: {epoch+1:02} | Time: {epoch_mins}m {epoch_secs}s')\n",
    "    print(f'train_loss: {train_loss:.3f}, train_acc: {train_acc:.3f}')\n",
    "    print(f'valid_loss: {valid_loss:.3f}, valid_acc: {valid_acc:.3f}')\n",
    "    print(f'test loss: {test_loss:.3f}, test_acc: {test_acc:.3f}')\n",
    "\n",
    "plt.title('BOW Classifier for Full Review')\n",
    "plt.plot(range(1, N_EPOCHS+1), valid_accuracies, label = 'validation accuracy')\n",
    "plt.plot(range(1, N_EPOCHS+1), train_accuracies, label = 'training accuracy')\n",
    "plt.plot(range(1, N_EPOCHS+1), test_accuracies, label = 'test accuracy')\n",
    "plt.legend(loc=\"upper left\")"
   ]
  },
  {
   "cell_type": "code",
   "execution_count": 194,
   "id": "23add749",
   "metadata": {},
   "outputs": [
    {
     "name": "stdout",
     "output_type": "stream",
     "text": [
      "Epoch: 01 | Time: 1m 13s\n",
      "train_loss: 0.687, train_acc: 0.683\n",
      "valid_loss: 0.680, valid_acc: 0.751\n",
      "test loss: 0.680, test_acc: 0.748\n",
      "Epoch: 02 | Time: 1m 13s\n",
      "train_loss: 0.673, train_acc: 0.768\n",
      "valid_loss: 0.667, valid_acc: 0.767\n",
      "test loss: 0.667, test_acc: 0.762\n",
      "Epoch: 03 | Time: 1m 13s\n",
      "train_loss: 0.660, train_acc: 0.777\n",
      "valid_loss: 0.655, valid_acc: 0.775\n",
      "test loss: 0.655, test_acc: 0.771\n",
      "Epoch: 04 | Time: 1m 12s\n",
      "train_loss: 0.648, train_acc: 0.783\n",
      "valid_loss: 0.643, valid_acc: 0.781\n",
      "test loss: 0.644, test_acc: 0.777\n",
      "Epoch: 05 | Time: 1m 12s\n",
      "train_loss: 0.636, train_acc: 0.788\n",
      "valid_loss: 0.632, valid_acc: 0.787\n",
      "test loss: 0.634, test_acc: 0.783\n",
      "Epoch: 06 | Time: 1m 13s\n",
      "train_loss: 0.625, train_acc: 0.793\n",
      "valid_loss: 0.622, valid_acc: 0.795\n",
      "test loss: 0.624, test_acc: 0.789\n",
      "Epoch: 07 | Time: 1m 12s\n",
      "train_loss: 0.615, train_acc: 0.798\n",
      "valid_loss: 0.613, valid_acc: 0.798\n",
      "test loss: 0.614, test_acc: 0.793\n",
      "Epoch: 08 | Time: 1m 15s\n",
      "train_loss: 0.605, train_acc: 0.803\n",
      "valid_loss: 0.603, valid_acc: 0.802\n",
      "test loss: 0.605, test_acc: 0.797\n",
      "Epoch: 09 | Time: 1m 15s\n",
      "train_loss: 0.596, train_acc: 0.808\n",
      "valid_loss: 0.595, valid_acc: 0.808\n",
      "test loss: 0.597, test_acc: 0.802\n",
      "Epoch: 10 | Time: 1m 12s\n",
      "train_loss: 0.587, train_acc: 0.813\n",
      "valid_loss: 0.586, valid_acc: 0.812\n",
      "test loss: 0.589, test_acc: 0.805\n",
      "Epoch: 11 | Time: 1m 13s\n",
      "train_loss: 0.578, train_acc: 0.818\n",
      "valid_loss: 0.578, valid_acc: 0.814\n",
      "test loss: 0.581, test_acc: 0.809\n",
      "Epoch: 12 | Time: 1m 11s\n",
      "train_loss: 0.570, train_acc: 0.822\n",
      "valid_loss: 0.571, valid_acc: 0.819\n",
      "test loss: 0.573, test_acc: 0.812\n",
      "Epoch: 13 | Time: 1m 13s\n",
      "train_loss: 0.562, train_acc: 0.825\n",
      "valid_loss: 0.563, valid_acc: 0.822\n",
      "test loss: 0.566, test_acc: 0.814\n",
      "Epoch: 14 | Time: 1m 13s\n",
      "train_loss: 0.554, train_acc: 0.828\n",
      "valid_loss: 0.556, valid_acc: 0.824\n",
      "test loss: 0.559, test_acc: 0.817\n",
      "Epoch: 15 | Time: 1m 14s\n",
      "train_loss: 0.547, train_acc: 0.831\n",
      "valid_loss: 0.549, valid_acc: 0.826\n",
      "test loss: 0.553, test_acc: 0.820\n"
     ]
    },
    {
     "data": {
      "text/plain": [
       "<matplotlib.legend.Legend at 0x7f8a40394ee0>"
      ]
     },
     "execution_count": 194,
     "metadata": {},
     "output_type": "execute_result"
    },
    {
     "data": {
      "image/png": "[encoded data removed]",
      "text/plain": [
       "<Figure size 432x288 with 1 Axes>"
      ]
     },
     "metadata": {
      "needs_background": "light"
     },
     "output_type": "display_data"
    }
   ],
   "source": [
    "# BOW (with vocab min freq = 100)\n",
    "\n",
    "from torch.utils.data import DataLoader\n",
    "\n",
    "BATCH_SIZE = 500\n",
    "\n",
    "train_dataloader = torch.utils.data.DataLoader(train_data, batch_size=BATCH_SIZE, collate_fn=collate_batch)\n",
    "valid_dataloader = torch.utils.data.DataLoader(valid_data, batch_size=BATCH_SIZE, collate_fn=collate_batch)\n",
    "test_dataloader = torch.utils.data.DataLoader(test_data, batch_size=BATCH_SIZE, collate_fn=collate_batch)\n",
    "\n",
    "INPUT_DIM = len(vocab)\n",
    "OUTPUT_DIM = 2 # there are only 2 labels - 0 (neg) or 1 (pos)\n",
    "\n",
    "model = BoWClassifier(OUTPUT_DIM, INPUT_DIM)\n",
    "\n",
    "criterion = nn.CrossEntropyLoss()\n",
    "\n",
    "def init_weights(m):\n",
    "    for name, param in m.named_parameters():\n",
    "        nn.init.normal_(param.data, mean=0, std=0.01)\n",
    "        \n",
    "model.apply(init_weights)\n",
    "\n",
    "import torch.optim as optim\n",
    "\n",
    "# initialize optimizer\n",
    "optimizer = optim.Adam(model.parameters(), lr=5e-3)\n",
    "\n",
    "N_EPOCHS = 15\n",
    "best_valid_loss = float('inf')\n",
    "\n",
    "valid_accuracies = []\n",
    "train_accuracies = []\n",
    "test_accuracies = []\n",
    "\n",
    "for epoch in range(N_EPOCHS):\n",
    "  \n",
    "    start_time = time.time()\n",
    "\n",
    "    train_loss, train_acc = train(train_dataloader)\n",
    "    valid_loss, valid_acc = evaluate(valid_dataloader)\n",
    "    test_loss, test_acc = evaluate(test_dataloader)\n",
    "\n",
    "    end_time = time.time()\n",
    "\n",
    "    valid_accuracies.append(valid_acc)\n",
    "    train_accuracies.append(train_acc)\n",
    "    test_accuracies.append(test_acc)\n",
    "\n",
    "    epoch_mins, epoch_secs = epoch_time(start_time, end_time)\n",
    "\n",
    "    # save the best model\n",
    "    if valid_loss < best_valid_loss:\n",
    "        best_valid_loss = valid_loss\n",
    "        torch.save(model.state_dict(), 'tut2-model.pt')\n",
    "\n",
    "    print(f'Epoch: {epoch+1:02} | Time: {epoch_mins}m {epoch_secs}s')\n",
    "    print(f'train_loss: {train_loss:.3f}, train_acc: {train_acc:.3f}')\n",
    "    print(f'valid_loss: {valid_loss:.3f}, valid_acc: {valid_acc:.3f}')\n",
    "    print(f'test loss: {test_loss:.3f}, test_acc: {test_acc:.3f}')\n",
    "\n",
    "plt.title('BOW Classifier for Full Review')\n",
    "plt.plot(range(1, N_EPOCHS+1), valid_accuracies, label = 'validation accuracy')\n",
    "plt.plot(range(1, N_EPOCHS+1), train_accuracies, label = 'training accuracy')\n",
    "plt.plot(range(1, N_EPOCHS+1), test_accuracies, label = 'test accuracy')\n",
    "plt.legend(loc=\"upper left\")"
   ]
  },
  {
   "cell_type": "code",
   "execution_count": 197,
   "id": "7f2345a7",
   "metadata": {},
   "outputs": [
    {
     "name": "stdout",
     "output_type": "stream",
     "text": [
      "Epoch: 01 | Time: 1m 14s\n",
      "train_loss: 0.687, train_acc: 0.675\n",
      "valid_loss: 0.679, valid_acc: 0.752\n",
      "test loss: 0.680, test_acc: 0.749\n",
      "Epoch: 02 | Time: 1m 14s\n",
      "train_loss: 0.673, train_acc: 0.767\n",
      "valid_loss: 0.667, valid_acc: 0.766\n",
      "test loss: 0.667, test_acc: 0.761\n",
      "Epoch: 03 | Time: 1m 13s\n",
      "train_loss: 0.660, train_acc: 0.777\n",
      "valid_loss: 0.654, valid_acc: 0.774\n",
      "test loss: 0.655, test_acc: 0.771\n",
      "Epoch: 04 | Time: 1m 14s\n",
      "train_loss: 0.648, train_acc: 0.783\n",
      "valid_loss: 0.643, valid_acc: 0.781\n",
      "test loss: 0.644, test_acc: 0.777\n",
      "Epoch: 05 | Time: 1m 13s\n",
      "train_loss: 0.636, train_acc: 0.788\n",
      "valid_loss: 0.632, valid_acc: 0.788\n",
      "test loss: 0.634, test_acc: 0.783\n",
      "Epoch: 06 | Time: 1m 14s\n",
      "train_loss: 0.625, train_acc: 0.793\n",
      "valid_loss: 0.622, valid_acc: 0.795\n",
      "test loss: 0.624, test_acc: 0.789\n",
      "Epoch: 07 | Time: 1m 13s\n",
      "train_loss: 0.615, train_acc: 0.798\n",
      "valid_loss: 0.613, valid_acc: 0.798\n",
      "test loss: 0.614, test_acc: 0.793\n",
      "Epoch: 08 | Time: 1m 14s\n",
      "train_loss: 0.605, train_acc: 0.803\n",
      "valid_loss: 0.603, valid_acc: 0.803\n",
      "test loss: 0.605, test_acc: 0.797\n",
      "Epoch: 09 | Time: 1m 15s\n",
      "train_loss: 0.596, train_acc: 0.808\n",
      "valid_loss: 0.595, valid_acc: 0.808\n",
      "test loss: 0.597, test_acc: 0.802\n",
      "Epoch: 10 | Time: 1m 13s\n",
      "train_loss: 0.587, train_acc: 0.812\n",
      "valid_loss: 0.586, valid_acc: 0.812\n",
      "test loss: 0.589, test_acc: 0.805\n",
      "Epoch: 11 | Time: 1m 17s\n",
      "train_loss: 0.578, train_acc: 0.817\n",
      "valid_loss: 0.578, valid_acc: 0.815\n",
      "test loss: 0.581, test_acc: 0.809\n",
      "Epoch: 12 | Time: 1m 13s\n",
      "train_loss: 0.570, train_acc: 0.822\n",
      "valid_loss: 0.571, valid_acc: 0.819\n",
      "test loss: 0.573, test_acc: 0.812\n",
      "Epoch: 13 | Time: 1m 14s\n",
      "train_loss: 0.562, train_acc: 0.825\n",
      "valid_loss: 0.563, valid_acc: 0.822\n",
      "test loss: 0.566, test_acc: 0.814\n",
      "Epoch: 14 | Time: 1m 14s\n",
      "train_loss: 0.554, train_acc: 0.828\n",
      "valid_loss: 0.556, valid_acc: 0.823\n",
      "test loss: 0.559, test_acc: 0.817\n",
      "Epoch: 15 | Time: 1m 14s\n",
      "train_loss: 0.547, train_acc: 0.831\n",
      "valid_loss: 0.549, valid_acc: 0.826\n",
      "test loss: 0.552, test_acc: 0.820\n",
      "Epoch: 16 | Time: 1m 14s\n",
      "train_loss: 0.540, train_acc: 0.833\n",
      "valid_loss: 0.543, valid_acc: 0.828\n",
      "test loss: 0.546, test_acc: 0.823\n",
      "Epoch: 17 | Time: 1m 12s\n",
      "train_loss: 0.533, train_acc: 0.836\n",
      "valid_loss: 0.537, valid_acc: 0.830\n",
      "test loss: 0.540, test_acc: 0.825\n",
      "Epoch: 18 | Time: 1m 13s\n",
      "train_loss: 0.527, train_acc: 0.838\n",
      "valid_loss: 0.531, valid_acc: 0.832\n",
      "test loss: 0.534, test_acc: 0.828\n",
      "Epoch: 19 | Time: 1m 14s\n",
      "train_loss: 0.520, train_acc: 0.841\n",
      "valid_loss: 0.525, valid_acc: 0.834\n",
      "test loss: 0.528, test_acc: 0.830\n",
      "Epoch: 20 | Time: 1m 15s\n",
      "train_loss: 0.514, train_acc: 0.843\n",
      "valid_loss: 0.519, valid_acc: 0.835\n",
      "test loss: 0.523, test_acc: 0.832\n",
      "Epoch: 21 | Time: 1m 15s\n",
      "train_loss: 0.509, train_acc: 0.846\n",
      "valid_loss: 0.514, valid_acc: 0.837\n",
      "test loss: 0.518, test_acc: 0.834\n",
      "Epoch: 22 | Time: 1m 16s\n",
      "train_loss: 0.503, train_acc: 0.848\n",
      "valid_loss: 0.508, valid_acc: 0.839\n",
      "test loss: 0.512, test_acc: 0.835\n",
      "Epoch: 23 | Time: 1m 15s\n",
      "train_loss: 0.498, train_acc: 0.850\n",
      "valid_loss: 0.503, valid_acc: 0.841\n",
      "test loss: 0.508, test_acc: 0.836\n",
      "Epoch: 24 | Time: 1m 15s\n",
      "train_loss: 0.492, train_acc: 0.852\n",
      "valid_loss: 0.499, valid_acc: 0.843\n",
      "test loss: 0.503, test_acc: 0.837\n",
      "Epoch: 25 | Time: 1m 18s\n",
      "train_loss: 0.487, train_acc: 0.855\n",
      "valid_loss: 0.494, valid_acc: 0.843\n",
      "test loss: 0.498, test_acc: 0.839\n",
      "Epoch: 26 | Time: 1m 19s\n",
      "train_loss: 0.482, train_acc: 0.856\n",
      "valid_loss: 0.489, valid_acc: 0.844\n",
      "test loss: 0.494, test_acc: 0.840\n",
      "Epoch: 27 | Time: 1m 18s\n",
      "train_loss: 0.478, train_acc: 0.857\n",
      "valid_loss: 0.485, valid_acc: 0.845\n",
      "test loss: 0.489, test_acc: 0.840\n",
      "Epoch: 28 | Time: 1m 16s\n",
      "train_loss: 0.473, train_acc: 0.858\n",
      "valid_loss: 0.481, valid_acc: 0.846\n",
      "test loss: 0.485, test_acc: 0.841\n",
      "Epoch: 29 | Time: 1m 13s\n",
      "train_loss: 0.469, train_acc: 0.859\n",
      "valid_loss: 0.476, valid_acc: 0.847\n",
      "test loss: 0.481, test_acc: 0.843\n",
      "Epoch: 30 | Time: 1m 14s\n",
      "train_loss: 0.464, train_acc: 0.859\n",
      "valid_loss: 0.472, valid_acc: 0.849\n",
      "test loss: 0.477, test_acc: 0.844\n"
     ]
    },
    {
     "data": {
      "text/plain": [
       "<matplotlib.legend.Legend at 0x7f8a005038e0>"
      ]
     },
     "execution_count": 197,
     "metadata": {},
     "output_type": "execute_result"
    },
    {
     "data": {
      "image/png": "[encoded data removed]",
      "text/plain": [
       "<Figure size 432x288 with 1 Axes>"
      ]
     },
     "metadata": {
      "needs_background": "light"
     },
     "output_type": "display_data"
    }
   ],
   "source": [
    "# BOW (with vocab min freq = 100)\n",
    "\n",
    "from torch.utils.data import DataLoader\n",
    "\n",
    "BATCH_SIZE = 500\n",
    "\n",
    "train_dataloader = torch.utils.data.DataLoader(train_data, batch_size=BATCH_SIZE, collate_fn=collate_batch)\n",
    "valid_dataloader = torch.utils.data.DataLoader(valid_data, batch_size=BATCH_SIZE, collate_fn=collate_batch)\n",
    "test_dataloader = torch.utils.data.DataLoader(test_data, batch_size=BATCH_SIZE, collate_fn=collate_batch)\n",
    "\n",
    "INPUT_DIM = len(vocab)\n",
    "OUTPUT_DIM = 2 # there are only 2 labels - 0 (neg) or 1 (pos)\n",
    "\n",
    "model = BoWClassifier(OUTPUT_DIM, INPUT_DIM)\n",
    "\n",
    "criterion = nn.CrossEntropyLoss()\n",
    "\n",
    "def init_weights(m):\n",
    "    for name, param in m.named_parameters():\n",
    "        nn.init.normal_(param.data, mean=0, std=0.01)\n",
    "        \n",
    "model.apply(init_weights)\n",
    "\n",
    "import torch.optim as optim\n",
    "\n",
    "# initialize optimizer\n",
    "optimizer = optim.Adam(model.parameters(), lr=5e-3)\n",
    "\n",
    "N_EPOCHS = 30\n",
    "best_valid_loss = float('inf')\n",
    "\n",
    "valid_accuracies = []\n",
    "train_accuracies = []\n",
    "test_accuracies = []\n",
    "\n",
    "for epoch in range(N_EPOCHS):\n",
    "  \n",
    "    start_time = time.time()\n",
    "\n",
    "    train_loss, train_acc = train(train_dataloader)\n",
    "    valid_loss, valid_acc = evaluate(valid_dataloader)\n",
    "    test_loss, test_acc = evaluate(test_dataloader)\n",
    "\n",
    "    end_time = time.time()\n",
    "\n",
    "    valid_accuracies.append(valid_acc)\n",
    "    train_accuracies.append(train_acc)\n",
    "    test_accuracies.append(test_acc)\n",
    "\n",
    "    epoch_mins, epoch_secs = epoch_time(start_time, end_time)\n",
    "\n",
    "    # save the best model\n",
    "    if valid_loss < best_valid_loss:\n",
    "        best_valid_loss = valid_loss\n",
    "        torch.save(model.state_dict(), 'tut2-model.pt')\n",
    "\n",
    "    print(f'Epoch: {epoch+1:02} | Time: {epoch_mins}m {epoch_secs}s')\n",
    "    print(f'train_loss: {train_loss:.3f}, train_acc: {train_acc:.3f}')\n",
    "    print(f'valid_loss: {valid_loss:.3f}, valid_acc: {valid_acc:.3f}')\n",
    "    print(f'test loss: {test_loss:.3f}, test_acc: {test_acc:.3f}')\n",
    "\n",
    "plt.title('BOW Classifier for Full Review')\n",
    "plt.plot(range(1, N_EPOCHS+1), valid_accuracies, label = 'validation accuracy')\n",
    "plt.plot(range(1, N_EPOCHS+1), train_accuracies, label = 'training accuracy')\n",
    "plt.plot(range(1, N_EPOCHS+1), test_accuracies, label = 'test accuracy')\n",
    "plt.legend(loc=\"upper left\")"
   ]
  },
  {
   "cell_type": "markdown",
   "id": "71823bde",
   "metadata": {},
   "source": [
    "### Final BOW Model\n",
    "\n",
    "After tinkering with parameters, I settled on the following parameters as the final BOW Model."
   ]
  },
  {
   "cell_type": "code",
   "execution_count": 222,
   "id": "9b3e320d",
   "metadata": {},
   "outputs": [
    {
     "name": "stdout",
     "output_type": "stream",
     "text": [
      "Epoch: 01 | Time: 2m 5s\n",
      "train_loss: 0.686, train_acc: 0.604\n",
      "valid_loss: 0.679, valid_acc: 0.640\n",
      "test loss: 0.680, test_acc: 0.639\n",
      "Epoch: 02 | Time: 2m 3s\n",
      "train_loss: 0.671, train_acc: 0.760\n",
      "valid_loss: 0.666, valid_acc: 0.757\n",
      "test loss: 0.666, test_acc: 0.759\n",
      "Epoch: 03 | Time: 2m 2s\n",
      "train_loss: 0.657, train_acc: 0.791\n",
      "valid_loss: 0.653, valid_acc: 0.771\n",
      "test loss: 0.654, test_acc: 0.774\n",
      "Epoch: 04 | Time: 2m 4s\n",
      "train_loss: 0.644, train_acc: 0.799\n",
      "valid_loss: 0.641, valid_acc: 0.782\n",
      "test loss: 0.642, test_acc: 0.782\n",
      "Epoch: 05 | Time: 2m 3s\n",
      "train_loss: 0.632, train_acc: 0.806\n",
      "valid_loss: 0.630, valid_acc: 0.788\n",
      "test loss: 0.631, test_acc: 0.789\n",
      "Epoch: 06 | Time: 2m 6s\n",
      "train_loss: 0.620, train_acc: 0.811\n",
      "valid_loss: 0.619, valid_acc: 0.796\n",
      "test loss: 0.621, test_acc: 0.795\n",
      "Epoch: 07 | Time: 2m 4s\n",
      "train_loss: 0.609, train_acc: 0.814\n",
      "valid_loss: 0.609, valid_acc: 0.802\n",
      "test loss: 0.611, test_acc: 0.801\n",
      "Epoch: 08 | Time: 2m 3s\n",
      "train_loss: 0.598, train_acc: 0.819\n",
      "valid_loss: 0.599, valid_acc: 0.807\n",
      "test loss: 0.602, test_acc: 0.805\n",
      "Epoch: 09 | Time: 2m 2s\n",
      "train_loss: 0.588, train_acc: 0.823\n",
      "valid_loss: 0.590, valid_acc: 0.811\n",
      "test loss: 0.593, test_acc: 0.809\n",
      "Epoch: 10 | Time: 2m 5s\n",
      "train_loss: 0.579, train_acc: 0.826\n",
      "valid_loss: 0.581, valid_acc: 0.817\n",
      "test loss: 0.584, test_acc: 0.813\n",
      "Epoch: 11 | Time: 2m 5s\n",
      "train_loss: 0.569, train_acc: 0.831\n",
      "valid_loss: 0.572, valid_acc: 0.821\n",
      "test loss: 0.576, test_acc: 0.816\n",
      "Epoch: 12 | Time: 2m 10s\n",
      "train_loss: 0.561, train_acc: 0.834\n",
      "valid_loss: 0.564, valid_acc: 0.824\n",
      "test loss: 0.568, test_acc: 0.819\n",
      "Epoch: 13 | Time: 2m 6s\n",
      "train_loss: 0.552, train_acc: 0.837\n",
      "valid_loss: 0.556, valid_acc: 0.828\n",
      "test loss: 0.561, test_acc: 0.822\n",
      "Epoch: 14 | Time: 2m 5s\n",
      "train_loss: 0.544, train_acc: 0.841\n",
      "valid_loss: 0.549, valid_acc: 0.831\n",
      "test loss: 0.554, test_acc: 0.825\n",
      "Epoch: 15 | Time: 2m 5s\n",
      "train_loss: 0.536, train_acc: 0.844\n",
      "valid_loss: 0.542, valid_acc: 0.834\n",
      "test loss: 0.547, test_acc: 0.828\n",
      "Epoch: 16 | Time: 2m 2s\n",
      "train_loss: 0.529, train_acc: 0.846\n",
      "valid_loss: 0.535, valid_acc: 0.836\n",
      "test loss: 0.540, test_acc: 0.831\n",
      "Epoch: 17 | Time: 2m 1s\n",
      "train_loss: 0.522, train_acc: 0.849\n",
      "valid_loss: 0.528, valid_acc: 0.838\n",
      "test loss: 0.534, test_acc: 0.833\n",
      "Epoch: 18 | Time: 2m 2s\n",
      "train_loss: 0.515, train_acc: 0.851\n",
      "valid_loss: 0.522, valid_acc: 0.840\n",
      "test loss: 0.528, test_acc: 0.834\n",
      "Epoch: 19 | Time: 2m 4s\n",
      "train_loss: 0.508, train_acc: 0.854\n",
      "valid_loss: 0.516, valid_acc: 0.843\n",
      "test loss: 0.522, test_acc: 0.835\n",
      "Epoch: 20 | Time: 2m 7s\n",
      "train_loss: 0.502, train_acc: 0.856\n",
      "valid_loss: 0.510, valid_acc: 0.847\n",
      "test loss: 0.516, test_acc: 0.836\n",
      "Epoch: 21 | Time: 2m 1s\n",
      "train_loss: 0.495, train_acc: 0.859\n",
      "valid_loss: 0.504, valid_acc: 0.848\n",
      "test loss: 0.511, test_acc: 0.837\n",
      "Epoch: 22 | Time: 2m 4s\n",
      "train_loss: 0.489, train_acc: 0.860\n",
      "valid_loss: 0.499, valid_acc: 0.850\n",
      "test loss: 0.506, test_acc: 0.839\n",
      "Epoch: 23 | Time: 2m 7s\n",
      "train_loss: 0.484, train_acc: 0.861\n",
      "valid_loss: 0.493, valid_acc: 0.851\n",
      "test loss: 0.501, test_acc: 0.840\n",
      "Epoch: 24 | Time: 2m 4s\n",
      "train_loss: 0.478, train_acc: 0.863\n",
      "valid_loss: 0.488, valid_acc: 0.853\n",
      "test loss: 0.496, test_acc: 0.841\n",
      "Epoch: 25 | Time: 2m 1s\n",
      "train_loss: 0.473, train_acc: 0.864\n",
      "valid_loss: 0.483, valid_acc: 0.855\n",
      "test loss: 0.491, test_acc: 0.843\n",
      "Epoch: 26 | Time: 2m 5s\n",
      "train_loss: 0.468, train_acc: 0.866\n",
      "valid_loss: 0.479, valid_acc: 0.855\n",
      "test loss: 0.487, test_acc: 0.843\n",
      "Epoch: 27 | Time: 2m 2s\n",
      "train_loss: 0.463, train_acc: 0.867\n",
      "valid_loss: 0.474, valid_acc: 0.856\n",
      "test loss: 0.482, test_acc: 0.845\n",
      "Epoch: 28 | Time: 2m 6s\n",
      "train_loss: 0.458, train_acc: 0.868\n",
      "valid_loss: 0.469, valid_acc: 0.857\n",
      "test loss: 0.478, test_acc: 0.845\n",
      "Epoch: 29 | Time: 2m 3s\n",
      "train_loss: 0.453, train_acc: 0.869\n",
      "valid_loss: 0.465, valid_acc: 0.858\n",
      "test loss: 0.474, test_acc: 0.846\n",
      "Epoch: 30 | Time: 2m 0s\n",
      "train_loss: 0.448, train_acc: 0.870\n",
      "valid_loss: 0.461, valid_acc: 0.859\n",
      "test loss: 0.470, test_acc: 0.847\n",
      "Epoch: 31 | Time: 2m 6s\n",
      "train_loss: 0.444, train_acc: 0.872\n",
      "valid_loss: 0.457, valid_acc: 0.861\n",
      "test loss: 0.466, test_acc: 0.848\n",
      "Epoch: 32 | Time: 2m 4s\n",
      "train_loss: 0.440, train_acc: 0.872\n",
      "valid_loss: 0.453, valid_acc: 0.862\n",
      "test loss: 0.462, test_acc: 0.850\n",
      "Epoch: 33 | Time: 2m 6s\n",
      "train_loss: 0.435, train_acc: 0.873\n",
      "valid_loss: 0.449, valid_acc: 0.862\n",
      "test loss: 0.459, test_acc: 0.851\n",
      "Epoch: 34 | Time: 2m 2s\n",
      "train_loss: 0.431, train_acc: 0.875\n",
      "valid_loss: 0.446, valid_acc: 0.863\n",
      "test loss: 0.455, test_acc: 0.852\n",
      "Epoch: 35 | Time: 2m 1s\n",
      "train_loss: 0.427, train_acc: 0.875\n",
      "valid_loss: 0.442, valid_acc: 0.864\n",
      "test loss: 0.452, test_acc: 0.853\n",
      "Epoch: 36 | Time: 2m 6s\n",
      "train_loss: 0.424, train_acc: 0.877\n",
      "valid_loss: 0.439, valid_acc: 0.865\n",
      "test loss: 0.449, test_acc: 0.853\n",
      "Epoch: 37 | Time: 2m 10s\n",
      "train_loss: 0.420, train_acc: 0.878\n",
      "valid_loss: 0.435, valid_acc: 0.865\n",
      "test loss: 0.445, test_acc: 0.854\n",
      "Epoch: 38 | Time: 2m 3s\n",
      "train_loss: 0.416, train_acc: 0.879\n",
      "valid_loss: 0.432, valid_acc: 0.866\n",
      "test loss: 0.442, test_acc: 0.855\n",
      "Epoch: 39 | Time: 2m 0s\n",
      "train_loss: 0.413, train_acc: 0.879\n",
      "valid_loss: 0.429, valid_acc: 0.867\n",
      "test loss: 0.439, test_acc: 0.856\n",
      "Epoch: 40 | Time: 2m 1s\n",
      "train_loss: 0.409, train_acc: 0.880\n",
      "valid_loss: 0.426, valid_acc: 0.867\n",
      "test loss: 0.436, test_acc: 0.856\n",
      "Epoch: 41 | Time: 2m 4s\n",
      "train_loss: 0.406, train_acc: 0.881\n",
      "valid_loss: 0.423, valid_acc: 0.867\n",
      "test loss: 0.434, test_acc: 0.857\n",
      "Epoch: 42 | Time: 2m 3s\n",
      "train_loss: 0.403, train_acc: 0.881\n",
      "valid_loss: 0.420, valid_acc: 0.868\n",
      "test loss: 0.431, test_acc: 0.857\n",
      "Epoch: 43 | Time: 2m 2s\n",
      "train_loss: 0.399, train_acc: 0.882\n",
      "valid_loss: 0.417, valid_acc: 0.868\n",
      "test loss: 0.428, test_acc: 0.858\n",
      "Epoch: 44 | Time: 2m 2s\n",
      "train_loss: 0.396, train_acc: 0.883\n",
      "valid_loss: 0.414, valid_acc: 0.869\n",
      "test loss: 0.425, test_acc: 0.858\n",
      "Epoch: 45 | Time: 2m 4s\n",
      "train_loss: 0.393, train_acc: 0.883\n",
      "valid_loss: 0.411, valid_acc: 0.869\n",
      "test loss: 0.423, test_acc: 0.859\n",
      "Epoch: 46 | Time: 2m 4s\n",
      "train_loss: 0.390, train_acc: 0.884\n",
      "valid_loss: 0.409, valid_acc: 0.870\n",
      "test loss: 0.420, test_acc: 0.860\n",
      "Epoch: 47 | Time: 2m 1s\n",
      "train_loss: 0.387, train_acc: 0.885\n",
      "valid_loss: 0.406, valid_acc: 0.870\n",
      "test loss: 0.418, test_acc: 0.861\n",
      "Epoch: 48 | Time: 2m 0s\n",
      "train_loss: 0.385, train_acc: 0.886\n",
      "valid_loss: 0.404, valid_acc: 0.871\n",
      "test loss: 0.416, test_acc: 0.861\n",
      "Epoch: 49 | Time: 2m 1s\n",
      "train_loss: 0.382, train_acc: 0.887\n",
      "valid_loss: 0.401, valid_acc: 0.871\n",
      "test loss: 0.413, test_acc: 0.862\n",
      "Epoch: 50 | Time: 2m 4s\n",
      "train_loss: 0.379, train_acc: 0.887\n",
      "valid_loss: 0.399, valid_acc: 0.871\n",
      "test loss: 0.411, test_acc: 0.862\n",
      "Epoch: 51 | Time: 2m 1s\n",
      "train_loss: 0.376, train_acc: 0.888\n",
      "valid_loss: 0.397, valid_acc: 0.872\n",
      "test loss: 0.409, test_acc: 0.863\n",
      "Epoch: 52 | Time: 2m 0s\n",
      "train_loss: 0.374, train_acc: 0.888\n",
      "valid_loss: 0.394, valid_acc: 0.872\n",
      "test loss: 0.407, test_acc: 0.863\n",
      "Epoch: 53 | Time: 2m 1s\n",
      "train_loss: 0.371, train_acc: 0.889\n",
      "valid_loss: 0.392, valid_acc: 0.872\n",
      "test loss: 0.405, test_acc: 0.864\n",
      "Epoch: 54 | Time: 2m 6s\n",
      "train_loss: 0.369, train_acc: 0.890\n",
      "valid_loss: 0.390, valid_acc: 0.872\n",
      "test loss: 0.402, test_acc: 0.864\n",
      "Epoch: 55 | Time: 2m 1s\n",
      "train_loss: 0.366, train_acc: 0.890\n",
      "valid_loss: 0.388, valid_acc: 0.873\n",
      "test loss: 0.400, test_acc: 0.864\n",
      "Epoch: 56 | Time: 2m 2s\n",
      "train_loss: 0.364, train_acc: 0.891\n",
      "valid_loss: 0.386, valid_acc: 0.873\n",
      "test loss: 0.399, test_acc: 0.864\n",
      "Epoch: 57 | Time: 1m 59s\n",
      "train_loss: 0.362, train_acc: 0.891\n",
      "valid_loss: 0.384, valid_acc: 0.873\n",
      "test loss: 0.397, test_acc: 0.865\n",
      "Epoch: 58 | Time: 2m 1s\n",
      "train_loss: 0.359, train_acc: 0.892\n",
      "valid_loss: 0.382, valid_acc: 0.874\n",
      "test loss: 0.395, test_acc: 0.865\n",
      "Epoch: 59 | Time: 2m 4s\n",
      "train_loss: 0.357, train_acc: 0.892\n",
      "valid_loss: 0.380, valid_acc: 0.875\n",
      "test loss: 0.393, test_acc: 0.865\n",
      "Epoch: 60 | Time: 2m 1s\n",
      "train_loss: 0.355, train_acc: 0.893\n",
      "valid_loss: 0.378, valid_acc: 0.875\n",
      "test loss: 0.391, test_acc: 0.866\n"
     ]
    },
    {
     "data": {
      "text/plain": [
       "<matplotlib.legend.Legend at 0x7f8a26256280>"
      ]
     },
     "execution_count": 222,
     "metadata": {},
     "output_type": "execute_result"
    },
    {
     "data": {
      "image/png": "[encoded data removed]",
      "text/plain": [
       "<Figure size 432x288 with 1 Axes>"
      ]
     },
     "metadata": {
      "needs_background": "light"
     },
     "output_type": "display_data"
    }
   ],
   "source": [
    "# BOW (with vocab min freq = 100)\n",
    "\n",
    "from torch.utils.data import DataLoader\n",
    "\n",
    "BATCH_SIZE = 500\n",
    "\n",
    "train_dataloader = torch.utils.data.DataLoader(train_data, batch_size=BATCH_SIZE, collate_fn=collate_batch)\n",
    "valid_dataloader = torch.utils.data.DataLoader(valid_data, batch_size=BATCH_SIZE, collate_fn=collate_batch)\n",
    "test_dataloader = torch.utils.data.DataLoader(test_data, batch_size=BATCH_SIZE, collate_fn=collate_batch)\n",
    "\n",
    "INPUT_DIM = len(vocab)\n",
    "OUTPUT_DIM = 2 # there are only 2 labels - 0 (neg) or 1 (pos)\n",
    "\n",
    "model = BoWClassifier(OUTPUT_DIM, INPUT_DIM)\n",
    "\n",
    "criterion = nn.CrossEntropyLoss()\n",
    "\n",
    "def init_weights(m):\n",
    "    for name, param in m.named_parameters():\n",
    "        nn.init.normal_(param.data, mean=0, std=0.01)\n",
    "        \n",
    "model.apply(init_weights)\n",
    "\n",
    "import torch.optim as optim\n",
    "\n",
    "# initialize optimizer\n",
    "optimizer = optim.Adam(model.parameters(), lr=5e-3)\n",
    "\n",
    "N_EPOCHS = 60\n",
    "best_valid_loss = float('inf')\n",
    "\n",
    "valid_accuracies = []\n",
    "train_accuracies = []\n",
    "test_accuracies = []\n",
    "train_losses = []\n",
    "\n",
    "for epoch in range(N_EPOCHS):\n",
    "  \n",
    "    start_time = time.time()\n",
    "\n",
    "    train_loss, train_acc = train(train_dataloader)\n",
    "    valid_loss, valid_acc = evaluate(valid_dataloader)\n",
    "    test_loss, test_acc = evaluate(test_dataloader)\n",
    "\n",
    "    end_time = time.time()\n",
    "\n",
    "    valid_accuracies.append(valid_acc)\n",
    "    train_accuracies.append(train_acc)\n",
    "    train_losses.append(train_loss)\n",
    "    test_accuracies.append(test_acc)\n",
    "\n",
    "    epoch_mins, epoch_secs = epoch_time(start_time, end_time)\n",
    "\n",
    "    # save the best model\n",
    "    if valid_loss < best_valid_loss:\n",
    "        best_valid_loss = valid_loss\n",
    "        torch.save(model.state_dict(), 'BOW-model.pt')\n",
    "\n",
    "    print(f'Epoch: {epoch+1:02} | Time: {epoch_mins}m {epoch_secs}s')\n",
    "    print(f'train_loss: {train_loss:.3f}, train_acc: {train_acc:.3f}')\n",
    "    print(f'valid_loss: {valid_loss:.3f}, valid_acc: {valid_acc:.3f}')\n",
    "    print(f'test loss: {test_loss:.3f}, test_acc: {test_acc:.3f}')\n",
    "\n",
    "plt.title('BOW Accuracy for Full Review')\n",
    "plt.plot(range(1, N_EPOCHS+1), valid_accuracies, label = 'validation accuracy')\n",
    "plt.plot(range(1, N_EPOCHS+1), train_accuracies, label = 'training accuracy')\n",
    "plt.plot(range(1, N_EPOCHS+1), test_accuracies, label = 'test accuracy')\n",
    "plt.xlabel('Epoch')\n",
    "plt.ylabel('Accuracy')\n",
    "plt.legend(loc=\"upper left\")"
   ]
  },
  {
   "cell_type": "code",
   "execution_count": 223,
   "id": "3f853158",
   "metadata": {},
   "outputs": [
    {
     "data": {
      "text/plain": [
       "<matplotlib.legend.Legend at 0x7f8a004f0910>"
      ]
     },
     "execution_count": 223,
     "metadata": {},
     "output_type": "execute_result"
    },
    {
     "data": {
      "image/png": "[encoded data removed]",
      "text/plain": [
       "<Figure size 432x288 with 1 Axes>"
      ]
     },
     "metadata": {
      "needs_background": "light"
     },
     "output_type": "display_data"
    }
   ],
   "source": [
    "plt.title('BOW Loss for Full Review')\n",
    "plt.plot(range(1, N_EPOCHS+1), train_losses, label = 'training loss')\n",
    "plt.xlabel('Epoch')\n",
    "plt.ylabel('Loss')\n",
    "plt.legend(loc=\"upper left\")"
   ]
  },
  {
   "cell_type": "code",
   "execution_count": 224,
   "id": "570d2c5c",
   "metadata": {},
   "outputs": [
    {
     "name": "stdout",
     "output_type": "stream",
     "text": [
      "test_loss: 0.391, test_acc: 0.866\n"
     ]
    }
   ],
   "source": [
    "model.load_state_dict(torch.load('BOW-model.pt'))\n",
    "test_loss, test_acc = evaluate(test_dataloader)\n",
    "print(f'test_loss: {test_loss:.3f}, test_acc: {test_acc:.3f}')"
   ]
  },
  {
   "cell_type": "markdown",
   "id": "a8809cb4",
   "metadata": {},
   "source": [
    "### Predictions"
   ]
  },
  {
   "cell_type": "code",
   "execution_count": 238,
   "id": "2896922f",
   "metadata": {},
   "outputs": [],
   "source": [
    "model.load_state_dict(torch.load('BOW-model.pt'))\n",
    "\n",
    "def predict_label(text):\n",
    "    labels = ['Negative', 'Positive']\n",
    "\n",
    "    # put model in eval mode\n",
    "    model.eval()\n",
    "\n",
    "    # process input\n",
    "    stop_words = set(stopwords.words('english'))\n",
    "    tokens = tokenizer(text)\n",
    "    tokens_without_stopwords = [token for token in tokens if token not in stop_words]\n",
    "    bow = torch.zeros(len(vocab))\n",
    "    c = 0 \n",
    "    for token in tokens_without_stopwords:\n",
    "        bow[vocab[token]] += 1\n",
    "        c += 1\n",
    "    bow = bow/c\n",
    "    # add batch of 1 (dimension)\n",
    "    bow = bow.unsqueeze(0)\n",
    "    #print('bow shape')\n",
    "    #print(bow.shape)\n",
    "\n",
    "    with torch.no_grad():\n",
    "        scores = model(bow)\n",
    "\n",
    "    predicted_label = scores.argmax(1)\n",
    "\n",
    "    return labels[predicted_label.item()]"
   ]
  },
  {
   "cell_type": "code",
   "execution_count": 241,
   "id": "c5dafbd5",
   "metadata": {},
   "outputs": [
    {
     "name": "stdout",
     "output_type": "stream",
     "text": [
      "Negative\n"
     ]
    }
   ],
   "source": [
    "text_review = 'This movie was the worst but I can see how it might be seen as positive. Overall, I thought the movie was really good.'\n",
    "l = predict_label(text_review)\n",
    "print(l)"
   ]
  },
  {
   "cell_type": "code",
   "execution_count": null,
   "id": "109a8c6a",
   "metadata": {},
   "outputs": [],
   "source": []
  }
 ],
 "metadata": {
  "kernelspec": {
   "display_name": "conda_python3",
   "language": "python",
   "name": "conda_python3"
  },
  "language_info": {
   "codemirror_mode": {
    "name": "ipython",
    "version": 3
   },
   "file_extension": ".py",
   "mimetype": "text/x-python",
   "name": "python",
   "nbconvert_exporter": "python",
   "pygments_lexer": "ipython3",
   "version": "3.8.12"
  }
 },
 "nbformat": 4,
 "nbformat_minor": 5
}
