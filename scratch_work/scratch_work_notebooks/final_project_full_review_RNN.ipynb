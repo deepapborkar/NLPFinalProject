{
 "cells": [
  {
   "cell_type": "code",
   "execution_count": 1,
   "id": "04f1ab87",
   "metadata": {},
   "outputs": [
    {
     "name": "stdout",
     "output_type": "stream",
     "text": [
      "Looking in indexes: https://pypi.org/simple, https://pip.repos.neuron.amazonaws.com\n",
      "Requirement already satisfied: torchdata in /home/ec2-user/anaconda3/envs/python3/lib/python3.8/site-packages (0.4.1)\n",
      "Collecting torch==1.12.1\n",
      "  Using cached torch-1.12.1-cp38-cp38-manylinux1_x86_64.whl (776.3 MB)\n",
      "Requirement already satisfied: portalocker>=2.0.0 in /home/ec2-user/anaconda3/envs/python3/lib/python3.8/site-packages (from torchdata) (2.5.1)\n",
      "Requirement already satisfied: urllib3>=1.25 in /home/ec2-user/anaconda3/envs/python3/lib/python3.8/site-packages (from torchdata) (1.26.8)\n",
      "Requirement already satisfied: requests in /home/ec2-user/anaconda3/envs/python3/lib/python3.8/site-packages (from torchdata) (2.26.0)\n",
      "Requirement already satisfied: typing-extensions in /home/ec2-user/anaconda3/envs/python3/lib/python3.8/site-packages (from torch==1.12.1->torchdata) (4.0.0)\n",
      "Requirement already satisfied: certifi>=2017.4.17 in /home/ec2-user/anaconda3/envs/python3/lib/python3.8/site-packages (from requests->torchdata) (2021.10.8)\n",
      "Requirement already satisfied: charset-normalizer~=2.0.0 in /home/ec2-user/anaconda3/envs/python3/lib/python3.8/site-packages (from requests->torchdata) (2.0.8)\n",
      "Requirement already satisfied: idna<4,>=2.5 in /home/ec2-user/anaconda3/envs/python3/lib/python3.8/site-packages (from requests->torchdata) (3.1)\n",
      "Installing collected packages: torch\n",
      "  Attempting uninstall: torch\n",
      "    Found existing installation: torch 1.12.0\n",
      "    Uninstalling torch-1.12.0:\n",
      "      Successfully uninstalled torch-1.12.0\n",
      "\u001b[31mERROR: pip's dependency resolver does not currently take into account all the packages that are installed. This behaviour is the source of the following dependency conflicts.\n",
      "torchtext 0.13.0 requires torch==1.12.0, but you have torch 1.12.1 which is incompatible.\u001b[0m\u001b[31m\n",
      "\u001b[0mSuccessfully installed torch-1.12.1\n",
      "\u001b[33mWARNING: You are using pip version 22.0.4; however, version 22.2.2 is available.\n",
      "You should consider upgrading via the '/home/ec2-user/anaconda3/envs/python3/bin/python -m pip install --upgrade pip' command.\u001b[0m\u001b[33m\n",
      "\u001b[0mLooking in indexes: https://pypi.org/simple, https://pip.repos.neuron.amazonaws.com\n",
      "Requirement already satisfied: torchtext==0.13.0 in /home/ec2-user/anaconda3/envs/python3/lib/python3.8/site-packages (0.13.0)\n",
      "Requirement already satisfied: tqdm in /home/ec2-user/anaconda3/envs/python3/lib/python3.8/site-packages (from torchtext==0.13.0) (4.62.3)\n",
      "Collecting torch==1.12.0\n",
      "  Using cached torch-1.12.0-cp38-cp38-manylinux1_x86_64.whl (776.3 MB)\n",
      "Requirement already satisfied: numpy in /home/ec2-user/anaconda3/envs/python3/lib/python3.8/site-packages (from torchtext==0.13.0) (1.20.3)\n",
      "Requirement already satisfied: requests in /home/ec2-user/anaconda3/envs/python3/lib/python3.8/site-packages (from torchtext==0.13.0) (2.26.0)\n",
      "Requirement already satisfied: typing-extensions in /home/ec2-user/anaconda3/envs/python3/lib/python3.8/site-packages (from torch==1.12.0->torchtext==0.13.0) (4.0.0)\n",
      "Requirement already satisfied: idna<4,>=2.5 in /home/ec2-user/anaconda3/envs/python3/lib/python3.8/site-packages (from requests->torchtext==0.13.0) (3.1)\n",
      "Requirement already satisfied: urllib3<1.27,>=1.21.1 in /home/ec2-user/anaconda3/envs/python3/lib/python3.8/site-packages (from requests->torchtext==0.13.0) (1.26.8)\n",
      "Requirement already satisfied: certifi>=2017.4.17 in /home/ec2-user/anaconda3/envs/python3/lib/python3.8/site-packages (from requests->torchtext==0.13.0) (2021.10.8)\n",
      "Requirement already satisfied: charset-normalizer~=2.0.0 in /home/ec2-user/anaconda3/envs/python3/lib/python3.8/site-packages (from requests->torchtext==0.13.0) (2.0.8)\n",
      "Installing collected packages: torch\n",
      "  Attempting uninstall: torch\n",
      "    Found existing installation: torch 1.12.1\n",
      "    Uninstalling torch-1.12.1:\n",
      "      Successfully uninstalled torch-1.12.1\n",
      "\u001b[31mERROR: pip's dependency resolver does not currently take into account all the packages that are installed. This behaviour is the source of the following dependency conflicts.\n",
      "torchdata 0.4.1 requires torch==1.12.1, but you have torch 1.12.0 which is incompatible.\u001b[0m\u001b[31m\n",
      "\u001b[0mSuccessfully installed torch-1.12.0\n",
      "\u001b[33mWARNING: You are using pip version 22.0.4; however, version 22.2.2 is available.\n",
      "You should consider upgrading via the '/home/ec2-user/anaconda3/envs/python3/bin/python -m pip install --upgrade pip' command.\u001b[0m\u001b[33m\n",
      "\u001b[0mLooking in indexes: https://pypi.org/simple, https://pip.repos.neuron.amazonaws.com\n",
      "Requirement already satisfied: datasets in /home/ec2-user/anaconda3/envs/python3/lib/python3.8/site-packages (2.4.0)\n",
      "Requirement already satisfied: numpy>=1.17 in /home/ec2-user/anaconda3/envs/python3/lib/python3.8/site-packages (from datasets) (1.20.3)\n",
      "Requirement already satisfied: aiohttp in /home/ec2-user/anaconda3/envs/python3/lib/python3.8/site-packages (from datasets) (3.8.1)\n",
      "Requirement already satisfied: tqdm>=4.62.1 in /home/ec2-user/anaconda3/envs/python3/lib/python3.8/site-packages (from datasets) (4.62.3)\n",
      "Requirement already satisfied: huggingface-hub<1.0.0,>=0.1.0 in /home/ec2-user/anaconda3/envs/python3/lib/python3.8/site-packages (from datasets) (0.8.1)\n",
      "Requirement already satisfied: pyarrow>=6.0.0 in /home/ec2-user/anaconda3/envs/python3/lib/python3.8/site-packages (from datasets) (7.0.0)\n",
      "Requirement already satisfied: xxhash in /home/ec2-user/anaconda3/envs/python3/lib/python3.8/site-packages (from datasets) (3.0.0)\n",
      "Requirement already satisfied: responses<0.19 in /home/ec2-user/anaconda3/envs/python3/lib/python3.8/site-packages (from datasets) (0.18.0)\n",
      "Requirement already satisfied: fsspec[http]>=2021.11.1 in /home/ec2-user/anaconda3/envs/python3/lib/python3.8/site-packages (from datasets) (2021.11.1)\n",
      "Requirement already satisfied: dill<0.3.6 in /home/ec2-user/anaconda3/envs/python3/lib/python3.8/site-packages (from datasets) (0.3.4)\n",
      "Requirement already satisfied: multiprocess in /home/ec2-user/anaconda3/envs/python3/lib/python3.8/site-packages (from datasets) (0.70.12.2)\n",
      "Requirement already satisfied: pandas in /home/ec2-user/anaconda3/envs/python3/lib/python3.8/site-packages (from datasets) (1.3.4)\n",
      "Requirement already satisfied: requests>=2.19.0 in /home/ec2-user/anaconda3/envs/python3/lib/python3.8/site-packages (from datasets) (2.26.0)\n",
      "Requirement already satisfied: packaging in /home/ec2-user/anaconda3/envs/python3/lib/python3.8/site-packages (from datasets) (21.3)\n",
      "Requirement already satisfied: filelock in /home/ec2-user/anaconda3/envs/python3/lib/python3.8/site-packages (from huggingface-hub<1.0.0,>=0.1.0->datasets) (3.4.0)\n",
      "Requirement already satisfied: pyyaml>=5.1 in /home/ec2-user/anaconda3/envs/python3/lib/python3.8/site-packages (from huggingface-hub<1.0.0,>=0.1.0->datasets) (5.4.1)\n",
      "Requirement already satisfied: typing-extensions>=3.7.4.3 in /home/ec2-user/anaconda3/envs/python3/lib/python3.8/site-packages (from huggingface-hub<1.0.0,>=0.1.0->datasets) (4.0.0)\n",
      "Requirement already satisfied: pyparsing!=3.0.5,>=2.0.2 in /home/ec2-user/anaconda3/envs/python3/lib/python3.8/site-packages (from packaging->datasets) (3.0.6)\n",
      "Requirement already satisfied: charset-normalizer~=2.0.0 in /home/ec2-user/anaconda3/envs/python3/lib/python3.8/site-packages (from requests>=2.19.0->datasets) (2.0.8)\n",
      "Requirement already satisfied: certifi>=2017.4.17 in /home/ec2-user/anaconda3/envs/python3/lib/python3.8/site-packages (from requests>=2.19.0->datasets) (2021.10.8)\n",
      "Requirement already satisfied: idna<4,>=2.5 in /home/ec2-user/anaconda3/envs/python3/lib/python3.8/site-packages (from requests>=2.19.0->datasets) (3.1)\n",
      "Requirement already satisfied: urllib3<1.27,>=1.21.1 in /home/ec2-user/anaconda3/envs/python3/lib/python3.8/site-packages (from requests>=2.19.0->datasets) (1.26.8)\n",
      "Requirement already satisfied: frozenlist>=1.1.1 in /home/ec2-user/anaconda3/envs/python3/lib/python3.8/site-packages (from aiohttp->datasets) (1.2.0)\n",
      "Requirement already satisfied: multidict<7.0,>=4.5 in /home/ec2-user/anaconda3/envs/python3/lib/python3.8/site-packages (from aiohttp->datasets) (5.2.0)\n",
      "Requirement already satisfied: async-timeout<5.0,>=4.0.0a3 in /home/ec2-user/anaconda3/envs/python3/lib/python3.8/site-packages (from aiohttp->datasets) (4.0.1)\n",
      "Requirement already satisfied: attrs>=17.3.0 in /home/ec2-user/anaconda3/envs/python3/lib/python3.8/site-packages (from aiohttp->datasets) (21.2.0)\n",
      "Requirement already satisfied: yarl<2.0,>=1.0 in /home/ec2-user/anaconda3/envs/python3/lib/python3.8/site-packages (from aiohttp->datasets) (1.7.2)\n",
      "Requirement already satisfied: aiosignal>=1.1.2 in /home/ec2-user/anaconda3/envs/python3/lib/python3.8/site-packages (from aiohttp->datasets) (1.2.0)\n",
      "Requirement already satisfied: python-dateutil>=2.7.3 in /home/ec2-user/anaconda3/envs/python3/lib/python3.8/site-packages (from pandas->datasets) (2.8.2)\n",
      "Requirement already satisfied: pytz>=2017.3 in /home/ec2-user/anaconda3/envs/python3/lib/python3.8/site-packages (from pandas->datasets) (2021.3)\n",
      "Requirement already satisfied: six>=1.5 in /home/ec2-user/anaconda3/envs/python3/lib/python3.8/site-packages (from python-dateutil>=2.7.3->pandas->datasets) (1.16.0)\n",
      "\u001b[33mWARNING: You are using pip version 22.0.4; however, version 22.2.2 is available.\n",
      "You should consider upgrading via the '/home/ec2-user/anaconda3/envs/python3/bin/python -m pip install --upgrade pip' command.\u001b[0m\u001b[33m\n",
      "\u001b[0mLooking in indexes: https://pypi.org/simple, https://pip.repos.neuron.amazonaws.com\n",
      "Requirement already satisfied: nltk in /home/ec2-user/anaconda3/envs/python3/lib/python3.8/site-packages (3.7)\n",
      "Requirement already satisfied: regex>=2021.8.3 in /home/ec2-user/anaconda3/envs/python3/lib/python3.8/site-packages (from nltk) (2021.11.10)\n",
      "Requirement already satisfied: joblib in /home/ec2-user/anaconda3/envs/python3/lib/python3.8/site-packages (from nltk) (1.1.0)\n",
      "Requirement already satisfied: click in /home/ec2-user/anaconda3/envs/python3/lib/python3.8/site-packages (from nltk) (8.0.3)\n",
      "Requirement already satisfied: tqdm in /home/ec2-user/anaconda3/envs/python3/lib/python3.8/site-packages (from nltk) (4.62.3)\n",
      "\u001b[33mWARNING: You are using pip version 22.0.4; however, version 22.2.2 is available.\n",
      "You should consider upgrading via the '/home/ec2-user/anaconda3/envs/python3/bin/python -m pip install --upgrade pip' command.\u001b[0m\u001b[33m\n",
      "\u001b[0m"
     ]
    }
   ],
   "source": [
    "!pip install torchdata\n",
    "!pip install -U torchtext==0.13.0\n",
    "!pip install datasets\n",
    "!pip install nltk"
   ]
  },
  {
   "cell_type": "code",
   "execution_count": 2,
   "id": "c67e1ff6",
   "metadata": {},
   "outputs": [],
   "source": [
    "import torch\n",
    "import torchtext\n",
    "import datasets\n",
    "\n",
    "import matplotlib.pyplot as plt\n",
    "%matplotlib inline"
   ]
  },
  {
   "cell_type": "code",
   "execution_count": 3,
   "id": "eeae7cb2",
   "metadata": {},
   "outputs": [
    {
     "name": "stderr",
     "output_type": "stream",
     "text": [
      "[nltk_data] Downloading package stopwords to\n",
      "[nltk_data]     /home/ec2-user/nltk_data...\n",
      "[nltk_data]   Package stopwords is already up-to-date!\n"
     ]
    },
    {
     "data": {
      "text/plain": [
       "True"
      ]
     },
     "execution_count": 3,
     "metadata": {},
     "output_type": "execute_result"
    }
   ],
   "source": [
    "import nltk\n",
    "nltk.download('stopwords')"
   ]
  },
  {
   "cell_type": "code",
   "execution_count": 180,
   "id": "eae6a100",
   "metadata": {},
   "outputs": [
    {
     "name": "stdout",
     "output_type": "stream",
     "text": [
      "{'him', 'than', 'itself', 're', 'mightn', \"you'll\", 'and', 'hadn', \"you'd\", 'if', 'as', 'into', 'under', \"won't\", 'don', 'an', \"mightn't\", 'isn', 'hers', 'she', \"wouldn't\", 'doing', 'me', 'yours', 'herself', 'where', 'down', 'their', 'from', 'all', 'had', 'are', 'y', \"haven't\", 'same', 'most', 'be', 'myself', 'off', 'not', 'them', 'when', 'we', 'other', 'its', 'over', 's', 'below', 'yourself', 't', 'haven', \"hadn't\", 'was', 'for', \"you're\", 'they', \"didn't\", 'there', 'both', 'i', 'what', 'these', 'of', 'up', 'few', 'out', 'on', 'needn', 'doesn', 'wouldn', 'themselves', 'being', 'because', 'once', 'been', 'won', 'again', 'some', 'weren', 'own', 'it', \"shan't\", 'didn', 'very', 'any', 'this', 'ourselves', 'now', 'so', 'shan', 'in', \"wasn't\", 'ours', 'theirs', 'each', 'whom', 'further', 'how', 'do', \"needn't\", 'those', \"shouldn't\", 'you', 'which', 'more', 'll', 'between', \"that'll\", 'why', 'that', 'nor', 'have', 'his', \"you've\", 'the', 'above', \"isn't\", 'm', 'just', 'aren', 'shouldn', 'after', 'ain', 'wasn', 'such', 'at', 'ma', \"doesn't\", \"she's\", 've', 'should', \"hasn't\", 'only', 'against', \"aren't\", \"don't\", 'am', 'were', 'hasn', 'her', 'he', 'will', \"weren't\", 'can', 'through', 'has', 'no', \"should've\", 'before', 'about', 'o', 'having', 'here', 'my', 'by', 'a', 'himself', 'yourselves', 'd', 'during', 'or', \"couldn't\", 'couldn', 'while', 'did', 'but', 'your', 'until', 'to', 'who', 'does', 'too', 'with', 'mustn', 'then', \"it's\", 'our', \"mustn't\", 'is'}\n"
     ]
    }
   ],
   "source": [
    "from nltk.corpus import stopwords\n",
    "\n",
    "stops = set(stopwords.words('english'))\n",
    "print(stops)"
   ]
  },
  {
   "cell_type": "code",
   "execution_count": 181,
   "id": "d4d41a2a",
   "metadata": {},
   "outputs": [
    {
     "name": "stderr",
     "output_type": "stream",
     "text": [
      "Reusing dataset imdb (/home/ec2-user/.cache/huggingface/datasets/imdb/plain_text/1.0.0/2fdd8b9bcadd6e7055e742a706876ba43f19faee861df134affd7a3f60fc38a1)\n"
     ]
    },
    {
     "data": {
      "application/vnd.jupyter.widget-view+json": {
       "model_id": "0a284e9e6b9f44d899845c4a55c6d990",
       "version_major": 2,
       "version_minor": 0
      },
      "text/plain": [
       "  0%|          | 0/2 [00:00<?, ?it/s]"
      ]
     },
     "metadata": {},
     "output_type": "display_data"
    }
   ],
   "source": [
    "# get dataset from hugging face library\n",
    "train_data, test_data = datasets.load_dataset('imdb', split = ['train', 'test'])"
   ]
  },
  {
   "cell_type": "code",
   "execution_count": 182,
   "id": "6cdab443",
   "metadata": {},
   "outputs": [],
   "source": [
    "# reshuffle training and test datasets (randomize)\n",
    "train_data = train_data.shuffle()\n",
    "test_data = test_data.shuffle()"
   ]
  },
  {
   "cell_type": "code",
   "execution_count": 183,
   "id": "682cc609",
   "metadata": {},
   "outputs": [
    {
     "data": {
      "text/plain": [
       "{'text': ['Panic delivers the goods ten fold with Oscar caliber performances from William H Macy, Neve Campbell, and Donald Sutherland. In a movie about the choices we make and the consequences we live with. Chillingly Honest and thought provoking, Panic is easily one of the best film to come out of Hollywood in years. The impact stays with you right after you leave the theater.',\n",
       "  \"IMDb lists this as 1972 for some reason, but the other sources I've seen including the excellent program notes mark it as '68. Doesn't really matter, except that it's quite interesting to watch this abstract collage of film and video (one of the first art works to merge the two apparently) in the context of the Star Gate sequence in 2001, released the same year. Pure abstraction isn't really my thing, but I can take it in small doses and the super-saturated optically printed colors and psychedelic feel of this series of flowers, Rohrschach blots, birds, etc is pretty compelling and quite beautiful. Certainly helped paved the way for many other nascent video artists in the 70s, and deserves to be better known.\",\n",
       "  \"Going into this I was expecting anything really good, but after the damage this inflexed on me, I'm just happy to think strait. It's hard to think what the film-makers( HA!) this was a good movie. the stories, and I use the world loosely, are incoherent and do make any sense at all. There just stupid things that happen at random. the acting, if can be called acting is horrible I've seen batter acting in toy ads! I know it's a low-budget video-bin garbages, but still even it's not like they tried. Will after stetting thought it, I feel very sleepy and still #yawws# do, I'm going to go lie down.<br /><br />WARNNING: DO NOT ATEMP TO DRIVE, WALK, READ OR DO ANY AFTER Watching CHILLERS. OTHER SIDE AFFECTTS MAY ENGULED LOSE OF ANY OR ALL METAL FUNKIONS.\",\n",
       "  'this may not be War & Peace, but the two Academy noms wouldn\\'t have been forthcoming if it weren\\'t for the genius of James Wong Howe...<br /><br />this is one of the few films I\\'ve fallen in love with as a child and gone back to without dissatisfaction. whether you have any interest in what it offers fictively or not, BB&C is a visual feast.<br /><br />I\\'m not saying it\\'s his best work, I\\'m no expert there for sure. but the look of this movie is amazing. I love everything about it; Elsa Lanchester, the cat, the crazy hoo-doo, the retro-downtown-ness; but the way it was put on film is breathtaking.<br /><br />I even like the inconsistencies pointed out on this page above, and the \"special effects\" that seem backward now. it all creates a really consistent world.',\n",
       "  'This is easily the most disappointing, least gratifying movie of the entire so-called blacksploitation genre, which, by the way, are films we generally enjoy a great deal in our home. Rather than being \"exploitation\" or demeaning, these films actually provide a priceless insight into an era. Well, not Bucktown.<br /><br />In this story, Duke returns to Bucktown to operate the night club left to him by his recently deceased brother. He quickly learns that the city is entirely controlled by a corrupt police force, bleeding protection money out of all the local businesses. Duke resists, and determines that he will rescue the city from the corrupt police. Unfortunately, he does so by calling in a posse of his friends (these people are vaguely explained as some former black-militants who have worked with Duke on \"jobs\" in the past) and they simply murder the entire police department in cold blood. And literally in the presence of hundreds of witnesses who do nothing to stop it. Ignorance is not a justification for murder, and it would have been much more entertaining to see the Cracker Police suffer for their actions as opposed to merely getting whacked in the street. While revenge is a ubiquitous and generally satisfying theme in films of this genre, it is a far cry from seeing Pam Grier track down the thugs who off\\'ed her family, cuss them out, give them a jujitsu ass-kickin\\' and set their \\'fro on fire. That has art (and a reason for existing) and merits a level of respect that is quite undeserved by simply shooting someone in the back. Of course, in this bizarre tale, she is playing a woman completely under The Man\\'s thumb, afraid of the Crackers who run her town and oppress her people. Indeed, her advice to Duke is, \"Run, man, they gonna kill you!\"<br /><br />Following the sickening and gratuitous violence, we are expected to believe that the town\\'s mayor wholeheartedly condones the actions of Duke and his friends, congratulating them and offering to throw a parade in their honor, as opposed to, say, calling the district attorney to press capital murder charges against them and have them taken into custody. Duke\\'s posse declines the parade and instead opts to fill the numerous vacancies on the police force created by their recent killing spree. They immediately prove to be even more corrupt than their Cracker Police predecessors (to quote the mayor, \"They are ten times worse than what we had before!\"). Now Duke finds he must again rescue the citizens of Bucktown from corrupt, protection-racket law enforcement officials and again make it safe for decent folk to operate a prostitution business in the streets. Unfortunately, Duke has already lost all moral high ground and sympathy due a hero, as he was a willing participant in the murder of the original police force. I wouldn\\'t have cared one way or the other if he had rescued Bucktown or gotten plugged himself at this point. I suppose we are to be entertained by the clever way Duke has to outsmart the new Police Goons, but in reality the film has now just become an opera of gratuitous violence, Duke murders all of his former friends and allies in cold blood with the same absence of compassion he had when gunning down the Cracker Police. Duke is a pig.<br /><br />Finally, when everyone in town but Duke, Aretha, and the employees of the local brothel are dead and bleedin\\' in the street, our hero and heroine walk off into the night as though they had some admirable qualities or redeeming values; they don\\'t. Duke is merely a murderous thug and Aretha his enabling misogynist accomplice. If you are interested in this genre of film, by all means, I highly recommend them, see Coffy, Foxy Brown, Truck Turner, Blacula, Sheba Baby\\x85but if in the process you should run across this DVD, throw it as far away as you possibly can! Drop it like it\\'s hot! It should be treated as one would treat a glowing puddle of nuclear waste! There is no single film in the entire Blacksploitation era that is not dramatically more entertaining, satisfying and populated with more sympathetic and admirable characters than this piece of slime, obviously written by and targeted at some hormonally imbalanced high school sophomores.',\n",
       "  'Simon Pegg plays a rude crude and often out of control celebrity journalist who is brought from England to work for a big American magazine. Of course his winning ways create all sorts of complications. Amusing fact based comedy that co stars Kristen Dunst (looking rather grown up), Danny Huston, and Jeff Bridges. It works primarily because we like Simon Pegg despite his bad behavior. We completely understand why Kristen Dunst continues to talk to him despite his frequent screw ups. I liked the film. Its not the be all and end all but it was a nice way to cap off an evening of sitting on the couch watching movies.<br /><br />7 out of 10',\n",
       "  'When I first heard about the title, I thought of \\'The Simpsons\\', just like so many other reviewers, but when I saw the cast, I was completely stunned, that so many great character-actors would actually be in this! First of all, we have Christopher Walken (Deer Hunter, Pulp Fiction), who plays the title character, McBain. He is rescued from a Vietnam POW-camp by some of his buddies, one of which is Santos (Chick Vennera, Yanks), who splits a HUNDRED DOLLAR BILL with McBain (Vietnam soldiers are loaded with cash apparently), and tells him that he can re-do the favor to him, if he ever gets into trouble.<br /><br />Then, 18 years later, Santos and his sister Christina (Maria Conchita Alonso, The Running Man, Predator 2) join the rebels in Colombia trying to get rid of their evil dictator, El Presidente (Victor Argo, Taxi Driver, King of New York), and when Santos fails the mission, Christina goes to McBain for help.<br /><br />McBain then asks his good ol\\' Vietnam buddies to help him. First there\\'s the token tough black guy, Eastland, played by \"American Ninja\"\\'s Steve James, who was also in director James Glickenhaus\\' previous movie, \"The Exterminator\", where the exterminator\\'s real name also was Eastland, coincidence? I think not. There is also a lot of other references to The Exterminator, among other things, the most notable one being that McBain himself wears a welders-mask when Christina sees him for the first time, when he is working on a welding-job on top of a bridge! <br /><br />The other guys in the Vietnam-pack are: The rich guy who can afford all sorts of equipment for the team, Frank Bruce (Michael Ironside, Total Recall, Starship Troopers), and then there\\'s the doc, Dalton, (played by Jay Patterson, who doesn\\'t look like the guy the IMDb is linking to, and I haven\\'t seen him in other movies, so who knows), and last but not least, there\\'s the cop, Gill, who has had enough of his unsatisfying job, he\\'s played by Thomas G. Waites, who some of us might remember from The Warriors and The Thing.<br /><br />And in other big roles, we find Luis Guzmán (Boogie Nights, Carlito\\'s Way), as a small-time drug-dealer who can\\'t get a decent job. Also, there is Dick Boccelli as the drug-dealing kingpin who gets hung up in a crane on top of a roof by the McBain-gang, almost Exactly in the same way he got hung up over a meat-grinder by John Eastland in the EXTERMINATOR-movie! Now, I haven\\'t seen Glickenhaus\\' \"Shakedown/Blue Jean Cop\" yet, but I\\'m almost ready to bet half a hundred-dollar bill that Boccelli gets hung up in that movie too! <br /><br />Well, back to the plot of this movie.. they go off to Colombia and saves the day, yay! But who cares about the plot anyway, the cast is great, and the action-scenes are very well done, and you\\'re never bored while watching this movie! Highly recommended to all action-lovers!',\n",
       "  'The husband-and-wife team of Bennie Fields and Blossom Seeley were huge stars in vaudeville, yet they made very few films. As is the case for some other performers of their era (George M. Cohan, Fanny Brice, Gertrude Lawrence) the most accessible piece of film footage for Fields and Seeley is the biopic ABOUT them, in which they\\'re portrayed by other actors: \\'Somebody Loves Me\\', starring Betty Hutton and that inimitable song-and-dance man Ralph Meeker.<br /><br />In their heyday, Fields and Seeley were so hugely popular that another husband-and-wife vaudeville act -- Jesse Block and Eve Sully -- achieved nearly as much stardom performing an almost identical act, effectively becoming the \"second-team\" Fields and Seeley. Offstage, though, there was a major difference in the couples\\' living arrangements. Fields and Seeley lived in hotel suites, paying room-service rates for every meal they ate, and eventually running out of money. Block and Sully lived modestly and invested their earnings wisely, ending in comfortable retirement.<br /><br />The first 30 seconds of this Vitaphone short are occupied by two spats-wearing pianists. Apparently these two men had some slight name value of their own in 1930, although I\\'ve never heard of them. Finally, Fields and Seely rush in and start performing. They both have plenty of pep, and she\\'s fairly attractive.<br /><br />I was annoyed that both performers keep making movements as if they\\'re about to break into a dance, but they never quite do so until the third of the three songs they perform in this short. When they finally start hoofing, the results are not impressive.<br /><br />I was delighted to have this opportunity to see these two major performers doing their vaude act. Now that I\\'ve seen it, I understand why they never became stars in movie musicals. My rating for this one: just 4 out of 10, and I\\'ll stick with Block and Sully.',\n",
       "  \"The Hazing is confused mumbo-jumbo that wants so hard to be The Evil Dead that it even references Bruce Campbell several times. The problem is, it is simply not in the same league as that terrific movie. This movie is nowhere near as original. The plot has been used before, by Kevin Tenney in Night of the Demons, and that was a lot more fun. This flick wastes too much time with complicated exposition before getting the kids into the spooky mansion and starting the demonic happenings.<br /><br />Brad Dourif is, as usual, not given much to do here, but when he is on screen he puts in another over-the-top performance that would make Christopher Walken jealous. As for the acting of the kids, it's passable but by no means good. The shaky camera work is more annoying than clever or atmospheric. There are a few good moments when the first guy gets possessed and throws around some deadly one liners while dispatching his victims, but it was never scary for a second. The gore level is mid-range to low, but the director tries to make up for it by showing the actresses topless a few times. All in all, just okay if you have 87 minutes to waste.\",\n",
       "  'I admit to having been a fan of the original stage production. I never saw the movie version until very lately on cable, and watched it with anticipation, to see my memories brought alive again, because I adored the original show. Imagine my dismay.<br /><br />This has to be the worst translation of a Broadway show to film ever made. They changed the story, they changed the songs, they lost the soul. I was expecting a trip down memory lane, singing to the extraordinarily touching Music and the Mirror, At the Ballet, and Hello Twelve, Hello Thirteen. Not! Not only did they adulterate the music to an almost unrecognizable point, but they messed up the storyline, adding songs and exterior plotlines (hello Cassie and Michael Douglas) not present in the original, and injecting \"drama\" where it wasn\\'t necessary. The original had enough pathos on its own. If you were a fan of the original Broadway show, don\\'t bother. I\\'m sorry I wasted my time, and diluted my memories, watching this tripe.'],\n",
       " 'label': [1, 1, 0, 1, 0, 1, 1, 0, 0, 0]}"
      ]
     },
     "execution_count": 183,
     "metadata": {},
     "output_type": "execute_result"
    }
   ],
   "source": [
    "train_data[:10]"
   ]
  },
  {
   "cell_type": "code",
   "execution_count": 184,
   "id": "7ce912da",
   "metadata": {},
   "outputs": [],
   "source": [
    "# FOR TESTING PURPOSES ONLY\n",
    "train_data = train_data[:3000]\n",
    "train_data = datasets.Dataset.from_dict(train_data)"
   ]
  },
  {
   "cell_type": "code",
   "execution_count": 185,
   "id": "734d472f",
   "metadata": {},
   "outputs": [],
   "source": [
    "from torchtext.data.utils import get_tokenizer\n",
    "\n",
    "# use a standard english tokenizer\n",
    "tokenizer = get_tokenizer('basic_english')"
   ]
  },
  {
   "cell_type": "code",
   "execution_count": 186,
   "id": "fa59d1cf",
   "metadata": {},
   "outputs": [],
   "source": [
    "# function that tokenizes the data and removes stopwords\n",
    "def tokenize_data(ex):\n",
    "    stop_words = set(stopwords.words('english'))\n",
    "    tokens = tokenizer(ex['text'])\n",
    "    tokens_without_stopwords = [token for token in tokens if token not in stop_words]\n",
    "    return {'tokens': tokens_without_stopwords}"
   ]
  },
  {
   "cell_type": "code",
   "execution_count": 187,
   "id": "1e05ed40",
   "metadata": {},
   "outputs": [
    {
     "data": {
      "application/vnd.jupyter.widget-view+json": {
       "model_id": "b9abef50c75a42a282545f6b748e2448",
       "version_major": 2,
       "version_minor": 0
      },
      "text/plain": [
       "  0%|          | 0/3000 [00:00<?, ?ex/s]"
      ]
     },
     "metadata": {},
     "output_type": "display_data"
    },
    {
     "data": {
      "application/vnd.jupyter.widget-view+json": {
       "model_id": "6f0bb48dc23c4ccf8ff720d4dc3cc1a3",
       "version_major": 2,
       "version_minor": 0
      },
      "text/plain": [
       "  0%|          | 0/25000 [00:00<?, ?ex/s]"
      ]
     },
     "metadata": {},
     "output_type": "display_data"
    }
   ],
   "source": [
    "train_data = train_data.map(tokenize_data)\n",
    "test_data = test_data.map(tokenize_data)"
   ]
  },
  {
   "cell_type": "code",
   "execution_count": 188,
   "id": "9ad52cce",
   "metadata": {},
   "outputs": [
    {
     "data": {
      "text/plain": [
       "(Dataset({\n",
       "     features: ['text', 'label', 'tokens'],\n",
       "     num_rows: 3000\n",
       " }),\n",
       " Dataset({\n",
       "     features: ['text', 'label', 'tokens'],\n",
       "     num_rows: 25000\n",
       " }))"
      ]
     },
     "execution_count": 188,
     "metadata": {},
     "output_type": "execute_result"
    }
   ],
   "source": [
    "train_data, test_data"
   ]
  },
  {
   "cell_type": "code",
   "execution_count": 189,
   "id": "bdd954e4",
   "metadata": {},
   "outputs": [],
   "source": [
    "#Documentation: https://huggingface.co/docs/datasets/v2.4.0/en/package_reference/main_classes#datasets.Dataset.train_test_split\n",
    "# split the training data into training and validation data\n",
    "train_valid_data = train_data.train_test_split() # default test_size is 0.25\n",
    "train_data = train_valid_data['train']\n",
    "valid_data = train_valid_data['test']"
   ]
  },
  {
   "cell_type": "code",
   "execution_count": 190,
   "id": "eab04959",
   "metadata": {},
   "outputs": [
    {
     "data": {
      "text/plain": [
       "(Dataset({\n",
       "     features: ['text', 'label', 'tokens'],\n",
       "     num_rows: 2250\n",
       " }),\n",
       " Dataset({\n",
       "     features: ['text', 'label', 'tokens'],\n",
       "     num_rows: 750\n",
       " }),\n",
       " Dataset({\n",
       "     features: ['text', 'label', 'tokens'],\n",
       "     num_rows: 25000\n",
       " }))"
      ]
     },
     "execution_count": 190,
     "metadata": {},
     "output_type": "execute_result"
    }
   ],
   "source": [
    "train_data, valid_data, test_data"
   ]
  },
  {
   "cell_type": "code",
   "execution_count": 191,
   "id": "4b2b6a70",
   "metadata": {},
   "outputs": [],
   "source": [
    "from torchtext.vocab import Vocab, build_vocab_from_iterator\n",
    "\n",
    "UNK_IDX, PAD_IDX = 0, 1\n",
    "special_symbols = ['<unk>', '<pad>']\n",
    "\n",
    "# build vocab from the text tokens from training data\n",
    "vocab = build_vocab_from_iterator(train_data['tokens'], min_freq = 100, specials = special_symbols)\n",
    "#vocab = build_vocab_from_iterator(train_data['tokens'], max_tokens = 32, specials = special_symbols)\n",
    "\n",
    "# set unknown index as the default\n",
    "vocab.set_default_index(UNK_IDX)"
   ]
  },
  {
   "cell_type": "code",
   "execution_count": 192,
   "id": "1b5d29b3",
   "metadata": {},
   "outputs": [
    {
     "data": {
      "text/plain": [
       "419"
      ]
     },
     "execution_count": 192,
     "metadata": {},
     "output_type": "execute_result"
    }
   ],
   "source": [
    "len(vocab)"
   ]
  },
  {
   "cell_type": "code",
   "execution_count": 143,
   "id": "e3754681",
   "metadata": {},
   "outputs": [
    {
     "data": {
      "text/plain": [
       "['<unk>',\n",
       " '<pad>',\n",
       " '.',\n",
       " ',',\n",
       " \"'\",\n",
       " 'movie',\n",
       " 'film',\n",
       " ')',\n",
       " '(',\n",
       " 'one',\n",
       " '!',\n",
       " 'like',\n",
       " '?',\n",
       " 'good',\n",
       " 'would',\n",
       " 'even',\n",
       " 'story',\n",
       " 'time',\n",
       " 'see',\n",
       " 'really',\n",
       " 'much',\n",
       " '-',\n",
       " 'well',\n",
       " 'people',\n",
       " 'bad',\n",
       " 'also',\n",
       " 'great',\n",
       " 'get',\n",
       " 'way',\n",
       " 'first']"
      ]
     },
     "execution_count": 143,
     "metadata": {},
     "output_type": "execute_result"
    }
   ],
   "source": [
    "vocab.get_itos()[:30]"
   ]
  },
  {
   "cell_type": "code",
   "execution_count": 193,
   "id": "1875e6fc",
   "metadata": {},
   "outputs": [],
   "source": [
    "# transform the tokens into numerical values \n",
    "def transform_tokens_idxs(ex):\n",
    "  idxs = {'idxs': [vocab[token] for token in ex['tokens']]}\n",
    "  return idxs"
   ]
  },
  {
   "cell_type": "code",
   "execution_count": 194,
   "id": "d4879ccd",
   "metadata": {},
   "outputs": [
    {
     "data": {
      "application/vnd.jupyter.widget-view+json": {
       "model_id": "ebed2a8f012c4b39993f70651257a32b",
       "version_major": 2,
       "version_minor": 0
      },
      "text/plain": [
       "  0%|          | 0/2250 [00:00<?, ?ex/s]"
      ]
     },
     "metadata": {},
     "output_type": "display_data"
    },
    {
     "data": {
      "application/vnd.jupyter.widget-view+json": {
       "model_id": "1d0949819c5148289e77e1a30c633cca",
       "version_major": 2,
       "version_minor": 0
      },
      "text/plain": [
       "  0%|          | 0/750 [00:00<?, ?ex/s]"
      ]
     },
     "metadata": {},
     "output_type": "display_data"
    },
    {
     "data": {
      "application/vnd.jupyter.widget-view+json": {
       "model_id": "655f5ee1b8c948f1b6c6334b74dc8f50",
       "version_major": 2,
       "version_minor": 0
      },
      "text/plain": [
       "  0%|          | 0/25000 [00:00<?, ?ex/s]"
      ]
     },
     "metadata": {},
     "output_type": "display_data"
    }
   ],
   "source": [
    "# add a column with the idxs\n",
    "train_data = train_data.map(transform_tokens_idxs)\n",
    "valid_data = valid_data.map(transform_tokens_idxs)\n",
    "test_data = test_data.map(transform_tokens_idxs)"
   ]
  },
  {
   "cell_type": "code",
   "execution_count": 195,
   "id": "75e12cb1",
   "metadata": {},
   "outputs": [
    {
     "data": {
      "text/plain": [
       "(Dataset({\n",
       "     features: ['text', 'label', 'tokens', 'idxs'],\n",
       "     num_rows: 2250\n",
       " }),\n",
       " Dataset({\n",
       "     features: ['text', 'label', 'tokens', 'idxs'],\n",
       "     num_rows: 750\n",
       " }),\n",
       " Dataset({\n",
       "     features: ['text', 'label', 'tokens', 'idxs'],\n",
       "     num_rows: 25000\n",
       " }))"
      ]
     },
     "execution_count": 195,
     "metadata": {},
     "output_type": "execute_result"
    }
   ],
   "source": [
    "train_data, valid_data, test_data"
   ]
  },
  {
   "cell_type": "code",
   "execution_count": 196,
   "id": "d715a521",
   "metadata": {},
   "outputs": [],
   "source": [
    "# SIMPLE RNN MODEL\n",
    "from torch import nn\n",
    "\n",
    "class RNN(nn.Module):\n",
    "# I referred to this tutorial for help: https://github.com/bentrevett/pytorch-sentiment-analysis/blob/master/1%20-%20Simple%20Sentiment%20Analysis.ipynb\n",
    "    def __init__(self, vocab_size, emb_dim, hid_dim, output_dim):\n",
    "        super().__init__()\n",
    "        # embedding layer\n",
    "        self.embedding = nn.Embedding(vocab_size, emb_dim)\n",
    "        # RNN layer\n",
    "        self.rnn = nn.RNN(emb_dim, hid_dim) # default batch_first is False\n",
    "        # linear layer\n",
    "        self.linear = nn.Linear(hid_dim, output_dim)\n",
    "    def forward(self, text):\n",
    "        # input text is dimension [seq_len, batch_size]\n",
    "        # apply embeddings to the words\n",
    "        embedded = self.embedding(text)\n",
    "        # embedded is dimension [seq_len, batch_size, emb_dim] because batch_first = False\n",
    "        # run through RNN\n",
    "        output, hidden = self.rnn(embedded)\n",
    "        # hidden is dimension [1, batch_size, hid_dim]\n",
    "        # get the predictions\n",
    "        scores = self.linear(hidden.squeeze(0))\n",
    "        # scores should have the dimension [batch_size, output_dim]\n",
    "        return scores"
   ]
  },
  {
   "cell_type": "code",
   "execution_count": 197,
   "id": "9d9ae351",
   "metadata": {},
   "outputs": [],
   "source": [
    "from torch.nn.utils.rnn import pad_sequence\n",
    "\n",
    "# collate function to put examples in batches \n",
    "def collate_batch(batch):\n",
    "  batch_idxs, batch_labels = [], []\n",
    "\n",
    "  for b in batch: \n",
    "    #print(b)\n",
    "    batch_idxs.append(torch.LongTensor(b['idxs']))\n",
    "    batch_labels.append(torch.tensor(b['label']))\n",
    "\n",
    "  # pad idxs that are shorter than the longest sentence\n",
    "  batch_idxs = pad_sequence(batch_idxs, batch_first = False, padding_value = PAD_IDX)\n",
    "  batch_labels = torch.stack(batch_labels)\n",
    "\n",
    "  batch = {'idxs': batch_idxs,\n",
    "           'labels': batch_labels}\n",
    "  \n",
    "  return batch"
   ]
  },
  {
   "cell_type": "code",
   "execution_count": 198,
   "id": "bda16427",
   "metadata": {},
   "outputs": [],
   "source": [
    "INPUT_DIM = len(vocab)\n",
    "EMBEDDING_DIM = 128\n",
    "HIDDEN_DIM = 256\n",
    "OUTPUT_DIM = 2 # there are only 2 labels - 0 (neg) or 1 (pos)\n",
    "\n",
    "model = RNN(INPUT_DIM, EMBEDDING_DIM, HIDDEN_DIM, OUTPUT_DIM)\n",
    "\n",
    "criterion = nn.CrossEntropyLoss()"
   ]
  },
  {
   "cell_type": "code",
   "execution_count": 199,
   "id": "e53aad7a",
   "metadata": {},
   "outputs": [
    {
     "data": {
      "text/plain": [
       "RNN(\n",
       "  (embedding): Embedding(419, 128)\n",
       "  (rnn): RNN(128, 256)\n",
       "  (linear): Linear(in_features=256, out_features=2, bias=True)\n",
       ")"
      ]
     },
     "execution_count": 199,
     "metadata": {},
     "output_type": "execute_result"
    }
   ],
   "source": [
    "def init_weights(m):\n",
    "    for name, param in m.named_parameters():\n",
    "        nn.init.normal_(param.data, mean=0, std=0.01)\n",
    "        \n",
    "model.apply(init_weights)"
   ]
  },
  {
   "cell_type": "code",
   "execution_count": 200,
   "id": "61e01fb9",
   "metadata": {},
   "outputs": [],
   "source": [
    "from torch.utils.data import DataLoader\n",
    "\n",
    "BATCH_SIZE = 500\n",
    "\n",
    "train_dataloader = torch.utils.data.DataLoader(train_data, batch_size=BATCH_SIZE, collate_fn=collate_batch)\n",
    "valid_dataloader = torch.utils.data.DataLoader(valid_data, batch_size=BATCH_SIZE, collate_fn=collate_batch)\n",
    "test_dataloader = torch.utils.data.DataLoader(test_data, batch_size=BATCH_SIZE, collate_fn=collate_batch)"
   ]
  },
  {
   "cell_type": "code",
   "execution_count": 201,
   "id": "6c33c448",
   "metadata": {},
   "outputs": [],
   "source": [
    "import torch.optim as optim\n",
    "\n",
    "# initialize optimizer\n",
    "optimizer = optim.Adam(model.parameters(), lr=5e-3)"
   ]
  },
  {
   "cell_type": "code",
   "execution_count": 202,
   "id": "1156e5b0",
   "metadata": {},
   "outputs": [],
   "source": [
    "def get_accuracy(predictions, actual_labels):\n",
    "    batch_size = predictions.shape[0]\n",
    "    predicted_labels = predictions.argmax(1)\n",
    "    num_correct = (predicted_labels == actual_labels).sum()\n",
    "    accuracy = num_correct / batch_size\n",
    "    return accuracy"
   ]
  },
  {
   "cell_type": "code",
   "execution_count": 203,
   "id": "5f1f5f9f",
   "metadata": {},
   "outputs": [],
   "source": [
    "def train(dataloader, model, optimizer):\n",
    "    model.train()\n",
    "\n",
    "    epoch_loss, epoch_accuracy = 0, 0\n",
    "\n",
    "    for idx, batch in enumerate(dataloader):\n",
    "        token_ids = batch['idxs']\n",
    "        labels = batch['labels']\n",
    "        optimizer.zero_grad()\n",
    "        predictions = model(token_ids)\n",
    "        loss = criterion(predictions, labels)\n",
    "        accuracy = get_accuracy(predictions, labels)\n",
    "        loss.backward()\n",
    "        optimizer.step()\n",
    "        epoch_loss += loss.item()\n",
    "        epoch_accuracy += accuracy.item()\n",
    "    # model.layer\n",
    "    return epoch_loss / len(dataloader), epoch_accuracy / len(dataloader)"
   ]
  },
  {
   "cell_type": "code",
   "execution_count": 205,
   "id": "e87634d8",
   "metadata": {},
   "outputs": [],
   "source": [
    "def evaluate(dataloader, model):\n",
    "    model.eval()\n",
    "\n",
    "    epoch_loss, epoch_accuracy = 0, 0\n",
    "\n",
    "    with torch.no_grad():\n",
    "        for idx, batch in enumerate(dataloader):\n",
    "            token_ids = batch['idxs']\n",
    "            labels = batch['labels']\n",
    "            predictions = model(token_ids)\n",
    "            loss = criterion(predictions, labels)\n",
    "            accuracy = get_accuracy(predictions, labels)\n",
    "            epoch_loss += loss.item()\n",
    "            epoch_accuracy += accuracy.item()\n",
    "\n",
    "    return epoch_loss / len(dataloader), epoch_accuracy / len(dataloader)"
   ]
  },
  {
   "cell_type": "code",
   "execution_count": 206,
   "id": "d80da482",
   "metadata": {},
   "outputs": [],
   "source": [
    "import time\n",
    "\n",
    "def epoch_time(start_time, end_time):\n",
    "    elapsed_time = end_time - start_time\n",
    "    elapsed_mins = int(elapsed_time / 60)\n",
    "    elapsed_secs = int(elapsed_time - (elapsed_mins * 60))\n",
    "    return elapsed_mins, elapsed_secs"
   ]
  },
  {
   "cell_type": "code",
   "execution_count": 33,
   "id": "8834e223",
   "metadata": {},
   "outputs": [
    {
     "name": "stdout",
     "output_type": "stream",
     "text": [
      "Epoch: 01 | Time: 1m 4s\n",
      "train_loss: 3.526, train_acc: 0.495\n",
      "valid_loss: 0.955, valid_acc: 0.500\n",
      "test_loss: 0.923, test_acc: 0.494\n",
      "Epoch: 02 | Time: 0m 58s\n",
      "train_loss: 0.952, train_acc: 0.502\n",
      "valid_loss: 0.743, valid_acc: 0.500\n",
      "test_loss: 0.734, test_acc: 0.494\n",
      "Epoch: 03 | Time: 1m 3s\n",
      "train_loss: 0.740, train_acc: 0.502\n",
      "valid_loss: 0.785, valid_acc: 0.500\n",
      "test_loss: 0.781, test_acc: 0.494\n",
      "Epoch: 04 | Time: 1m 5s\n",
      "train_loss: 0.903, train_acc: 0.501\n",
      "valid_loss: 1.601, valid_acc: 0.504\n",
      "test_loss: 1.733, test_acc: 0.504\n",
      "Epoch: 05 | Time: 0m 58s\n",
      "train_loss: 1.563, train_acc: 0.493\n",
      "valid_loss: 1.097, valid_acc: 0.505\n",
      "test_loss: 1.112, test_acc: 0.504\n",
      "Epoch: 06 | Time: 1m 2s\n",
      "train_loss: 2.468, train_acc: 0.496\n",
      "valid_loss: 1.936, valid_acc: 0.497\n",
      "test_loss: 1.678, test_acc: 0.502\n",
      "Epoch: 07 | Time: 1m 2s\n",
      "train_loss: 1.874, train_acc: 0.500\n",
      "valid_loss: 0.936, valid_acc: 0.499\n",
      "test_loss: 0.935, test_acc: 0.500\n",
      "Epoch: 08 | Time: 0m 57s\n",
      "train_loss: 0.761, train_acc: 0.492\n",
      "valid_loss: 0.695, valid_acc: 0.498\n",
      "test_loss: 0.695, test_acc: 0.500\n",
      "Epoch: 09 | Time: 1m 0s\n",
      "train_loss: 0.721, train_acc: 0.498\n",
      "valid_loss: 0.760, valid_acc: 0.499\n",
      "test_loss: 0.759, test_acc: 0.500\n",
      "Epoch: 10 | Time: 0m 59s\n",
      "train_loss: 0.731, train_acc: 0.500\n",
      "valid_loss: 0.717, valid_acc: 0.498\n",
      "test_loss: 0.716, test_acc: 0.500\n",
      "Epoch: 11 | Time: 0m 55s\n",
      "train_loss: 0.729, train_acc: 0.500\n",
      "valid_loss: 0.704, valid_acc: 0.501\n",
      "test_loss: 0.704, test_acc: 0.500\n",
      "Epoch: 12 | Time: 0m 57s\n",
      "train_loss: 0.754, train_acc: 0.500\n",
      "valid_loss: 0.712, valid_acc: 0.501\n",
      "test_loss: 0.712, test_acc: 0.500\n",
      "Epoch: 13 | Time: 0m 55s\n",
      "train_loss: 0.765, train_acc: 0.502\n",
      "valid_loss: 0.739, valid_acc: 0.501\n",
      "test_loss: 0.740, test_acc: 0.500\n",
      "Epoch: 14 | Time: 1m 0s\n",
      "train_loss: 0.779, train_acc: 0.502\n",
      "valid_loss: 0.749, valid_acc: 0.501\n",
      "test_loss: 0.749, test_acc: 0.500\n",
      "Epoch: 15 | Time: 1m 0s\n",
      "train_loss: 0.785, train_acc: 0.500\n",
      "valid_loss: 0.763, valid_acc: 0.501\n",
      "test_loss: 0.763, test_acc: 0.500\n",
      "Epoch: 16 | Time: 0m 57s\n",
      "train_loss: 0.792, train_acc: 0.501\n",
      "valid_loss: 0.768, valid_acc: 0.501\n",
      "test_loss: 0.768, test_acc: 0.500\n",
      "Epoch: 17 | Time: 0m 59s\n",
      "train_loss: 0.794, train_acc: 0.501\n",
      "valid_loss: 0.774, valid_acc: 0.501\n",
      "test_loss: 0.775, test_acc: 0.500\n",
      "Epoch: 18 | Time: 0m 59s\n",
      "train_loss: 0.798, train_acc: 0.501\n",
      "valid_loss: 0.775, valid_acc: 0.501\n",
      "test_loss: 0.776, test_acc: 0.500\n",
      "Epoch: 19 | Time: 1m 1s\n",
      "train_loss: 0.799, train_acc: 0.501\n",
      "valid_loss: 0.780, valid_acc: 0.501\n",
      "test_loss: 0.780, test_acc: 0.500\n",
      "Epoch: 20 | Time: 0m 57s\n",
      "train_loss: 0.802, train_acc: 0.501\n",
      "valid_loss: 0.779, valid_acc: 0.501\n",
      "test_loss: 0.780, test_acc: 0.500\n",
      "Epoch: 21 | Time: 0m 49s\n",
      "train_loss: 0.801, train_acc: 0.501\n",
      "valid_loss: 0.783, valid_acc: 0.501\n",
      "test_loss: 0.783, test_acc: 0.500\n",
      "Epoch: 22 | Time: 0m 49s\n",
      "train_loss: 0.803, train_acc: 0.501\n",
      "valid_loss: 0.781, valid_acc: 0.501\n",
      "test_loss: 0.782, test_acc: 0.500\n",
      "Epoch: 23 | Time: 0m 47s\n",
      "train_loss: 0.802, train_acc: 0.501\n",
      "valid_loss: 0.785, valid_acc: 0.501\n",
      "test_loss: 0.785, test_acc: 0.500\n",
      "Epoch: 24 | Time: 0m 54s\n",
      "train_loss: 0.804, train_acc: 0.501\n",
      "valid_loss: 0.782, valid_acc: 0.501\n",
      "test_loss: 0.783, test_acc: 0.500\n",
      "Epoch: 25 | Time: 1m 2s\n",
      "train_loss: 0.803, train_acc: 0.501\n",
      "valid_loss: 0.786, valid_acc: 0.501\n",
      "test_loss: 0.786, test_acc: 0.500\n",
      "Epoch: 26 | Time: 0m 58s\n",
      "train_loss: 0.805, train_acc: 0.501\n",
      "valid_loss: 0.783, valid_acc: 0.501\n",
      "test_loss: 0.783, test_acc: 0.500\n",
      "Epoch: 27 | Time: 0m 59s\n",
      "train_loss: 0.803, train_acc: 0.501\n",
      "valid_loss: 0.786, valid_acc: 0.501\n",
      "test_loss: 0.787, test_acc: 0.500\n",
      "Epoch: 28 | Time: 0m 58s\n",
      "train_loss: 0.805, train_acc: 0.501\n",
      "valid_loss: 0.783, valid_acc: 0.501\n",
      "test_loss: 0.783, test_acc: 0.500\n",
      "Epoch: 29 | Time: 1m 0s\n",
      "train_loss: 0.803, train_acc: 0.501\n",
      "valid_loss: 0.787, valid_acc: 0.501\n",
      "test_loss: 0.787, test_acc: 0.500\n",
      "Epoch: 30 | Time: 0m 58s\n",
      "train_loss: 0.806, train_acc: 0.501\n",
      "valid_loss: 0.782, valid_acc: 0.501\n",
      "test_loss: 0.783, test_acc: 0.500\n"
     ]
    },
    {
     "data": {
      "text/plain": [
       "<matplotlib.legend.Legend at 0x7f4dadc3bd00>"
      ]
     },
     "execution_count": 33,
     "metadata": {},
     "output_type": "execute_result"
    },
    {
     "data": {
      "image/png": "[encoded data removed]",
      "text/plain": [
       "<Figure size 432x288 with 1 Axes>"
      ]
     },
     "metadata": {
      "needs_background": "light"
     },
     "output_type": "display_data"
    }
   ],
   "source": [
    "# RNN (with vocab min freq = 100 and batch size = 500 and lr=0.1)\n",
    "N_EPOCHS = 30\n",
    "best_valid_loss = float('inf')\n",
    "\n",
    "valid_accuracies = []\n",
    "train_accuracies = []\n",
    "test_accuracies = []\n",
    "\n",
    "for epoch in range(N_EPOCHS):\n",
    "  \n",
    "    start_time = time.time()\n",
    "\n",
    "    train_loss, train_acc = train(train_dataloader)\n",
    "    valid_loss, valid_acc = evaluate(valid_dataloader)\n",
    "    test_loss, test_acc = evaluate(test_dataloader)\n",
    "\n",
    "    end_time = time.time()\n",
    "\n",
    "    valid_accuracies.append(valid_acc)\n",
    "    train_accuracies.append(train_acc)\n",
    "    test_accuracies.append(test_acc)\n",
    "\n",
    "    epoch_mins, epoch_secs = epoch_time(start_time, end_time)\n",
    "\n",
    "    # save the best model\n",
    "    if valid_loss < best_valid_loss:\n",
    "        best_valid_loss = valid_loss\n",
    "        torch.save(model.state_dict(), 'tut2-model.pt')\n",
    "\n",
    "    print(f'Epoch: {epoch+1:02} | Time: {epoch_mins}m {epoch_secs}s')\n",
    "    print(f'train_loss: {train_loss:.3f}, train_acc: {train_acc:.3f}')\n",
    "    print(f'valid_loss: {valid_loss:.3f}, valid_acc: {valid_acc:.3f}')\n",
    "    print(f'test_loss: {test_loss:.3f}, test_acc: {test_acc:.3f}')\n",
    "\n",
    "plt.plot(range(1, N_EPOCHS+1), valid_accuracies, label = 'validation accuracy')\n",
    "plt.plot(range(1, N_EPOCHS+1), train_accuracies, label = 'training accuracy')\n",
    "plt.plot(range(1, N_EPOCHS+1), test_accuracies, label = 'test accuracy')\n",
    "plt.legend(loc=\"upper left\")"
   ]
  },
  {
   "cell_type": "code",
   "execution_count": 67,
   "id": "85eb0b49",
   "metadata": {},
   "outputs": [
    {
     "name": "stdout",
     "output_type": "stream",
     "text": [
      "Epoch: 01 | Time: 0m 0s\n",
      "train_loss: 17.970, train_acc: 0.000\n",
      "valid_loss: 0.000, valid_acc: 1.000\n",
      "Epoch: 02 | Time: 0m 0s\n",
      "train_loss: 0.000, train_acc: 1.000\n",
      "valid_loss: 0.000, valid_acc: 1.000\n",
      "Epoch: 03 | Time: 0m 0s\n",
      "train_loss: 0.000, train_acc: 1.000\n",
      "valid_loss: 0.000, valid_acc: 1.000\n",
      "Epoch: 04 | Time: 0m 0s\n",
      "train_loss: 0.000, train_acc: 1.000\n",
      "valid_loss: 0.000, valid_acc: 1.000\n",
      "Epoch: 05 | Time: 0m 0s\n",
      "train_loss: 0.000, train_acc: 1.000\n",
      "valid_loss: 0.000, valid_acc: 1.000\n",
      "Epoch: 06 | Time: 0m 0s\n",
      "train_loss: 0.000, train_acc: 1.000\n",
      "valid_loss: 0.000, valid_acc: 1.000\n",
      "Epoch: 07 | Time: 0m 0s\n",
      "train_loss: 0.000, train_acc: 1.000\n",
      "valid_loss: 0.000, valid_acc: 1.000\n",
      "Epoch: 08 | Time: 0m 0s\n",
      "train_loss: 0.000, train_acc: 1.000\n",
      "valid_loss: 0.000, valid_acc: 1.000\n",
      "Epoch: 09 | Time: 0m 0s\n",
      "train_loss: 0.000, train_acc: 1.000\n",
      "valid_loss: 0.000, valid_acc: 1.000\n",
      "Epoch: 10 | Time: 0m 0s\n",
      "train_loss: 0.000, train_acc: 1.000\n",
      "valid_loss: 0.000, valid_acc: 1.000\n",
      "Epoch: 11 | Time: 0m 0s\n",
      "train_loss: 0.000, train_acc: 1.000\n",
      "valid_loss: 0.000, valid_acc: 1.000\n",
      "Epoch: 12 | Time: 0m 0s\n",
      "train_loss: 0.000, train_acc: 1.000\n",
      "valid_loss: 0.000, valid_acc: 1.000\n",
      "Epoch: 13 | Time: 0m 0s\n",
      "train_loss: 0.000, train_acc: 1.000\n",
      "valid_loss: 0.000, valid_acc: 1.000\n",
      "Epoch: 14 | Time: 0m 0s\n",
      "train_loss: 0.000, train_acc: 1.000\n",
      "valid_loss: 0.000, valid_acc: 1.000\n",
      "Epoch: 15 | Time: 0m 0s\n",
      "train_loss: 0.000, train_acc: 1.000\n",
      "valid_loss: 0.000, valid_acc: 1.000\n",
      "Epoch: 16 | Time: 0m 0s\n",
      "train_loss: 0.000, train_acc: 1.000\n",
      "valid_loss: 0.000, valid_acc: 1.000\n",
      "Epoch: 17 | Time: 0m 0s\n",
      "train_loss: 0.000, train_acc: 1.000\n",
      "valid_loss: 0.000, valid_acc: 1.000\n",
      "Epoch: 18 | Time: 0m 0s\n",
      "train_loss: 0.000, train_acc: 1.000\n",
      "valid_loss: 0.000, valid_acc: 1.000\n",
      "Epoch: 19 | Time: 0m 0s\n",
      "train_loss: 0.000, train_acc: 1.000\n",
      "valid_loss: 0.000, valid_acc: 1.000\n",
      "Epoch: 20 | Time: 0m 0s\n",
      "train_loss: 0.000, train_acc: 1.000\n",
      "valid_loss: 0.000, valid_acc: 1.000\n",
      "Epoch: 21 | Time: 0m 0s\n",
      "train_loss: 0.000, train_acc: 1.000\n",
      "valid_loss: 0.000, valid_acc: 1.000\n",
      "Epoch: 22 | Time: 0m 0s\n",
      "train_loss: 0.000, train_acc: 1.000\n",
      "valid_loss: 0.000, valid_acc: 1.000\n",
      "Epoch: 23 | Time: 0m 0s\n",
      "train_loss: 0.000, train_acc: 1.000\n",
      "valid_loss: 0.000, valid_acc: 1.000\n",
      "Epoch: 24 | Time: 0m 0s\n",
      "train_loss: 0.000, train_acc: 1.000\n",
      "valid_loss: 0.000, valid_acc: 1.000\n",
      "Epoch: 25 | Time: 0m 0s\n",
      "train_loss: 0.000, train_acc: 1.000\n",
      "valid_loss: 0.000, valid_acc: 1.000\n",
      "Epoch: 26 | Time: 0m 0s\n",
      "train_loss: 0.000, train_acc: 1.000\n",
      "valid_loss: 0.000, valid_acc: 1.000\n",
      "Epoch: 27 | Time: 0m 0s\n",
      "train_loss: 0.000, train_acc: 1.000\n",
      "valid_loss: 0.000, valid_acc: 1.000\n",
      "Epoch: 28 | Time: 0m 0s\n",
      "train_loss: 0.000, train_acc: 1.000\n",
      "valid_loss: 0.000, valid_acc: 1.000\n",
      "Epoch: 29 | Time: 0m 0s\n",
      "train_loss: 0.000, train_acc: 1.000\n",
      "valid_loss: 0.000, valid_acc: 1.000\n",
      "Epoch: 30 | Time: 0m 0s\n",
      "train_loss: 0.000, train_acc: 1.000\n",
      "valid_loss: 0.000, valid_acc: 1.000\n"
     ]
    },
    {
     "data": {
      "text/plain": [
       "<matplotlib.legend.Legend at 0x7f4dad5a3d00>"
      ]
     },
     "execution_count": 67,
     "metadata": {},
     "output_type": "execute_result"
    },
    {
     "data": {
      "image/png": "[encoded data removed]",
      "text/plain": [
       "<Figure size 432x288 with 1 Axes>"
      ]
     },
     "metadata": {
      "needs_background": "light"
     },
     "output_type": "display_data"
    }
   ],
   "source": [
    "# RNN (with vocab min freq = 2 and batch size = 1 and lr=0.1 and only 3 examples)\n",
    "# lr of 1e-3 is a better learning rate\n",
    "N_EPOCHS = 30\n",
    "best_valid_loss = float('inf')\n",
    "\n",
    "valid_accuracies = []\n",
    "train_accuracies = []\n",
    "test_accuracies = []\n",
    "\n",
    "for epoch in range(N_EPOCHS):\n",
    "  \n",
    "    start_time = time.time()\n",
    "\n",
    "    train_loss, train_acc = train(train_dataloader)\n",
    "    valid_loss, valid_acc = evaluate(valid_dataloader)\n",
    "    #test_loss, test_acc = evaluate(test_dataloader)\n",
    "\n",
    "    end_time = time.time()\n",
    "\n",
    "    valid_accuracies.append(valid_acc)\n",
    "    train_accuracies.append(train_acc)\n",
    "    #test_accuracies.append(test_acc)\n",
    "\n",
    "    epoch_mins, epoch_secs = epoch_time(start_time, end_time)\n",
    "\n",
    "    # save the best model\n",
    "    if valid_loss < best_valid_loss:\n",
    "        best_valid_loss = valid_loss\n",
    "        torch.save(model.state_dict(), 'tut2-model.pt')\n",
    "\n",
    "    print(f'Epoch: {epoch+1:02} | Time: {epoch_mins}m {epoch_secs}s')\n",
    "    print(f'train_loss: {train_loss:.3f}, train_acc: {train_acc:.3f}')\n",
    "    print(f'valid_loss: {valid_loss:.3f}, valid_acc: {valid_acc:.3f}')\n",
    "    #print(f'test_loss: {test_loss:.3f}, test_acc: {test_acc:.3f}')\n",
    "\n",
    "plt.plot(range(1, N_EPOCHS+1), valid_accuracies, label = 'validation accuracy')\n",
    "plt.plot(range(1, N_EPOCHS+1), train_accuracies, label = 'training accuracy')\n",
    "#plt.plot(range(1, N_EPOCHS+1), test_accuracies, label = 'test accuracy')\n",
    "plt.legend(loc=\"upper left\")"
   ]
  },
  {
   "cell_type": "code",
   "execution_count": 157,
   "id": "8cea2ef2",
   "metadata": {},
   "outputs": [
    {
     "name": "stdout",
     "output_type": "stream",
     "text": [
      "Epoch: 01 | Time: 0m 6s\n",
      "train_loss: 0.693, train_acc: 0.517\n",
      "valid_loss: 0.693, valid_acc: 0.509\n",
      "Epoch: 02 | Time: 0m 6s\n",
      "train_loss: 0.693, train_acc: 0.517\n",
      "valid_loss: 0.693, valid_acc: 0.509\n",
      "Epoch: 03 | Time: 0m 6s\n",
      "train_loss: 0.693, train_acc: 0.517\n",
      "valid_loss: 0.693, valid_acc: 0.509\n",
      "Epoch: 04 | Time: 0m 6s\n",
      "train_loss: 0.693, train_acc: 0.517\n",
      "valid_loss: 0.693, valid_acc: 0.509\n",
      "Epoch: 05 | Time: 0m 6s\n",
      "train_loss: 0.693, train_acc: 0.517\n",
      "valid_loss: 0.693, valid_acc: 0.509\n",
      "Epoch: 06 | Time: 0m 6s\n",
      "train_loss: 0.693, train_acc: 0.517\n",
      "valid_loss: 0.693, valid_acc: 0.509\n",
      "Epoch: 07 | Time: 0m 6s\n",
      "train_loss: 0.693, train_acc: 0.517\n",
      "valid_loss: 0.693, valid_acc: 0.509\n",
      "Epoch: 08 | Time: 0m 6s\n",
      "train_loss: 0.693, train_acc: 0.517\n",
      "valid_loss: 0.693, valid_acc: 0.509\n",
      "Epoch: 09 | Time: 0m 6s\n",
      "train_loss: 0.693, train_acc: 0.517\n",
      "valid_loss: 0.693, valid_acc: 0.509\n",
      "Epoch: 10 | Time: 0m 7s\n",
      "train_loss: 0.693, train_acc: 0.517\n",
      "valid_loss: 0.693, valid_acc: 0.509\n",
      "Epoch: 11 | Time: 0m 7s\n",
      "train_loss: 0.693, train_acc: 0.517\n",
      "valid_loss: 0.693, valid_acc: 0.509\n",
      "Epoch: 12 | Time: 0m 7s\n",
      "train_loss: 0.692, train_acc: 0.517\n",
      "valid_loss: 0.693, valid_acc: 0.509\n",
      "Epoch: 13 | Time: 0m 7s\n",
      "train_loss: 0.692, train_acc: 0.518\n",
      "valid_loss: 0.693, valid_acc: 0.509\n",
      "Epoch: 14 | Time: 0m 8s\n",
      "train_loss: 0.692, train_acc: 0.518\n",
      "valid_loss: 0.693, valid_acc: 0.509\n",
      "Epoch: 15 | Time: 0m 10s\n",
      "train_loss: 0.692, train_acc: 0.518\n",
      "valid_loss: 0.693, valid_acc: 0.509\n",
      "Epoch: 16 | Time: 0m 14s\n",
      "train_loss: 0.692, train_acc: 0.518\n",
      "valid_loss: 0.694, valid_acc: 0.509\n",
      "Epoch: 17 | Time: 0m 7s\n",
      "train_loss: 0.692, train_acc: 0.517\n",
      "valid_loss: 0.694, valid_acc: 0.509\n",
      "Epoch: 18 | Time: 0m 13s\n",
      "train_loss: 0.692, train_acc: 0.518\n",
      "valid_loss: 0.694, valid_acc: 0.509\n",
      "Epoch: 19 | Time: 0m 21s\n",
      "train_loss: 0.692, train_acc: 0.518\n",
      "valid_loss: 0.695, valid_acc: 0.509\n",
      "Epoch: 20 | Time: 0m 16s\n",
      "train_loss: 0.691, train_acc: 0.518\n",
      "valid_loss: 0.696, valid_acc: 0.509\n",
      "Epoch: 21 | Time: 0m 17s\n",
      "train_loss: 0.691, train_acc: 0.518\n",
      "valid_loss: 0.697, valid_acc: 0.509\n",
      "Epoch: 22 | Time: 0m 17s\n",
      "train_loss: 0.691, train_acc: 0.518\n",
      "valid_loss: 0.697, valid_acc: 0.509\n",
      "Epoch: 23 | Time: 0m 16s\n",
      "train_loss: 0.691, train_acc: 0.518\n",
      "valid_loss: 0.698, valid_acc: 0.509\n",
      "Epoch: 24 | Time: 0m 17s\n",
      "train_loss: 0.691, train_acc: 0.518\n",
      "valid_loss: 0.698, valid_acc: 0.509\n",
      "Epoch: 25 | Time: 0m 19s\n",
      "train_loss: 0.691, train_acc: 0.518\n",
      "valid_loss: 0.698, valid_acc: 0.509\n",
      "Epoch: 26 | Time: 0m 12s\n",
      "train_loss: 0.691, train_acc: 0.517\n",
      "valid_loss: 0.697, valid_acc: 0.508\n",
      "Epoch: 27 | Time: 0m 7s\n",
      "train_loss: 0.691, train_acc: 0.518\n",
      "valid_loss: 0.699, valid_acc: 0.508\n",
      "Epoch: 28 | Time: 0m 21s\n",
      "train_loss: 0.691, train_acc: 0.518\n",
      "valid_loss: 0.699, valid_acc: 0.509\n",
      "Epoch: 29 | Time: 0m 19s\n",
      "train_loss: 0.691, train_acc: 0.518\n",
      "valid_loss: 0.699, valid_acc: 0.508\n",
      "Epoch: 30 | Time: 0m 8s\n",
      "train_loss: 0.691, train_acc: 0.518\n",
      "valid_loss: 0.697, valid_acc: 0.508\n"
     ]
    },
    {
     "data": {
      "text/plain": [
       "<matplotlib.legend.Legend at 0x7f4dadc25a90>"
      ]
     },
     "execution_count": 157,
     "metadata": {},
     "output_type": "execute_result"
    },
    {
     "data": {
      "image/png": "[encoded data removed]",
      "text/plain": [
       "<Figure size 432x288 with 1 Axes>"
      ]
     },
     "metadata": {
      "needs_background": "light"
     },
     "output_type": "display_data"
    }
   ],
   "source": [
    "# RNN (with vocab min freq = 100 and batch size = 500 and lr=1e-3 and only 3000 examples)\n",
    "# lr of 1e-3 is a better learning rate\n",
    "N_EPOCHS = 30\n",
    "best_valid_loss = float('inf')\n",
    "\n",
    "valid_accuracies = []\n",
    "train_accuracies = []\n",
    "test_accuracies = []\n",
    "\n",
    "for epoch in range(N_EPOCHS):\n",
    "  \n",
    "    start_time = time.time()\n",
    "\n",
    "    train_loss, train_acc = train(train_dataloader)\n",
    "    valid_loss, valid_acc = evaluate(valid_dataloader)\n",
    "    #test_loss, test_acc = evaluate(test_dataloader)\n",
    "\n",
    "    end_time = time.time()\n",
    "\n",
    "    valid_accuracies.append(valid_acc)\n",
    "    train_accuracies.append(train_acc)\n",
    "    #test_accuracies.append(test_acc)\n",
    "\n",
    "    epoch_mins, epoch_secs = epoch_time(start_time, end_time)\n",
    "\n",
    "    # save the best model\n",
    "    if valid_loss < best_valid_loss:\n",
    "        best_valid_loss = valid_loss\n",
    "        torch.save(model.state_dict(), 'tut2-model.pt')\n",
    "\n",
    "    print(f'Epoch: {epoch+1:02} | Time: {epoch_mins}m {epoch_secs}s')\n",
    "    print(f'train_loss: {train_loss:.3f}, train_acc: {train_acc:.3f}')\n",
    "    print(f'valid_loss: {valid_loss:.3f}, valid_acc: {valid_acc:.3f}')\n",
    "    #print(f'test_loss: {test_loss:.3f}, test_acc: {test_acc:.3f}')\n",
    "\n",
    "plt.plot(range(1, N_EPOCHS+1), valid_accuracies, label = 'validation accuracy')\n",
    "plt.plot(range(1, N_EPOCHS+1), train_accuracies, label = 'training accuracy')\n",
    "#plt.plot(range(1, N_EPOCHS+1), test_accuracies, label = 'test accuracy')\n",
    "plt.legend(loc=\"upper left\")"
   ]
  },
  {
   "cell_type": "code",
   "execution_count": 168,
   "id": "9a5af247",
   "metadata": {},
   "outputs": [
    {
     "name": "stdout",
     "output_type": "stream",
     "text": [
      "Epoch: 01 | Time: 0m 10s\n",
      "train_loss: 0.693, train_acc: 0.508\n",
      "valid_loss: 0.693, valid_acc: 0.509\n",
      "Epoch: 02 | Time: 0m 17s\n",
      "train_loss: 0.693, train_acc: 0.517\n",
      "valid_loss: 0.693, valid_acc: 0.509\n",
      "Epoch: 03 | Time: 0m 14s\n",
      "train_loss: 0.702, train_acc: 0.503\n",
      "valid_loss: 0.698, valid_acc: 0.532\n",
      "Epoch: 04 | Time: 0m 4s\n",
      "train_loss: 0.721, train_acc: 0.531\n",
      "valid_loss: 0.709, valid_acc: 0.509\n",
      "Epoch: 05 | Time: 0m 3s\n",
      "train_loss: 0.687, train_acc: 0.551\n",
      "valid_loss: 0.762, valid_acc: 0.508\n",
      "Epoch: 06 | Time: 0m 4s\n",
      "train_loss: 0.732, train_acc: 0.500\n",
      "valid_loss: 0.692, valid_acc: 0.526\n",
      "Epoch: 07 | Time: 0m 4s\n",
      "train_loss: 0.700, train_acc: 0.544\n",
      "valid_loss: 0.763, valid_acc: 0.509\n",
      "Epoch: 08 | Time: 0m 4s\n",
      "train_loss: 0.717, train_acc: 0.542\n",
      "valid_loss: 0.715, valid_acc: 0.509\n",
      "Epoch: 09 | Time: 0m 11s\n",
      "train_loss: 0.709, train_acc: 0.481\n",
      "valid_loss: 0.700, valid_acc: 0.510\n",
      "Epoch: 10 | Time: 0m 12s\n",
      "train_loss: 0.715, train_acc: 0.517\n",
      "valid_loss: 0.693, valid_acc: 0.513\n",
      "Epoch: 11 | Time: 0m 14s\n",
      "train_loss: 0.701, train_acc: 0.497\n",
      "valid_loss: 0.703, valid_acc: 0.512\n",
      "Epoch: 12 | Time: 0m 9s\n",
      "train_loss: 0.689, train_acc: 0.524\n",
      "valid_loss: 0.714, valid_acc: 0.505\n",
      "Epoch: 13 | Time: 0m 8s\n",
      "train_loss: 0.696, train_acc: 0.504\n",
      "valid_loss: 0.731, valid_acc: 0.502\n",
      "Epoch: 14 | Time: 0m 7s\n",
      "train_loss: 0.686, train_acc: 0.549\n",
      "valid_loss: 0.726, valid_acc: 0.499\n",
      "Epoch: 15 | Time: 0m 7s\n",
      "train_loss: 0.692, train_acc: 0.552\n",
      "valid_loss: 0.721, valid_acc: 0.499\n",
      "Epoch: 16 | Time: 0m 7s\n",
      "train_loss: 0.688, train_acc: 0.533\n",
      "valid_loss: 0.715, valid_acc: 0.495\n",
      "Epoch: 17 | Time: 0m 7s\n",
      "train_loss: 0.690, train_acc: 0.550\n",
      "valid_loss: 0.714, valid_acc: 0.492\n",
      "Epoch: 18 | Time: 0m 7s\n",
      "train_loss: 0.689, train_acc: 0.547\n",
      "valid_loss: 0.712, valid_acc: 0.484\n",
      "Epoch: 19 | Time: 0m 7s\n",
      "train_loss: 0.688, train_acc: 0.550\n",
      "valid_loss: 0.709, valid_acc: 0.486\n",
      "Epoch: 20 | Time: 0m 9s\n",
      "train_loss: 0.690, train_acc: 0.553\n",
      "valid_loss: 0.710, valid_acc: 0.487\n",
      "Epoch: 21 | Time: 0m 8s\n",
      "train_loss: 0.688, train_acc: 0.552\n",
      "valid_loss: 0.709, valid_acc: 0.488\n",
      "Epoch: 22 | Time: 0m 7s\n",
      "train_loss: 0.689, train_acc: 0.554\n",
      "valid_loss: 0.711, valid_acc: 0.487\n",
      "Epoch: 23 | Time: 0m 7s\n",
      "train_loss: 0.688, train_acc: 0.552\n",
      "valid_loss: 0.713, valid_acc: 0.486\n",
      "Epoch: 24 | Time: 0m 6s\n",
      "train_loss: 0.688, train_acc: 0.554\n",
      "valid_loss: 0.714, valid_acc: 0.484\n",
      "Epoch: 25 | Time: 0m 6s\n",
      "train_loss: 0.688, train_acc: 0.552\n",
      "valid_loss: 0.715, valid_acc: 0.482\n",
      "Epoch: 26 | Time: 0m 6s\n",
      "train_loss: 0.688, train_acc: 0.552\n",
      "valid_loss: 0.715, valid_acc: 0.483\n",
      "Epoch: 27 | Time: 0m 6s\n",
      "train_loss: 0.688, train_acc: 0.552\n",
      "valid_loss: 0.714, valid_acc: 0.483\n",
      "Epoch: 28 | Time: 0m 6s\n",
      "train_loss: 0.688, train_acc: 0.552\n",
      "valid_loss: 0.714, valid_acc: 0.483\n",
      "Epoch: 29 | Time: 0m 7s\n",
      "train_loss: 0.688, train_acc: 0.552\n",
      "valid_loss: 0.713, valid_acc: 0.482\n",
      "Epoch: 30 | Time: 0m 6s\n",
      "train_loss: 0.688, train_acc: 0.551\n",
      "valid_loss: 0.712, valid_acc: 0.483\n"
     ]
    },
    {
     "data": {
      "text/plain": [
       "<matplotlib.legend.Legend at 0x7f4dad0b6580>"
      ]
     },
     "execution_count": 168,
     "metadata": {},
     "output_type": "execute_result"
    },
    {
     "data": {
      "image/png": "[encoded data removed]",
      "text/plain": [
       "<Figure size 432x288 with 1 Axes>"
      ]
     },
     "metadata": {
      "needs_background": "light"
     },
     "output_type": "display_data"
    }
   ],
   "source": [
    "INPUT_DIM = len(vocab)\n",
    "EMBEDDING_DIM = 50\n",
    "HIDDEN_DIM = 128\n",
    "OUTPUT_DIM = 2 # there are only 2 labels - 0 (neg) or 1 (pos)\n",
    "\n",
    "model = RNN(INPUT_DIM, EMBEDDING_DIM, HIDDEN_DIM, OUTPUT_DIM)\n",
    "\n",
    "criterion = nn.CrossEntropyLoss()\n",
    "\n",
    "def init_weights(m):\n",
    "    for name, param in m.named_parameters():\n",
    "        nn.init.normal_(param.data, mean=0, std=0.01)\n",
    "        \n",
    "model.apply(init_weights)\n",
    "\n",
    "# initialize optimizer\n",
    "optimizer = optim.Adam(model.parameters(), lr=5e-3)\n",
    "\n",
    "# RNN (with vocab min freq = 100 and batch size = 500 and lr=5e-3 and only 3000 examples)\n",
    "N_EPOCHS = 30\n",
    "best_valid_loss = float('inf')\n",
    "\n",
    "valid_accuracies = []\n",
    "train_accuracies = []\n",
    "test_accuracies = []\n",
    "\n",
    "for epoch in range(N_EPOCHS):\n",
    "  \n",
    "    start_time = time.time()\n",
    "\n",
    "    train_loss, train_acc = train(train_dataloader, model, optimizer)\n",
    "    valid_loss, valid_acc = evaluate(valid_dataloader, model)\n",
    "    #test_loss, test_acc = evaluate(test_dataloader)\n",
    "\n",
    "    end_time = time.time()\n",
    "\n",
    "    valid_accuracies.append(valid_acc)\n",
    "    train_accuracies.append(train_acc)\n",
    "    #test_accuracies.append(test_acc)\n",
    "\n",
    "    epoch_mins, epoch_secs = epoch_time(start_time, end_time)\n",
    "\n",
    "    # save the best model\n",
    "    if valid_loss < best_valid_loss:\n",
    "        best_valid_loss = valid_loss\n",
    "        torch.save(model.state_dict(), 'tut2-model.pt')\n",
    "\n",
    "    print(f'Epoch: {epoch+1:02} | Time: {epoch_mins}m {epoch_secs}s')\n",
    "    print(f'train_loss: {train_loss:.3f}, train_acc: {train_acc:.3f}')\n",
    "    print(f'valid_loss: {valid_loss:.3f}, valid_acc: {valid_acc:.3f}')\n",
    "    #print(f'test_loss: {test_loss:.3f}, test_acc: {test_acc:.3f}')\n",
    "\n",
    "plt.plot(range(1, N_EPOCHS+1), valid_accuracies, label = 'validation accuracy')\n",
    "plt.plot(range(1, N_EPOCHS+1), train_accuracies, label = 'training accuracy')\n",
    "#plt.plot(range(1, N_EPOCHS+1), test_accuracies, label = 'test accuracy')\n",
    "plt.legend(loc=\"upper left\")"
   ]
  },
  {
   "cell_type": "code",
   "execution_count": 173,
   "id": "f7965d8d",
   "metadata": {},
   "outputs": [
    {
     "name": "stdout",
     "output_type": "stream",
     "text": [
      "Epoch: 01 | Time: 0m 11s\n",
      "train_loss: 0.693, train_acc: 0.517\n",
      "valid_loss: 0.713, valid_acc: 0.446\n",
      "Epoch: 02 | Time: 0m 4s\n",
      "train_loss: 0.702, train_acc: 0.496\n",
      "valid_loss: 0.735, valid_acc: 0.505\n",
      "Epoch: 03 | Time: 0m 8s\n",
      "train_loss: 0.704, train_acc: 0.515\n",
      "valid_loss: 0.940, valid_acc: 0.496\n",
      "Epoch: 04 | Time: 0m 6s\n",
      "train_loss: 0.777, train_acc: 0.503\n",
      "valid_loss: 0.784, valid_acc: 0.507\n",
      "Epoch: 05 | Time: 0m 6s\n",
      "train_loss: 0.745, train_acc: 0.485\n",
      "valid_loss: 0.695, valid_acc: 0.499\n",
      "Epoch: 06 | Time: 0m 5s\n",
      "train_loss: 0.698, train_acc: 0.510\n",
      "valid_loss: 0.719, valid_acc: 0.498\n",
      "Epoch: 07 | Time: 0m 5s\n",
      "train_loss: 0.705, train_acc: 0.513\n",
      "valid_loss: 0.695, valid_acc: 0.505\n",
      "Epoch: 08 | Time: 0m 5s\n",
      "train_loss: 0.699, train_acc: 0.486\n",
      "valid_loss: 0.697, valid_acc: 0.499\n",
      "Epoch: 09 | Time: 0m 5s\n",
      "train_loss: 0.695, train_acc: 0.485\n",
      "valid_loss: 0.697, valid_acc: 0.501\n",
      "Epoch: 10 | Time: 0m 5s\n",
      "train_loss: 0.696, train_acc: 0.515\n",
      "valid_loss: 0.693, valid_acc: 0.499\n",
      "Epoch: 11 | Time: 0m 5s\n",
      "train_loss: 0.693, train_acc: 0.522\n",
      "valid_loss: 0.695, valid_acc: 0.505\n",
      "Epoch: 12 | Time: 0m 5s\n",
      "train_loss: 0.694, train_acc: 0.487\n",
      "valid_loss: 0.694, valid_acc: 0.502\n",
      "Epoch: 13 | Time: 0m 5s\n",
      "train_loss: 0.693, train_acc: 0.511\n",
      "valid_loss: 0.693, valid_acc: 0.509\n",
      "Epoch: 14 | Time: 0m 5s\n",
      "train_loss: 0.693, train_acc: 0.510\n",
      "valid_loss: 0.694, valid_acc: 0.509\n",
      "Epoch: 15 | Time: 0m 6s\n",
      "train_loss: 0.693, train_acc: 0.510\n",
      "valid_loss: 0.693, valid_acc: 0.503\n",
      "Epoch: 16 | Time: 0m 6s\n",
      "train_loss: 0.692, train_acc: 0.501\n",
      "valid_loss: 0.694, valid_acc: 0.509\n",
      "Epoch: 17 | Time: 0m 5s\n",
      "train_loss: 0.692, train_acc: 0.517\n",
      "valid_loss: 0.694, valid_acc: 0.509\n",
      "Epoch: 18 | Time: 0m 5s\n",
      "train_loss: 0.692, train_acc: 0.517\n",
      "valid_loss: 0.695, valid_acc: 0.509\n",
      "Epoch: 19 | Time: 0m 5s\n",
      "train_loss: 0.691, train_acc: 0.516\n",
      "valid_loss: 0.695, valid_acc: 0.509\n",
      "Epoch: 20 | Time: 0m 5s\n",
      "train_loss: 0.691, train_acc: 0.517\n",
      "valid_loss: 0.695, valid_acc: 0.501\n",
      "Epoch: 21 | Time: 0m 6s\n",
      "train_loss: 0.691, train_acc: 0.518\n",
      "valid_loss: 0.695, valid_acc: 0.504\n",
      "Epoch: 22 | Time: 0m 5s\n",
      "train_loss: 0.691, train_acc: 0.527\n",
      "valid_loss: 0.696, valid_acc: 0.501\n",
      "Epoch: 23 | Time: 0m 5s\n",
      "train_loss: 0.691, train_acc: 0.527\n",
      "valid_loss: 0.697, valid_acc: 0.499\n",
      "Epoch: 24 | Time: 0m 5s\n",
      "train_loss: 0.691, train_acc: 0.528\n",
      "valid_loss: 0.698, valid_acc: 0.497\n",
      "Epoch: 25 | Time: 0m 7s\n",
      "train_loss: 0.691, train_acc: 0.527\n",
      "valid_loss: 0.701, valid_acc: 0.497\n",
      "Epoch: 26 | Time: 0m 6s\n",
      "train_loss: 0.691, train_acc: 0.527\n",
      "valid_loss: 0.700, valid_acc: 0.497\n",
      "Epoch: 27 | Time: 0m 5s\n",
      "train_loss: 0.691, train_acc: 0.526\n",
      "valid_loss: 0.703, valid_acc: 0.497\n",
      "Epoch: 28 | Time: 0m 5s\n",
      "train_loss: 0.691, train_acc: 0.527\n",
      "valid_loss: 0.699, valid_acc: 0.493\n",
      "Epoch: 29 | Time: 0m 5s\n",
      "train_loss: 0.691, train_acc: 0.514\n",
      "valid_loss: 0.703, valid_acc: 0.497\n",
      "Epoch: 30 | Time: 0m 5s\n",
      "train_loss: 0.691, train_acc: 0.527\n",
      "valid_loss: 0.699, valid_acc: 0.493\n"
     ]
    },
    {
     "data": {
      "text/plain": [
       "<matplotlib.legend.Legend at 0x7f4d96beda00>"
      ]
     },
     "execution_count": 173,
     "metadata": {},
     "output_type": "execute_result"
    },
    {
     "data": {
      "image/png": "[encoded data removed]",
      "text/plain": [
       "<Figure size 432x288 with 1 Axes>"
      ]
     },
     "metadata": {
      "needs_background": "light"
     },
     "output_type": "display_data"
    }
   ],
   "source": [
    "INPUT_DIM = len(vocab)\n",
    "EMBEDDING_DIM = 50\n",
    "HIDDEN_DIM = 128\n",
    "OUTPUT_DIM = 2 # there are only 2 labels - 0 (neg) or 1 (pos)\n",
    "\n",
    "model = RNN(INPUT_DIM, EMBEDDING_DIM, HIDDEN_DIM, OUTPUT_DIM)\n",
    "\n",
    "criterion = nn.CrossEntropyLoss()\n",
    "\n",
    "def init_weights(m):\n",
    "    for name, param in m.named_parameters():\n",
    "        nn.init.normal_(param.data, mean=0, std=0.01)\n",
    "        \n",
    "model.apply(init_weights)\n",
    "\n",
    "# initialize optimizer\n",
    "optimizer = optim.Adam(model.parameters(), lr=5e-3)\n",
    "\n",
    "# RNN (with vocab min freq = 100 and batch size = 500 and lr=5e-3 and only 3000 examples)\n",
    "N_EPOCHS = 30\n",
    "best_valid_loss = float('inf')\n",
    "\n",
    "valid_accuracies = []\n",
    "train_accuracies = []\n",
    "test_accuracies = []\n",
    "\n",
    "for epoch in range(N_EPOCHS):\n",
    "  \n",
    "    start_time = time.time()\n",
    "\n",
    "    train_loss, train_acc = train(train_dataloader, model, optimizer)\n",
    "    valid_loss, valid_acc = evaluate(valid_dataloader, model)\n",
    "    #test_loss, test_acc = evaluate(test_dataloader)\n",
    "\n",
    "    end_time = time.time()\n",
    "\n",
    "    valid_accuracies.append(valid_acc)\n",
    "    train_accuracies.append(train_acc)\n",
    "    #test_accuracies.append(test_acc)\n",
    "\n",
    "    epoch_mins, epoch_secs = epoch_time(start_time, end_time)\n",
    "\n",
    "    # save the best model\n",
    "    if valid_loss < best_valid_loss:\n",
    "        best_valid_loss = valid_loss\n",
    "        torch.save(model.state_dict(), 'tut2-model.pt')\n",
    "\n",
    "    print(f'Epoch: {epoch+1:02} | Time: {epoch_mins}m {epoch_secs}s')\n",
    "    print(f'train_loss: {train_loss:.3f}, train_acc: {train_acc:.3f}')\n",
    "    print(f'valid_loss: {valid_loss:.3f}, valid_acc: {valid_acc:.3f}')\n",
    "    #print(f'test_loss: {test_loss:.3f}, test_acc: {test_acc:.3f}')\n",
    "\n",
    "plt.plot(range(1, N_EPOCHS+1), valid_accuracies, label = 'validation accuracy')\n",
    "plt.plot(range(1, N_EPOCHS+1), train_accuracies, label = 'training accuracy')\n",
    "#plt.plot(range(1, N_EPOCHS+1), test_accuracies, label = 'test accuracy')\n",
    "plt.legend(loc=\"upper left\")"
   ]
  },
  {
   "cell_type": "code",
   "execution_count": 178,
   "id": "e2b92c50",
   "metadata": {},
   "outputs": [
    {
     "data": {
      "text/plain": [
       "44598"
      ]
     },
     "execution_count": 178,
     "metadata": {},
     "output_type": "execute_result"
    }
   ],
   "source": [
    "sum(p.nelement() for p in model.parameters())"
   ]
  },
  {
   "cell_type": "code",
   "execution_count": null,
   "id": "17af5f5a",
   "metadata": {},
   "outputs": [],
   "source": [
    "model.linear.weight.grad.norm().item() # gets the gradients\n",
    "# after every iterations, save this to a list to see if the gradient norms are varying too much"
   ]
  },
  {
   "cell_type": "code",
   "execution_count": 179,
   "id": "e59ec332",
   "metadata": {},
   "outputs": [
    {
     "data": {
      "text/plain": [
       "RNN(\n",
       "  (embedding): Embedding(426, 50)\n",
       "  (rnn): RNN(50, 128)\n",
       "  (linear): Linear(in_features=128, out_features=2, bias=True)\n",
       ")"
      ]
     },
     "execution_count": 179,
     "metadata": {},
     "output_type": "execute_result"
    }
   ],
   "source": [
    "model"
   ]
  },
  {
   "cell_type": "code",
   "execution_count": null,
   "id": "bc9b50ec",
   "metadata": {},
   "outputs": [],
   "source": [
    "# increase embedding dim and hidden dim 128 and 256 respectively"
   ]
  },
  {
   "cell_type": "code",
   "execution_count": 207,
   "id": "888dd863",
   "metadata": {},
   "outputs": [
    {
     "name": "stdout",
     "output_type": "stream",
     "text": [
      "Epoch: 01 | Time: 0m 16s\n",
      "train_loss: 0.716, train_acc: 0.484\n",
      "valid_loss: 0.768, valid_acc: 0.489\n",
      "Epoch: 02 | Time: 0m 14s\n",
      "train_loss: 0.716, train_acc: 0.529\n",
      "valid_loss: 0.854, valid_acc: 0.532\n",
      "Epoch: 03 | Time: 0m 19s\n",
      "train_loss: 0.796, train_acc: 0.475\n",
      "valid_loss: 0.691, valid_acc: 0.532\n",
      "Epoch: 04 | Time: 0m 19s\n",
      "train_loss: 0.741, train_acc: 0.553\n",
      "valid_loss: 0.697, valid_acc: 0.482\n",
      "Epoch: 05 | Time: 0m 20s\n",
      "train_loss: 0.700, train_acc: 0.502\n",
      "valid_loss: 0.733, valid_acc: 0.511\n",
      "Epoch: 06 | Time: 0m 21s\n",
      "train_loss: 0.724, train_acc: 0.499\n",
      "valid_loss: 0.706, valid_acc: 0.487\n",
      "Epoch: 07 | Time: 0m 22s\n",
      "train_loss: 0.691, train_acc: 0.518\n",
      "valid_loss: 0.714, valid_acc: 0.516\n",
      "Epoch: 08 | Time: 0m 22s\n",
      "train_loss: 0.705, train_acc: 0.479\n",
      "valid_loss: 0.695, valid_acc: 0.480\n",
      "Epoch: 09 | Time: 0m 25s\n",
      "train_loss: 0.694, train_acc: 0.552\n",
      "valid_loss: 0.695, valid_acc: 0.518\n",
      "Epoch: 10 | Time: 0m 24s\n",
      "train_loss: 0.692, train_acc: 0.523\n",
      "valid_loss: 0.695, valid_acc: 0.518\n",
      "Epoch: 11 | Time: 0m 26s\n",
      "train_loss: 0.698, train_acc: 0.544\n",
      "valid_loss: 0.694, valid_acc: 0.518\n",
      "Epoch: 12 | Time: 0m 29s\n",
      "train_loss: 0.690, train_acc: 0.554\n",
      "valid_loss: 0.696, valid_acc: 0.518\n",
      "Epoch: 13 | Time: 0m 24s\n",
      "train_loss: 0.696, train_acc: 0.544\n",
      "valid_loss: 0.693, valid_acc: 0.518\n",
      "Epoch: 14 | Time: 0m 24s\n",
      "train_loss: 0.694, train_acc: 0.554\n",
      "valid_loss: 0.694, valid_acc: 0.518\n",
      "Epoch: 15 | Time: 0m 23s\n",
      "train_loss: 0.693, train_acc: 0.544\n",
      "valid_loss: 0.694, valid_acc: 0.518\n",
      "Epoch: 16 | Time: 0m 25s\n",
      "train_loss: 0.696, train_acc: 0.544\n",
      "valid_loss: 0.693, valid_acc: 0.518\n",
      "Epoch: 17 | Time: 0m 26s\n",
      "train_loss: 0.694, train_acc: 0.544\n",
      "valid_loss: 0.694, valid_acc: 0.518\n",
      "Epoch: 18 | Time: 0m 23s\n",
      "train_loss: 0.694, train_acc: 0.544\n",
      "valid_loss: 0.694, valid_acc: 0.518\n",
      "Epoch: 19 | Time: 0m 26s\n",
      "train_loss: 0.696, train_acc: 0.544\n",
      "valid_loss: 0.693, valid_acc: 0.518\n",
      "Epoch: 20 | Time: 0m 24s\n",
      "train_loss: 0.695, train_acc: 0.544\n",
      "valid_loss: 0.694, valid_acc: 0.518\n",
      "Epoch: 21 | Time: 0m 27s\n",
      "train_loss: 0.695, train_acc: 0.544\n",
      "valid_loss: 0.694, valid_acc: 0.518\n",
      "Epoch: 22 | Time: 0m 23s\n",
      "train_loss: 0.696, train_acc: 0.544\n",
      "valid_loss: 0.693, valid_acc: 0.518\n",
      "Epoch: 23 | Time: 0m 24s\n",
      "train_loss: 0.695, train_acc: 0.544\n",
      "valid_loss: 0.694, valid_acc: 0.518\n",
      "Epoch: 24 | Time: 0m 24s\n",
      "train_loss: 0.696, train_acc: 0.544\n",
      "valid_loss: 0.694, valid_acc: 0.518\n",
      "Epoch: 25 | Time: 0m 23s\n",
      "train_loss: 0.696, train_acc: 0.544\n",
      "valid_loss: 0.693, valid_acc: 0.518\n",
      "Epoch: 26 | Time: 0m 23s\n",
      "train_loss: 0.696, train_acc: 0.544\n",
      "valid_loss: 0.694, valid_acc: 0.518\n",
      "Epoch: 27 | Time: 0m 21s\n",
      "train_loss: 0.696, train_acc: 0.544\n",
      "valid_loss: 0.694, valid_acc: 0.518\n",
      "Epoch: 28 | Time: 0m 22s\n",
      "train_loss: 0.696, train_acc: 0.544\n",
      "valid_loss: 0.694, valid_acc: 0.518\n",
      "Epoch: 29 | Time: 0m 22s\n",
      "train_loss: 0.696, train_acc: 0.544\n",
      "valid_loss: 0.694, valid_acc: 0.518\n",
      "Epoch: 30 | Time: 0m 21s\n",
      "train_loss: 0.696, train_acc: 0.544\n",
      "valid_loss: 0.694, valid_acc: 0.518\n"
     ]
    },
    {
     "data": {
      "text/plain": [
       "<matplotlib.legend.Legend at 0x7f4dada06a90>"
      ]
     },
     "execution_count": 207,
     "metadata": {},
     "output_type": "execute_result"
    },
    {
     "data": {
      "image/png": "[encoded data removed]",
      "text/plain": [
       "<Figure size 432x288 with 1 Axes>"
      ]
     },
     "metadata": {
      "needs_background": "light"
     },
     "output_type": "display_data"
    }
   ],
   "source": [
    "INPUT_DIM = len(vocab)\n",
    "EMBEDDING_DIM = 128\n",
    "HIDDEN_DIM = 256\n",
    "OUTPUT_DIM = 2 # there are only 2 labels - 0 (neg) or 1 (pos)\n",
    "\n",
    "model = RNN(INPUT_DIM, EMBEDDING_DIM, HIDDEN_DIM, OUTPUT_DIM)\n",
    "\n",
    "criterion = nn.CrossEntropyLoss()\n",
    "\n",
    "def init_weights(m):\n",
    "    for name, param in m.named_parameters():\n",
    "        nn.init.normal_(param.data, mean=0, std=0.01)\n",
    "        \n",
    "model.apply(init_weights)\n",
    "\n",
    "# initialize optimizer\n",
    "optimizer = optim.Adam(model.parameters(), lr=5e-3)\n",
    "\n",
    "# RNN (with vocab min freq = 100 and batch size = 500 and lr=5e-3 and only 3000 examples)\n",
    "N_EPOCHS = 30\n",
    "best_valid_loss = float('inf')\n",
    "\n",
    "valid_accuracies = []\n",
    "train_accuracies = []\n",
    "test_accuracies = []\n",
    "\n",
    "for epoch in range(N_EPOCHS):\n",
    "  \n",
    "    start_time = time.time()\n",
    "\n",
    "    train_loss, train_acc = train(train_dataloader, model, optimizer)\n",
    "    valid_loss, valid_acc = evaluate(valid_dataloader, model)\n",
    "    #test_loss, test_acc = evaluate(test_dataloader)\n",
    "\n",
    "    end_time = time.time()\n",
    "\n",
    "    valid_accuracies.append(valid_acc)\n",
    "    train_accuracies.append(train_acc)\n",
    "    #test_accuracies.append(test_acc)\n",
    "\n",
    "    epoch_mins, epoch_secs = epoch_time(start_time, end_time)\n",
    "\n",
    "    # save the best model\n",
    "    if valid_loss < best_valid_loss:\n",
    "        best_valid_loss = valid_loss\n",
    "        torch.save(model.state_dict(), 'tut2-model.pt')\n",
    "\n",
    "    print(f'Epoch: {epoch+1:02} | Time: {epoch_mins}m {epoch_secs}s')\n",
    "    print(f'train_loss: {train_loss:.3f}, train_acc: {train_acc:.3f}')\n",
    "    print(f'valid_loss: {valid_loss:.3f}, valid_acc: {valid_acc:.3f}')\n",
    "    #print(f'test_loss: {test_loss:.3f}, test_acc: {test_acc:.3f}')\n",
    "\n",
    "plt.plot(range(1, N_EPOCHS+1), valid_accuracies, label = 'validation accuracy')\n",
    "plt.plot(range(1, N_EPOCHS+1), train_accuracies, label = 'training accuracy')\n",
    "#plt.plot(range(1, N_EPOCHS+1), test_accuracies, label = 'test accuracy')\n",
    "plt.legend(loc=\"upper left\")"
   ]
  },
  {
   "cell_type": "code",
   "execution_count": 208,
   "id": "94a634e1",
   "metadata": {},
   "outputs": [
    {
     "name": "stdout",
     "output_type": "stream",
     "text": [
      "Epoch: 01 | Time: 0m 16s\n",
      "train_loss: 0.693, train_acc: 0.511\n",
      "valid_loss: 0.694, valid_acc: 0.480\n",
      "Epoch: 02 | Time: 0m 16s\n",
      "train_loss: 0.693, train_acc: 0.511\n",
      "valid_loss: 0.694, valid_acc: 0.480\n",
      "Epoch: 03 | Time: 0m 16s\n",
      "train_loss: 0.693, train_acc: 0.511\n",
      "valid_loss: 0.694, valid_acc: 0.480\n",
      "Epoch: 04 | Time: 0m 16s\n",
      "train_loss: 0.693, train_acc: 0.511\n",
      "valid_loss: 0.694, valid_acc: 0.480\n",
      "Epoch: 05 | Time: 0m 16s\n",
      "train_loss: 0.693, train_acc: 0.511\n",
      "valid_loss: 0.694, valid_acc: 0.480\n",
      "Epoch: 06 | Time: 0m 16s\n",
      "train_loss: 0.693, train_acc: 0.511\n",
      "valid_loss: 0.694, valid_acc: 0.480\n",
      "Epoch: 07 | Time: 0m 18s\n",
      "train_loss: 0.693, train_acc: 0.511\n",
      "valid_loss: 0.694, valid_acc: 0.480\n",
      "Epoch: 08 | Time: 0m 17s\n",
      "train_loss: 0.693, train_acc: 0.511\n",
      "valid_loss: 0.694, valid_acc: 0.480\n",
      "Epoch: 09 | Time: 0m 16s\n",
      "train_loss: 0.693, train_acc: 0.511\n",
      "valid_loss: 0.694, valid_acc: 0.480\n",
      "Epoch: 10 | Time: 0m 17s\n",
      "train_loss: 0.693, train_acc: 0.511\n",
      "valid_loss: 0.694, valid_acc: 0.480\n",
      "Epoch: 11 | Time: 0m 17s\n",
      "train_loss: 0.693, train_acc: 0.511\n",
      "valid_loss: 0.694, valid_acc: 0.480\n",
      "Epoch: 12 | Time: 0m 18s\n",
      "train_loss: 0.693, train_acc: 0.511\n",
      "valid_loss: 0.694, valid_acc: 0.480\n",
      "Epoch: 13 | Time: 0m 17s\n",
      "train_loss: 0.693, train_acc: 0.511\n",
      "valid_loss: 0.694, valid_acc: 0.480\n",
      "Epoch: 14 | Time: 0m 19s\n",
      "train_loss: 0.693, train_acc: 0.511\n",
      "valid_loss: 0.694, valid_acc: 0.480\n",
      "Epoch: 15 | Time: 0m 18s\n",
      "train_loss: 0.693, train_acc: 0.511\n",
      "valid_loss: 0.694, valid_acc: 0.480\n",
      "Epoch: 16 | Time: 0m 17s\n",
      "train_loss: 0.693, train_acc: 0.511\n",
      "valid_loss: 0.694, valid_acc: 0.480\n",
      "Epoch: 17 | Time: 0m 17s\n",
      "train_loss: 0.693, train_acc: 0.511\n",
      "valid_loss: 0.694, valid_acc: 0.480\n",
      "Epoch: 18 | Time: 0m 17s\n",
      "train_loss: 0.693, train_acc: 0.511\n",
      "valid_loss: 0.694, valid_acc: 0.480\n",
      "Epoch: 19 | Time: 0m 16s\n",
      "train_loss: 0.693, train_acc: 0.511\n",
      "valid_loss: 0.694, valid_acc: 0.480\n",
      "Epoch: 20 | Time: 0m 17s\n",
      "train_loss: 0.693, train_acc: 0.511\n",
      "valid_loss: 0.694, valid_acc: 0.480\n",
      "Epoch: 21 | Time: 0m 16s\n",
      "train_loss: 0.693, train_acc: 0.511\n",
      "valid_loss: 0.694, valid_acc: 0.480\n",
      "Epoch: 22 | Time: 0m 16s\n",
      "train_loss: 0.693, train_acc: 0.511\n",
      "valid_loss: 0.694, valid_acc: 0.480\n",
      "Epoch: 23 | Time: 0m 17s\n",
      "train_loss: 0.693, train_acc: 0.511\n",
      "valid_loss: 0.694, valid_acc: 0.480\n",
      "Epoch: 24 | Time: 0m 18s\n",
      "train_loss: 0.693, train_acc: 0.511\n",
      "valid_loss: 0.694, valid_acc: 0.480\n",
      "Epoch: 25 | Time: 0m 17s\n",
      "train_loss: 0.693, train_acc: 0.511\n",
      "valid_loss: 0.694, valid_acc: 0.480\n",
      "Epoch: 26 | Time: 0m 18s\n",
      "train_loss: 0.693, train_acc: 0.511\n",
      "valid_loss: 0.694, valid_acc: 0.480\n",
      "Epoch: 27 | Time: 0m 17s\n",
      "train_loss: 0.693, train_acc: 0.511\n",
      "valid_loss: 0.694, valid_acc: 0.480\n",
      "Epoch: 28 | Time: 0m 18s\n",
      "train_loss: 0.693, train_acc: 0.511\n",
      "valid_loss: 0.694, valid_acc: 0.480\n",
      "Epoch: 29 | Time: 0m 16s\n",
      "train_loss: 0.693, train_acc: 0.511\n",
      "valid_loss: 0.694, valid_acc: 0.480\n",
      "Epoch: 30 | Time: 0m 17s\n",
      "train_loss: 0.693, train_acc: 0.511\n",
      "valid_loss: 0.694, valid_acc: 0.480\n"
     ]
    },
    {
     "data": {
      "text/plain": [
       "<matplotlib.legend.Legend at 0x7f4dad05ea60>"
      ]
     },
     "execution_count": 208,
     "metadata": {},
     "output_type": "execute_result"
    },
    {
     "data": {
      "image/png": "[encoded data removed]",
      "text/plain": [
       "<Figure size 432x288 with 1 Axes>"
      ]
     },
     "metadata": {
      "needs_background": "light"
     },
     "output_type": "display_data"
    }
   ],
   "source": [
    "INPUT_DIM = len(vocab)\n",
    "EMBEDDING_DIM = 128\n",
    "HIDDEN_DIM = 256\n",
    "OUTPUT_DIM = 2 # there are only 2 labels - 0 (neg) or 1 (pos)\n",
    "\n",
    "model = RNN(INPUT_DIM, EMBEDDING_DIM, HIDDEN_DIM, OUTPUT_DIM)\n",
    "\n",
    "criterion = nn.CrossEntropyLoss()\n",
    "\n",
    "def init_weights(m):\n",
    "    for name, param in m.named_parameters():\n",
    "        nn.init.normal_(param.data, mean=0, std=0.01)\n",
    "        \n",
    "model.apply(init_weights)\n",
    "\n",
    "# initialize optimizer\n",
    "optimizer = optim.Adam(model.parameters(), lr=1e-6)\n",
    "\n",
    "# RNN (with vocab min freq = 100 and batch size = 500 and lr=5e-3 and only 3000 examples)\n",
    "N_EPOCHS = 30\n",
    "best_valid_loss = float('inf')\n",
    "\n",
    "valid_accuracies = []\n",
    "train_accuracies = []\n",
    "test_accuracies = []\n",
    "\n",
    "for epoch in range(N_EPOCHS):\n",
    "  \n",
    "    start_time = time.time()\n",
    "\n",
    "    train_loss, train_acc = train(train_dataloader, model, optimizer)\n",
    "    valid_loss, valid_acc = evaluate(valid_dataloader, model)\n",
    "    #test_loss, test_acc = evaluate(test_dataloader)\n",
    "\n",
    "    end_time = time.time()\n",
    "\n",
    "    valid_accuracies.append(valid_acc)\n",
    "    train_accuracies.append(train_acc)\n",
    "    #test_accuracies.append(test_acc)\n",
    "\n",
    "    epoch_mins, epoch_secs = epoch_time(start_time, end_time)\n",
    "\n",
    "    # save the best model\n",
    "    if valid_loss < best_valid_loss:\n",
    "        best_valid_loss = valid_loss\n",
    "        torch.save(model.state_dict(), 'tut2-model.pt')\n",
    "\n",
    "    print(f'Epoch: {epoch+1:02} | Time: {epoch_mins}m {epoch_secs}s')\n",
    "    print(f'train_loss: {train_loss:.3f}, train_acc: {train_acc:.3f}')\n",
    "    print(f'valid_loss: {valid_loss:.3f}, valid_acc: {valid_acc:.3f}')\n",
    "    #print(f'test_loss: {test_loss:.3f}, test_acc: {test_acc:.3f}')\n",
    "\n",
    "plt.plot(range(1, N_EPOCHS+1), valid_accuracies, label = 'validation accuracy')\n",
    "plt.plot(range(1, N_EPOCHS+1), train_accuracies, label = 'training accuracy')\n",
    "#plt.plot(range(1, N_EPOCHS+1), test_accuracies, label = 'test accuracy')\n",
    "plt.legend(loc=\"upper left\")"
   ]
  },
  {
   "cell_type": "code",
   "execution_count": null,
   "id": "78af2d2b",
   "metadata": {},
   "outputs": [],
   "source": []
  }
 ],
 "metadata": {
  "kernelspec": {
   "display_name": "conda_python3",
   "language": "python",
   "name": "conda_python3"
  },
  "language_info": {
   "codemirror_mode": {
    "name": "ipython",
    "version": 3
   },
   "file_extension": ".py",
   "mimetype": "text/x-python",
   "name": "python",
   "nbconvert_exporter": "python",
   "pygments_lexer": "ipython3",
   "version": "3.8.12"
  }
 },
 "nbformat": 4,
 "nbformat_minor": 5
}
