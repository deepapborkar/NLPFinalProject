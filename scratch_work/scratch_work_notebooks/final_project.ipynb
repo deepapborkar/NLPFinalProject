{
  "nbformat": 4,
  "nbformat_minor": 0,
  "metadata": {
    "colab": {
      "name": "final_project.ipynb",
      "provenance": [],
      "collapsed_sections": []
    },
    "kernelspec": {
      "name": "python3",
      "display_name": "Python 3"
    },
    "language_info": {
      "name": "python"
    },
    "accelerator": "GPU",
    "gpuClass": "standard",
    "widgets": {
      "application/vnd.jupyter.widget-state+json": {
        "f2bc083b47b84e9da6866072a0b9f0a0": {
          "model_module": "@jupyter-widgets/controls",
          "model_name": "HBoxModel",
          "model_module_version": "1.5.0",
          "state": {
            "_dom_classes": [],
            "_model_module": "@jupyter-widgets/controls",
            "_model_module_version": "1.5.0",
            "_model_name": "HBoxModel",
            "_view_count": null,
            "_view_module": "@jupyter-widgets/controls",
            "_view_module_version": "1.5.0",
            "_view_name": "HBoxView",
            "box_style": "",
            "children": [
              "IPY_MODEL_d1f1cd5c6b65453e99ed8de3be09e3ff",
              "IPY_MODEL_ea5c81efb29443c2adeb64331a4942e0",
              "IPY_MODEL_8c939e8fb98e4d3c8ee7824f81d1a505"
            ],
            "layout": "IPY_MODEL_dffb888127ec4e92b47b80fe0d5ee3af"
          }
        },
        "d1f1cd5c6b65453e99ed8de3be09e3ff": {
          "model_module": "@jupyter-widgets/controls",
          "model_name": "HTMLModel",
          "model_module_version": "1.5.0",
          "state": {
            "_dom_classes": [],
            "_model_module": "@jupyter-widgets/controls",
            "_model_module_version": "1.5.0",
            "_model_name": "HTMLModel",
            "_view_count": null,
            "_view_module": "@jupyter-widgets/controls",
            "_view_module_version": "1.5.0",
            "_view_name": "HTMLView",
            "description": "",
            "description_tooltip": null,
            "layout": "IPY_MODEL_d66fa9da522447a49f8642563705a5c7",
            "placeholder": "​",
            "style": "IPY_MODEL_76f69e251c094237a1ebaae825379efe",
            "value": "100%"
          }
        },
        "ea5c81efb29443c2adeb64331a4942e0": {
          "model_module": "@jupyter-widgets/controls",
          "model_name": "FloatProgressModel",
          "model_module_version": "1.5.0",
          "state": {
            "_dom_classes": [],
            "_model_module": "@jupyter-widgets/controls",
            "_model_module_version": "1.5.0",
            "_model_name": "FloatProgressModel",
            "_view_count": null,
            "_view_module": "@jupyter-widgets/controls",
            "_view_module_version": "1.5.0",
            "_view_name": "ProgressView",
            "bar_style": "success",
            "description": "",
            "description_tooltip": null,
            "layout": "IPY_MODEL_4610e664d6b848acb60d0d8ff4751b9e",
            "max": 2,
            "min": 0,
            "orientation": "horizontal",
            "style": "IPY_MODEL_c5c1cce63e6f4f34b14c72ac3980cc6f",
            "value": 2
          }
        },
        "8c939e8fb98e4d3c8ee7824f81d1a505": {
          "model_module": "@jupyter-widgets/controls",
          "model_name": "HTMLModel",
          "model_module_version": "1.5.0",
          "state": {
            "_dom_classes": [],
            "_model_module": "@jupyter-widgets/controls",
            "_model_module_version": "1.5.0",
            "_model_name": "HTMLModel",
            "_view_count": null,
            "_view_module": "@jupyter-widgets/controls",
            "_view_module_version": "1.5.0",
            "_view_name": "HTMLView",
            "description": "",
            "description_tooltip": null,
            "layout": "IPY_MODEL_618fb22f29be47edb0536253fbb80519",
            "placeholder": "​",
            "style": "IPY_MODEL_10889ca33c5f41249a7d4185bf9c9120",
            "value": " 2/2 [00:00&lt;00:00, 45.61it/s]"
          }
        },
        "dffb888127ec4e92b47b80fe0d5ee3af": {
          "model_module": "@jupyter-widgets/base",
          "model_name": "LayoutModel",
          "model_module_version": "1.2.0",
          "state": {
            "_model_module": "@jupyter-widgets/base",
            "_model_module_version": "1.2.0",
            "_model_name": "LayoutModel",
            "_view_count": null,
            "_view_module": "@jupyter-widgets/base",
            "_view_module_version": "1.2.0",
            "_view_name": "LayoutView",
            "align_content": null,
            "align_items": null,
            "align_self": null,
            "border": null,
            "bottom": null,
            "display": null,
            "flex": null,
            "flex_flow": null,
            "grid_area": null,
            "grid_auto_columns": null,
            "grid_auto_flow": null,
            "grid_auto_rows": null,
            "grid_column": null,
            "grid_gap": null,
            "grid_row": null,
            "grid_template_areas": null,
            "grid_template_columns": null,
            "grid_template_rows": null,
            "height": null,
            "justify_content": null,
            "justify_items": null,
            "left": null,
            "margin": null,
            "max_height": null,
            "max_width": null,
            "min_height": null,
            "min_width": null,
            "object_fit": null,
            "object_position": null,
            "order": null,
            "overflow": null,
            "overflow_x": null,
            "overflow_y": null,
            "padding": null,
            "right": null,
            "top": null,
            "visibility": null,
            "width": null
          }
        },
        "d66fa9da522447a49f8642563705a5c7": {
          "model_module": "@jupyter-widgets/base",
          "model_name": "LayoutModel",
          "model_module_version": "1.2.0",
          "state": {
            "_model_module": "@jupyter-widgets/base",
            "_model_module_version": "1.2.0",
            "_model_name": "LayoutModel",
            "_view_count": null,
            "_view_module": "@jupyter-widgets/base",
            "_view_module_version": "1.2.0",
            "_view_name": "LayoutView",
            "align_content": null,
            "align_items": null,
            "align_self": null,
            "border": null,
            "bottom": null,
            "display": null,
            "flex": null,
            "flex_flow": null,
            "grid_area": null,
            "grid_auto_columns": null,
            "grid_auto_flow": null,
            "grid_auto_rows": null,
            "grid_column": null,
            "grid_gap": null,
            "grid_row": null,
            "grid_template_areas": null,
            "grid_template_columns": null,
            "grid_template_rows": null,
            "height": null,
            "justify_content": null,
            "justify_items": null,
            "left": null,
            "margin": null,
            "max_height": null,
            "max_width": null,
            "min_height": null,
            "min_width": null,
            "object_fit": null,
            "object_position": null,
            "order": null,
            "overflow": null,
            "overflow_x": null,
            "overflow_y": null,
            "padding": null,
            "right": null,
            "top": null,
            "visibility": null,
            "width": null
          }
        },
        "76f69e251c094237a1ebaae825379efe": {
          "model_module": "@jupyter-widgets/controls",
          "model_name": "DescriptionStyleModel",
          "model_module_version": "1.5.0",
          "state": {
            "_model_module": "@jupyter-widgets/controls",
            "_model_module_version": "1.5.0",
            "_model_name": "DescriptionStyleModel",
            "_view_count": null,
            "_view_module": "@jupyter-widgets/base",
            "_view_module_version": "1.2.0",
            "_view_name": "StyleView",
            "description_width": ""
          }
        },
        "4610e664d6b848acb60d0d8ff4751b9e": {
          "model_module": "@jupyter-widgets/base",
          "model_name": "LayoutModel",
          "model_module_version": "1.2.0",
          "state": {
            "_model_module": "@jupyter-widgets/base",
            "_model_module_version": "1.2.0",
            "_model_name": "LayoutModel",
            "_view_count": null,
            "_view_module": "@jupyter-widgets/base",
            "_view_module_version": "1.2.0",
            "_view_name": "LayoutView",
            "align_content": null,
            "align_items": null,
            "align_self": null,
            "border": null,
            "bottom": null,
            "display": null,
            "flex": null,
            "flex_flow": null,
            "grid_area": null,
            "grid_auto_columns": null,
            "grid_auto_flow": null,
            "grid_auto_rows": null,
            "grid_column": null,
            "grid_gap": null,
            "grid_row": null,
            "grid_template_areas": null,
            "grid_template_columns": null,
            "grid_template_rows": null,
            "height": null,
            "justify_content": null,
            "justify_items": null,
            "left": null,
            "margin": null,
            "max_height": null,
            "max_width": null,
            "min_height": null,
            "min_width": null,
            "object_fit": null,
            "object_position": null,
            "order": null,
            "overflow": null,
            "overflow_x": null,
            "overflow_y": null,
            "padding": null,
            "right": null,
            "top": null,
            "visibility": null,
            "width": null
          }
        },
        "c5c1cce63e6f4f34b14c72ac3980cc6f": {
          "model_module": "@jupyter-widgets/controls",
          "model_name": "ProgressStyleModel",
          "model_module_version": "1.5.0",
          "state": {
            "_model_module": "@jupyter-widgets/controls",
            "_model_module_version": "1.5.0",
            "_model_name": "ProgressStyleModel",
            "_view_count": null,
            "_view_module": "@jupyter-widgets/base",
            "_view_module_version": "1.2.0",
            "_view_name": "StyleView",
            "bar_color": null,
            "description_width": ""
          }
        },
        "618fb22f29be47edb0536253fbb80519": {
          "model_module": "@jupyter-widgets/base",
          "model_name": "LayoutModel",
          "model_module_version": "1.2.0",
          "state": {
            "_model_module": "@jupyter-widgets/base",
            "_model_module_version": "1.2.0",
            "_model_name": "LayoutModel",
            "_view_count": null,
            "_view_module": "@jupyter-widgets/base",
            "_view_module_version": "1.2.0",
            "_view_name": "LayoutView",
            "align_content": null,
            "align_items": null,
            "align_self": null,
            "border": null,
            "bottom": null,
            "display": null,
            "flex": null,
            "flex_flow": null,
            "grid_area": null,
            "grid_auto_columns": null,
            "grid_auto_flow": null,
            "grid_auto_rows": null,
            "grid_column": null,
            "grid_gap": null,
            "grid_row": null,
            "grid_template_areas": null,
            "grid_template_columns": null,
            "grid_template_rows": null,
            "height": null,
            "justify_content": null,
            "justify_items": null,
            "left": null,
            "margin": null,
            "max_height": null,
            "max_width": null,
            "min_height": null,
            "min_width": null,
            "object_fit": null,
            "object_position": null,
            "order": null,
            "overflow": null,
            "overflow_x": null,
            "overflow_y": null,
            "padding": null,
            "right": null,
            "top": null,
            "visibility": null,
            "width": null
          }
        },
        "10889ca33c5f41249a7d4185bf9c9120": {
          "model_module": "@jupyter-widgets/controls",
          "model_name": "DescriptionStyleModel",
          "model_module_version": "1.5.0",
          "state": {
            "_model_module": "@jupyter-widgets/controls",
            "_model_module_version": "1.5.0",
            "_model_name": "DescriptionStyleModel",
            "_view_count": null,
            "_view_module": "@jupyter-widgets/base",
            "_view_module_version": "1.2.0",
            "_view_name": "StyleView",
            "description_width": ""
          }
        },
        "6f2f311f7a7544a09288fcf3af59eb8b": {
          "model_module": "@jupyter-widgets/controls",
          "model_name": "HBoxModel",
          "model_module_version": "1.5.0",
          "state": {
            "_dom_classes": [],
            "_model_module": "@jupyter-widgets/controls",
            "_model_module_version": "1.5.0",
            "_model_name": "HBoxModel",
            "_view_count": null,
            "_view_module": "@jupyter-widgets/controls",
            "_view_module_version": "1.5.0",
            "_view_name": "HBoxView",
            "box_style": "",
            "children": [
              "IPY_MODEL_716b69cbf28f4dafa89d4623f5e2e742",
              "IPY_MODEL_2b2d428602664360a8b6f5303e44bf25",
              "IPY_MODEL_19d50f0a81ea4c99af80b01032e4e2cb"
            ],
            "layout": "IPY_MODEL_11a523efa56e432ea773946a82ce4494"
          }
        },
        "716b69cbf28f4dafa89d4623f5e2e742": {
          "model_module": "@jupyter-widgets/controls",
          "model_name": "HTMLModel",
          "model_module_version": "1.5.0",
          "state": {
            "_dom_classes": [],
            "_model_module": "@jupyter-widgets/controls",
            "_model_module_version": "1.5.0",
            "_model_name": "HTMLModel",
            "_view_count": null,
            "_view_module": "@jupyter-widgets/controls",
            "_view_module_version": "1.5.0",
            "_view_name": "HTMLView",
            "description": "",
            "description_tooltip": null,
            "layout": "IPY_MODEL_d8eaf306353b4a918aaf58c277574521",
            "placeholder": "​",
            "style": "IPY_MODEL_11445e27e9be4612a1eea0b1ade0d0c4",
            "value": "100%"
          }
        },
        "2b2d428602664360a8b6f5303e44bf25": {
          "model_module": "@jupyter-widgets/controls",
          "model_name": "FloatProgressModel",
          "model_module_version": "1.5.0",
          "state": {
            "_dom_classes": [],
            "_model_module": "@jupyter-widgets/controls",
            "_model_module_version": "1.5.0",
            "_model_name": "FloatProgressModel",
            "_view_count": null,
            "_view_module": "@jupyter-widgets/controls",
            "_view_module_version": "1.5.0",
            "_view_name": "ProgressView",
            "bar_style": "success",
            "description": "",
            "description_tooltip": null,
            "layout": "IPY_MODEL_4270833cb2f74459b8cb8dd712bf4431",
            "max": 18750,
            "min": 0,
            "orientation": "horizontal",
            "style": "IPY_MODEL_c60eb596622249b6a158f56081d6b67a",
            "value": 18750
          }
        },
        "19d50f0a81ea4c99af80b01032e4e2cb": {
          "model_module": "@jupyter-widgets/controls",
          "model_name": "HTMLModel",
          "model_module_version": "1.5.0",
          "state": {
            "_dom_classes": [],
            "_model_module": "@jupyter-widgets/controls",
            "_model_module_version": "1.5.0",
            "_model_name": "HTMLModel",
            "_view_count": null,
            "_view_module": "@jupyter-widgets/controls",
            "_view_module_version": "1.5.0",
            "_view_name": "HTMLView",
            "description": "",
            "description_tooltip": null,
            "layout": "IPY_MODEL_74821c77b1e74521b4b0f12d8c5d63f5",
            "placeholder": "​",
            "style": "IPY_MODEL_2b0f8e34d4684269ba4a568758bae2a8",
            "value": " 18750/18750 [00:12&lt;00:00, 1547.44ex/s]"
          }
        },
        "11a523efa56e432ea773946a82ce4494": {
          "model_module": "@jupyter-widgets/base",
          "model_name": "LayoutModel",
          "model_module_version": "1.2.0",
          "state": {
            "_model_module": "@jupyter-widgets/base",
            "_model_module_version": "1.2.0",
            "_model_name": "LayoutModel",
            "_view_count": null,
            "_view_module": "@jupyter-widgets/base",
            "_view_module_version": "1.2.0",
            "_view_name": "LayoutView",
            "align_content": null,
            "align_items": null,
            "align_self": null,
            "border": null,
            "bottom": null,
            "display": null,
            "flex": null,
            "flex_flow": null,
            "grid_area": null,
            "grid_auto_columns": null,
            "grid_auto_flow": null,
            "grid_auto_rows": null,
            "grid_column": null,
            "grid_gap": null,
            "grid_row": null,
            "grid_template_areas": null,
            "grid_template_columns": null,
            "grid_template_rows": null,
            "height": null,
            "justify_content": null,
            "justify_items": null,
            "left": null,
            "margin": null,
            "max_height": null,
            "max_width": null,
            "min_height": null,
            "min_width": null,
            "object_fit": null,
            "object_position": null,
            "order": null,
            "overflow": null,
            "overflow_x": null,
            "overflow_y": null,
            "padding": null,
            "right": null,
            "top": null,
            "visibility": null,
            "width": null
          }
        },
        "d8eaf306353b4a918aaf58c277574521": {
          "model_module": "@jupyter-widgets/base",
          "model_name": "LayoutModel",
          "model_module_version": "1.2.0",
          "state": {
            "_model_module": "@jupyter-widgets/base",
            "_model_module_version": "1.2.0",
            "_model_name": "LayoutModel",
            "_view_count": null,
            "_view_module": "@jupyter-widgets/base",
            "_view_module_version": "1.2.0",
            "_view_name": "LayoutView",
            "align_content": null,
            "align_items": null,
            "align_self": null,
            "border": null,
            "bottom": null,
            "display": null,
            "flex": null,
            "flex_flow": null,
            "grid_area": null,
            "grid_auto_columns": null,
            "grid_auto_flow": null,
            "grid_auto_rows": null,
            "grid_column": null,
            "grid_gap": null,
            "grid_row": null,
            "grid_template_areas": null,
            "grid_template_columns": null,
            "grid_template_rows": null,
            "height": null,
            "justify_content": null,
            "justify_items": null,
            "left": null,
            "margin": null,
            "max_height": null,
            "max_width": null,
            "min_height": null,
            "min_width": null,
            "object_fit": null,
            "object_position": null,
            "order": null,
            "overflow": null,
            "overflow_x": null,
            "overflow_y": null,
            "padding": null,
            "right": null,
            "top": null,
            "visibility": null,
            "width": null
          }
        },
        "11445e27e9be4612a1eea0b1ade0d0c4": {
          "model_module": "@jupyter-widgets/controls",
          "model_name": "DescriptionStyleModel",
          "model_module_version": "1.5.0",
          "state": {
            "_model_module": "@jupyter-widgets/controls",
            "_model_module_version": "1.5.0",
            "_model_name": "DescriptionStyleModel",
            "_view_count": null,
            "_view_module": "@jupyter-widgets/base",
            "_view_module_version": "1.2.0",
            "_view_name": "StyleView",
            "description_width": ""
          }
        },
        "4270833cb2f74459b8cb8dd712bf4431": {
          "model_module": "@jupyter-widgets/base",
          "model_name": "LayoutModel",
          "model_module_version": "1.2.0",
          "state": {
            "_model_module": "@jupyter-widgets/base",
            "_model_module_version": "1.2.0",
            "_model_name": "LayoutModel",
            "_view_count": null,
            "_view_module": "@jupyter-widgets/base",
            "_view_module_version": "1.2.0",
            "_view_name": "LayoutView",
            "align_content": null,
            "align_items": null,
            "align_self": null,
            "border": null,
            "bottom": null,
            "display": null,
            "flex": null,
            "flex_flow": null,
            "grid_area": null,
            "grid_auto_columns": null,
            "grid_auto_flow": null,
            "grid_auto_rows": null,
            "grid_column": null,
            "grid_gap": null,
            "grid_row": null,
            "grid_template_areas": null,
            "grid_template_columns": null,
            "grid_template_rows": null,
            "height": null,
            "justify_content": null,
            "justify_items": null,
            "left": null,
            "margin": null,
            "max_height": null,
            "max_width": null,
            "min_height": null,
            "min_width": null,
            "object_fit": null,
            "object_position": null,
            "order": null,
            "overflow": null,
            "overflow_x": null,
            "overflow_y": null,
            "padding": null,
            "right": null,
            "top": null,
            "visibility": null,
            "width": null
          }
        },
        "c60eb596622249b6a158f56081d6b67a": {
          "model_module": "@jupyter-widgets/controls",
          "model_name": "ProgressStyleModel",
          "model_module_version": "1.5.0",
          "state": {
            "_model_module": "@jupyter-widgets/controls",
            "_model_module_version": "1.5.0",
            "_model_name": "ProgressStyleModel",
            "_view_count": null,
            "_view_module": "@jupyter-widgets/base",
            "_view_module_version": "1.2.0",
            "_view_name": "StyleView",
            "bar_color": null,
            "description_width": ""
          }
        },
        "74821c77b1e74521b4b0f12d8c5d63f5": {
          "model_module": "@jupyter-widgets/base",
          "model_name": "LayoutModel",
          "model_module_version": "1.2.0",
          "state": {
            "_model_module": "@jupyter-widgets/base",
            "_model_module_version": "1.2.0",
            "_model_name": "LayoutModel",
            "_view_count": null,
            "_view_module": "@jupyter-widgets/base",
            "_view_module_version": "1.2.0",
            "_view_name": "LayoutView",
            "align_content": null,
            "align_items": null,
            "align_self": null,
            "border": null,
            "bottom": null,
            "display": null,
            "flex": null,
            "flex_flow": null,
            "grid_area": null,
            "grid_auto_columns": null,
            "grid_auto_flow": null,
            "grid_auto_rows": null,
            "grid_column": null,
            "grid_gap": null,
            "grid_row": null,
            "grid_template_areas": null,
            "grid_template_columns": null,
            "grid_template_rows": null,
            "height": null,
            "justify_content": null,
            "justify_items": null,
            "left": null,
            "margin": null,
            "max_height": null,
            "max_width": null,
            "min_height": null,
            "min_width": null,
            "object_fit": null,
            "object_position": null,
            "order": null,
            "overflow": null,
            "overflow_x": null,
            "overflow_y": null,
            "padding": null,
            "right": null,
            "top": null,
            "visibility": null,
            "width": null
          }
        },
        "2b0f8e34d4684269ba4a568758bae2a8": {
          "model_module": "@jupyter-widgets/controls",
          "model_name": "DescriptionStyleModel",
          "model_module_version": "1.5.0",
          "state": {
            "_model_module": "@jupyter-widgets/controls",
            "_model_module_version": "1.5.0",
            "_model_name": "DescriptionStyleModel",
            "_view_count": null,
            "_view_module": "@jupyter-widgets/base",
            "_view_module_version": "1.2.0",
            "_view_name": "StyleView",
            "description_width": ""
          }
        },
        "4b6d449fa2d24e688f26c6b0aebd22a1": {
          "model_module": "@jupyter-widgets/controls",
          "model_name": "HBoxModel",
          "model_module_version": "1.5.0",
          "state": {
            "_dom_classes": [],
            "_model_module": "@jupyter-widgets/controls",
            "_model_module_version": "1.5.0",
            "_model_name": "HBoxModel",
            "_view_count": null,
            "_view_module": "@jupyter-widgets/controls",
            "_view_module_version": "1.5.0",
            "_view_name": "HBoxView",
            "box_style": "",
            "children": [
              "IPY_MODEL_7e8c0209c7ca42e7a031f23fa2db6ac0",
              "IPY_MODEL_bf1c3bf62546482aa9bacfb9ea9d0cac",
              "IPY_MODEL_443ba96ba7714016bbdd6896820520ee"
            ],
            "layout": "IPY_MODEL_26e115b66b8448a9a495e374fac959dd"
          }
        },
        "7e8c0209c7ca42e7a031f23fa2db6ac0": {
          "model_module": "@jupyter-widgets/controls",
          "model_name": "HTMLModel",
          "model_module_version": "1.5.0",
          "state": {
            "_dom_classes": [],
            "_model_module": "@jupyter-widgets/controls",
            "_model_module_version": "1.5.0",
            "_model_name": "HTMLModel",
            "_view_count": null,
            "_view_module": "@jupyter-widgets/controls",
            "_view_module_version": "1.5.0",
            "_view_name": "HTMLView",
            "description": "",
            "description_tooltip": null,
            "layout": "IPY_MODEL_135079eb740949198b6521c324693cb1",
            "placeholder": "​",
            "style": "IPY_MODEL_7750044b35f1453d8e416bf9543fcfb9",
            "value": "100%"
          }
        },
        "bf1c3bf62546482aa9bacfb9ea9d0cac": {
          "model_module": "@jupyter-widgets/controls",
          "model_name": "FloatProgressModel",
          "model_module_version": "1.5.0",
          "state": {
            "_dom_classes": [],
            "_model_module": "@jupyter-widgets/controls",
            "_model_module_version": "1.5.0",
            "_model_name": "FloatProgressModel",
            "_view_count": null,
            "_view_module": "@jupyter-widgets/controls",
            "_view_module_version": "1.5.0",
            "_view_name": "ProgressView",
            "bar_style": "success",
            "description": "",
            "description_tooltip": null,
            "layout": "IPY_MODEL_d9441322f4d540689e78eb6b9df8bfb2",
            "max": 6250,
            "min": 0,
            "orientation": "horizontal",
            "style": "IPY_MODEL_91fc3c80db834b9f92fa8103971c3be7",
            "value": 6250
          }
        },
        "443ba96ba7714016bbdd6896820520ee": {
          "model_module": "@jupyter-widgets/controls",
          "model_name": "HTMLModel",
          "model_module_version": "1.5.0",
          "state": {
            "_dom_classes": [],
            "_model_module": "@jupyter-widgets/controls",
            "_model_module_version": "1.5.0",
            "_model_name": "HTMLModel",
            "_view_count": null,
            "_view_module": "@jupyter-widgets/controls",
            "_view_module_version": "1.5.0",
            "_view_name": "HTMLView",
            "description": "",
            "description_tooltip": null,
            "layout": "IPY_MODEL_fcf305c0b1d8477e845f33ffee8038fc",
            "placeholder": "​",
            "style": "IPY_MODEL_64b1de48c889429b80cede73d52fe22a",
            "value": " 6250/6250 [00:03&lt;00:00, 1550.34ex/s]"
          }
        },
        "26e115b66b8448a9a495e374fac959dd": {
          "model_module": "@jupyter-widgets/base",
          "model_name": "LayoutModel",
          "model_module_version": "1.2.0",
          "state": {
            "_model_module": "@jupyter-widgets/base",
            "_model_module_version": "1.2.0",
            "_model_name": "LayoutModel",
            "_view_count": null,
            "_view_module": "@jupyter-widgets/base",
            "_view_module_version": "1.2.0",
            "_view_name": "LayoutView",
            "align_content": null,
            "align_items": null,
            "align_self": null,
            "border": null,
            "bottom": null,
            "display": null,
            "flex": null,
            "flex_flow": null,
            "grid_area": null,
            "grid_auto_columns": null,
            "grid_auto_flow": null,
            "grid_auto_rows": null,
            "grid_column": null,
            "grid_gap": null,
            "grid_row": null,
            "grid_template_areas": null,
            "grid_template_columns": null,
            "grid_template_rows": null,
            "height": null,
            "justify_content": null,
            "justify_items": null,
            "left": null,
            "margin": null,
            "max_height": null,
            "max_width": null,
            "min_height": null,
            "min_width": null,
            "object_fit": null,
            "object_position": null,
            "order": null,
            "overflow": null,
            "overflow_x": null,
            "overflow_y": null,
            "padding": null,
            "right": null,
            "top": null,
            "visibility": null,
            "width": null
          }
        },
        "135079eb740949198b6521c324693cb1": {
          "model_module": "@jupyter-widgets/base",
          "model_name": "LayoutModel",
          "model_module_version": "1.2.0",
          "state": {
            "_model_module": "@jupyter-widgets/base",
            "_model_module_version": "1.2.0",
            "_model_name": "LayoutModel",
            "_view_count": null,
            "_view_module": "@jupyter-widgets/base",
            "_view_module_version": "1.2.0",
            "_view_name": "LayoutView",
            "align_content": null,
            "align_items": null,
            "align_self": null,
            "border": null,
            "bottom": null,
            "display": null,
            "flex": null,
            "flex_flow": null,
            "grid_area": null,
            "grid_auto_columns": null,
            "grid_auto_flow": null,
            "grid_auto_rows": null,
            "grid_column": null,
            "grid_gap": null,
            "grid_row": null,
            "grid_template_areas": null,
            "grid_template_columns": null,
            "grid_template_rows": null,
            "height": null,
            "justify_content": null,
            "justify_items": null,
            "left": null,
            "margin": null,
            "max_height": null,
            "max_width": null,
            "min_height": null,
            "min_width": null,
            "object_fit": null,
            "object_position": null,
            "order": null,
            "overflow": null,
            "overflow_x": null,
            "overflow_y": null,
            "padding": null,
            "right": null,
            "top": null,
            "visibility": null,
            "width": null
          }
        },
        "7750044b35f1453d8e416bf9543fcfb9": {
          "model_module": "@jupyter-widgets/controls",
          "model_name": "DescriptionStyleModel",
          "model_module_version": "1.5.0",
          "state": {
            "_model_module": "@jupyter-widgets/controls",
            "_model_module_version": "1.5.0",
            "_model_name": "DescriptionStyleModel",
            "_view_count": null,
            "_view_module": "@jupyter-widgets/base",
            "_view_module_version": "1.2.0",
            "_view_name": "StyleView",
            "description_width": ""
          }
        },
        "d9441322f4d540689e78eb6b9df8bfb2": {
          "model_module": "@jupyter-widgets/base",
          "model_name": "LayoutModel",
          "model_module_version": "1.2.0",
          "state": {
            "_model_module": "@jupyter-widgets/base",
            "_model_module_version": "1.2.0",
            "_model_name": "LayoutModel",
            "_view_count": null,
            "_view_module": "@jupyter-widgets/base",
            "_view_module_version": "1.2.0",
            "_view_name": "LayoutView",
            "align_content": null,
            "align_items": null,
            "align_self": null,
            "border": null,
            "bottom": null,
            "display": null,
            "flex": null,
            "flex_flow": null,
            "grid_area": null,
            "grid_auto_columns": null,
            "grid_auto_flow": null,
            "grid_auto_rows": null,
            "grid_column": null,
            "grid_gap": null,
            "grid_row": null,
            "grid_template_areas": null,
            "grid_template_columns": null,
            "grid_template_rows": null,
            "height": null,
            "justify_content": null,
            "justify_items": null,
            "left": null,
            "margin": null,
            "max_height": null,
            "max_width": null,
            "min_height": null,
            "min_width": null,
            "object_fit": null,
            "object_position": null,
            "order": null,
            "overflow": null,
            "overflow_x": null,
            "overflow_y": null,
            "padding": null,
            "right": null,
            "top": null,
            "visibility": null,
            "width": null
          }
        },
        "91fc3c80db834b9f92fa8103971c3be7": {
          "model_module": "@jupyter-widgets/controls",
          "model_name": "ProgressStyleModel",
          "model_module_version": "1.5.0",
          "state": {
            "_model_module": "@jupyter-widgets/controls",
            "_model_module_version": "1.5.0",
            "_model_name": "ProgressStyleModel",
            "_view_count": null,
            "_view_module": "@jupyter-widgets/base",
            "_view_module_version": "1.2.0",
            "_view_name": "StyleView",
            "bar_color": null,
            "description_width": ""
          }
        },
        "fcf305c0b1d8477e845f33ffee8038fc": {
          "model_module": "@jupyter-widgets/base",
          "model_name": "LayoutModel",
          "model_module_version": "1.2.0",
          "state": {
            "_model_module": "@jupyter-widgets/base",
            "_model_module_version": "1.2.0",
            "_model_name": "LayoutModel",
            "_view_count": null,
            "_view_module": "@jupyter-widgets/base",
            "_view_module_version": "1.2.0",
            "_view_name": "LayoutView",
            "align_content": null,
            "align_items": null,
            "align_self": null,
            "border": null,
            "bottom": null,
            "display": null,
            "flex": null,
            "flex_flow": null,
            "grid_area": null,
            "grid_auto_columns": null,
            "grid_auto_flow": null,
            "grid_auto_rows": null,
            "grid_column": null,
            "grid_gap": null,
            "grid_row": null,
            "grid_template_areas": null,
            "grid_template_columns": null,
            "grid_template_rows": null,
            "height": null,
            "justify_content": null,
            "justify_items": null,
            "left": null,
            "margin": null,
            "max_height": null,
            "max_width": null,
            "min_height": null,
            "min_width": null,
            "object_fit": null,
            "object_position": null,
            "order": null,
            "overflow": null,
            "overflow_x": null,
            "overflow_y": null,
            "padding": null,
            "right": null,
            "top": null,
            "visibility": null,
            "width": null
          }
        },
        "64b1de48c889429b80cede73d52fe22a": {
          "model_module": "@jupyter-widgets/controls",
          "model_name": "DescriptionStyleModel",
          "model_module_version": "1.5.0",
          "state": {
            "_model_module": "@jupyter-widgets/controls",
            "_model_module_version": "1.5.0",
            "_model_name": "DescriptionStyleModel",
            "_view_count": null,
            "_view_module": "@jupyter-widgets/base",
            "_view_module_version": "1.2.0",
            "_view_name": "StyleView",
            "description_width": ""
          }
        },
        "4a1afbc0dc5f4298b8b4a710d1540238": {
          "model_module": "@jupyter-widgets/controls",
          "model_name": "HBoxModel",
          "model_module_version": "1.5.0",
          "state": {
            "_dom_classes": [],
            "_model_module": "@jupyter-widgets/controls",
            "_model_module_version": "1.5.0",
            "_model_name": "HBoxModel",
            "_view_count": null,
            "_view_module": "@jupyter-widgets/controls",
            "_view_module_version": "1.5.0",
            "_view_name": "HBoxView",
            "box_style": "",
            "children": [
              "IPY_MODEL_9eb2cb0b21854a77a2ac33256af02f55",
              "IPY_MODEL_eb00616d234246ddb2258c9368c41364",
              "IPY_MODEL_c58279607ffc4d5cb3cc5230be12a0c4"
            ],
            "layout": "IPY_MODEL_f8542c779bfa4df29cf1529dee13eb63"
          }
        },
        "9eb2cb0b21854a77a2ac33256af02f55": {
          "model_module": "@jupyter-widgets/controls",
          "model_name": "HTMLModel",
          "model_module_version": "1.5.0",
          "state": {
            "_dom_classes": [],
            "_model_module": "@jupyter-widgets/controls",
            "_model_module_version": "1.5.0",
            "_model_name": "HTMLModel",
            "_view_count": null,
            "_view_module": "@jupyter-widgets/controls",
            "_view_module_version": "1.5.0",
            "_view_name": "HTMLView",
            "description": "",
            "description_tooltip": null,
            "layout": "IPY_MODEL_0504bb4441aa4be99cd4c64297531da3",
            "placeholder": "​",
            "style": "IPY_MODEL_37d133af86f4443a8f06aa6e3d6f61a5",
            "value": "100%"
          }
        },
        "eb00616d234246ddb2258c9368c41364": {
          "model_module": "@jupyter-widgets/controls",
          "model_name": "FloatProgressModel",
          "model_module_version": "1.5.0",
          "state": {
            "_dom_classes": [],
            "_model_module": "@jupyter-widgets/controls",
            "_model_module_version": "1.5.0",
            "_model_name": "FloatProgressModel",
            "_view_count": null,
            "_view_module": "@jupyter-widgets/controls",
            "_view_module_version": "1.5.0",
            "_view_name": "ProgressView",
            "bar_style": "success",
            "description": "",
            "description_tooltip": null,
            "layout": "IPY_MODEL_eaea976a8d294bab8dd7c10bd0e17b4b",
            "max": 25000,
            "min": 0,
            "orientation": "horizontal",
            "style": "IPY_MODEL_1baa1ac10d8e410b822227cfe644aa90",
            "value": 25000
          }
        },
        "c58279607ffc4d5cb3cc5230be12a0c4": {
          "model_module": "@jupyter-widgets/controls",
          "model_name": "HTMLModel",
          "model_module_version": "1.5.0",
          "state": {
            "_dom_classes": [],
            "_model_module": "@jupyter-widgets/controls",
            "_model_module_version": "1.5.0",
            "_model_name": "HTMLModel",
            "_view_count": null,
            "_view_module": "@jupyter-widgets/controls",
            "_view_module_version": "1.5.0",
            "_view_name": "HTMLView",
            "description": "",
            "description_tooltip": null,
            "layout": "IPY_MODEL_40bbe8d224ce48de867e0c3deb805bde",
            "placeholder": "​",
            "style": "IPY_MODEL_99df659a87934a6f81320794575bf0fc",
            "value": " 25000/25000 [00:14&lt;00:00, 1705.82ex/s]"
          }
        },
        "f8542c779bfa4df29cf1529dee13eb63": {
          "model_module": "@jupyter-widgets/base",
          "model_name": "LayoutModel",
          "model_module_version": "1.2.0",
          "state": {
            "_model_module": "@jupyter-widgets/base",
            "_model_module_version": "1.2.0",
            "_model_name": "LayoutModel",
            "_view_count": null,
            "_view_module": "@jupyter-widgets/base",
            "_view_module_version": "1.2.0",
            "_view_name": "LayoutView",
            "align_content": null,
            "align_items": null,
            "align_self": null,
            "border": null,
            "bottom": null,
            "display": null,
            "flex": null,
            "flex_flow": null,
            "grid_area": null,
            "grid_auto_columns": null,
            "grid_auto_flow": null,
            "grid_auto_rows": null,
            "grid_column": null,
            "grid_gap": null,
            "grid_row": null,
            "grid_template_areas": null,
            "grid_template_columns": null,
            "grid_template_rows": null,
            "height": null,
            "justify_content": null,
            "justify_items": null,
            "left": null,
            "margin": null,
            "max_height": null,
            "max_width": null,
            "min_height": null,
            "min_width": null,
            "object_fit": null,
            "object_position": null,
            "order": null,
            "overflow": null,
            "overflow_x": null,
            "overflow_y": null,
            "padding": null,
            "right": null,
            "top": null,
            "visibility": null,
            "width": null
          }
        },
        "0504bb4441aa4be99cd4c64297531da3": {
          "model_module": "@jupyter-widgets/base",
          "model_name": "LayoutModel",
          "model_module_version": "1.2.0",
          "state": {
            "_model_module": "@jupyter-widgets/base",
            "_model_module_version": "1.2.0",
            "_model_name": "LayoutModel",
            "_view_count": null,
            "_view_module": "@jupyter-widgets/base",
            "_view_module_version": "1.2.0",
            "_view_name": "LayoutView",
            "align_content": null,
            "align_items": null,
            "align_self": null,
            "border": null,
            "bottom": null,
            "display": null,
            "flex": null,
            "flex_flow": null,
            "grid_area": null,
            "grid_auto_columns": null,
            "grid_auto_flow": null,
            "grid_auto_rows": null,
            "grid_column": null,
            "grid_gap": null,
            "grid_row": null,
            "grid_template_areas": null,
            "grid_template_columns": null,
            "grid_template_rows": null,
            "height": null,
            "justify_content": null,
            "justify_items": null,
            "left": null,
            "margin": null,
            "max_height": null,
            "max_width": null,
            "min_height": null,
            "min_width": null,
            "object_fit": null,
            "object_position": null,
            "order": null,
            "overflow": null,
            "overflow_x": null,
            "overflow_y": null,
            "padding": null,
            "right": null,
            "top": null,
            "visibility": null,
            "width": null
          }
        },
        "37d133af86f4443a8f06aa6e3d6f61a5": {
          "model_module": "@jupyter-widgets/controls",
          "model_name": "DescriptionStyleModel",
          "model_module_version": "1.5.0",
          "state": {
            "_model_module": "@jupyter-widgets/controls",
            "_model_module_version": "1.5.0",
            "_model_name": "DescriptionStyleModel",
            "_view_count": null,
            "_view_module": "@jupyter-widgets/base",
            "_view_module_version": "1.2.0",
            "_view_name": "StyleView",
            "description_width": ""
          }
        },
        "eaea976a8d294bab8dd7c10bd0e17b4b": {
          "model_module": "@jupyter-widgets/base",
          "model_name": "LayoutModel",
          "model_module_version": "1.2.0",
          "state": {
            "_model_module": "@jupyter-widgets/base",
            "_model_module_version": "1.2.0",
            "_model_name": "LayoutModel",
            "_view_count": null,
            "_view_module": "@jupyter-widgets/base",
            "_view_module_version": "1.2.0",
            "_view_name": "LayoutView",
            "align_content": null,
            "align_items": null,
            "align_self": null,
            "border": null,
            "bottom": null,
            "display": null,
            "flex": null,
            "flex_flow": null,
            "grid_area": null,
            "grid_auto_columns": null,
            "grid_auto_flow": null,
            "grid_auto_rows": null,
            "grid_column": null,
            "grid_gap": null,
            "grid_row": null,
            "grid_template_areas": null,
            "grid_template_columns": null,
            "grid_template_rows": null,
            "height": null,
            "justify_content": null,
            "justify_items": null,
            "left": null,
            "margin": null,
            "max_height": null,
            "max_width": null,
            "min_height": null,
            "min_width": null,
            "object_fit": null,
            "object_position": null,
            "order": null,
            "overflow": null,
            "overflow_x": null,
            "overflow_y": null,
            "padding": null,
            "right": null,
            "top": null,
            "visibility": null,
            "width": null
          }
        },
        "1baa1ac10d8e410b822227cfe644aa90": {
          "model_module": "@jupyter-widgets/controls",
          "model_name": "ProgressStyleModel",
          "model_module_version": "1.5.0",
          "state": {
            "_model_module": "@jupyter-widgets/controls",
            "_model_module_version": "1.5.0",
            "_model_name": "ProgressStyleModel",
            "_view_count": null,
            "_view_module": "@jupyter-widgets/base",
            "_view_module_version": "1.2.0",
            "_view_name": "StyleView",
            "bar_color": null,
            "description_width": ""
          }
        },
        "40bbe8d224ce48de867e0c3deb805bde": {
          "model_module": "@jupyter-widgets/base",
          "model_name": "LayoutModel",
          "model_module_version": "1.2.0",
          "state": {
            "_model_module": "@jupyter-widgets/base",
            "_model_module_version": "1.2.0",
            "_model_name": "LayoutModel",
            "_view_count": null,
            "_view_module": "@jupyter-widgets/base",
            "_view_module_version": "1.2.0",
            "_view_name": "LayoutView",
            "align_content": null,
            "align_items": null,
            "align_self": null,
            "border": null,
            "bottom": null,
            "display": null,
            "flex": null,
            "flex_flow": null,
            "grid_area": null,
            "grid_auto_columns": null,
            "grid_auto_flow": null,
            "grid_auto_rows": null,
            "grid_column": null,
            "grid_gap": null,
            "grid_row": null,
            "grid_template_areas": null,
            "grid_template_columns": null,
            "grid_template_rows": null,
            "height": null,
            "justify_content": null,
            "justify_items": null,
            "left": null,
            "margin": null,
            "max_height": null,
            "max_width": null,
            "min_height": null,
            "min_width": null,
            "object_fit": null,
            "object_position": null,
            "order": null,
            "overflow": null,
            "overflow_x": null,
            "overflow_y": null,
            "padding": null,
            "right": null,
            "top": null,
            "visibility": null,
            "width": null
          }
        },
        "99df659a87934a6f81320794575bf0fc": {
          "model_module": "@jupyter-widgets/controls",
          "model_name": "DescriptionStyleModel",
          "model_module_version": "1.5.0",
          "state": {
            "_model_module": "@jupyter-widgets/controls",
            "_model_module_version": "1.5.0",
            "_model_name": "DescriptionStyleModel",
            "_view_count": null,
            "_view_module": "@jupyter-widgets/base",
            "_view_module_version": "1.2.0",
            "_view_name": "StyleView",
            "description_width": ""
          }
        }
      }
    }
  },
  "cells": [
    {
      "cell_type": "code",
      "execution_count": 3,
      "metadata": {
        "colab": {
          "base_uri": "https://localhost:8080/",
          "height": 1000
        },
        "id": "rHl5X404nkVT",
        "outputId": "8cd53e72-585b-420e-feea-15b7ae644a95"
      },
      "outputs": [
        {
          "output_type": "stream",
          "name": "stdout",
          "text": [
            "Looking in indexes: https://pypi.org/simple, https://us-python.pkg.dev/colab-wheels/public/simple/\n",
            "Collecting torchdata\n",
            "  Downloading torchdata-0.4.0-cp37-cp37m-manylinux2014_x86_64.whl (4.4 MB)\n",
            "\u001b[K     |████████████████████████████████| 4.4 MB 5.1 MB/s \n",
            "\u001b[?25hCollecting urllib3>=1.25\n",
            "  Downloading urllib3-1.26.11-py2.py3-none-any.whl (139 kB)\n",
            "\u001b[K     |████████████████████████████████| 139 kB 30.5 MB/s \n",
            "\u001b[?25hRequirement already satisfied: requests in /usr/local/lib/python3.7/dist-packages (from torchdata) (2.23.0)\n",
            "Requirement already satisfied: torch==1.12.0 in /usr/local/lib/python3.7/dist-packages (from torchdata) (1.12.0+cu113)\n",
            "Collecting portalocker>=2.0.0\n",
            "  Downloading portalocker-2.5.1-py2.py3-none-any.whl (15 kB)\n",
            "Requirement already satisfied: typing-extensions in /usr/local/lib/python3.7/dist-packages (from torch==1.12.0->torchdata) (4.1.1)\n",
            "Requirement already satisfied: chardet<4,>=3.0.2 in /usr/local/lib/python3.7/dist-packages (from requests->torchdata) (3.0.4)\n",
            "Requirement already satisfied: idna<3,>=2.5 in /usr/local/lib/python3.7/dist-packages (from requests->torchdata) (2.10)\n",
            "Collecting urllib3>=1.25\n",
            "  Downloading urllib3-1.25.11-py2.py3-none-any.whl (127 kB)\n",
            "\u001b[K     |████████████████████████████████| 127 kB 57.6 MB/s \n",
            "\u001b[?25hRequirement already satisfied: certifi>=2017.4.17 in /usr/local/lib/python3.7/dist-packages (from requests->torchdata) (2022.6.15)\n",
            "Installing collected packages: urllib3, portalocker, torchdata\n",
            "  Attempting uninstall: urllib3\n",
            "    Found existing installation: urllib3 1.24.3\n",
            "    Uninstalling urllib3-1.24.3:\n",
            "      Successfully uninstalled urllib3-1.24.3\n",
            "Successfully installed portalocker-2.5.1 torchdata-0.4.0 urllib3-1.25.11\n"
          ]
        },
        {
          "output_type": "display_data",
          "data": {
            "application/vnd.colab-display-data+json": {
              "pip_warning": {
                "packages": [
                  "urllib3"
                ]
              }
            }
          },
          "metadata": {}
        },
        {
          "output_type": "stream",
          "name": "stdout",
          "text": [
            "Looking in indexes: https://pypi.org/simple, https://us-python.pkg.dev/colab-wheels/public/simple/\n",
            "Requirement already satisfied: torchtext==0.13.0 in /usr/local/lib/python3.7/dist-packages (0.13.0)\n",
            "Requirement already satisfied: tqdm in /usr/local/lib/python3.7/dist-packages (from torchtext==0.13.0) (4.64.0)\n",
            "Requirement already satisfied: torch==1.12.0 in /usr/local/lib/python3.7/dist-packages (from torchtext==0.13.0) (1.12.0+cu113)\n",
            "Requirement already satisfied: requests in /usr/local/lib/python3.7/dist-packages (from torchtext==0.13.0) (2.23.0)\n",
            "Requirement already satisfied: numpy in /usr/local/lib/python3.7/dist-packages (from torchtext==0.13.0) (1.21.6)\n",
            "Requirement already satisfied: typing-extensions in /usr/local/lib/python3.7/dist-packages (from torch==1.12.0->torchtext==0.13.0) (4.1.1)\n",
            "Requirement already satisfied: chardet<4,>=3.0.2 in /usr/local/lib/python3.7/dist-packages (from requests->torchtext==0.13.0) (3.0.4)\n",
            "Requirement already satisfied: certifi>=2017.4.17 in /usr/local/lib/python3.7/dist-packages (from requests->torchtext==0.13.0) (2022.6.15)\n",
            "Requirement already satisfied: idna<3,>=2.5 in /usr/local/lib/python3.7/dist-packages (from requests->torchtext==0.13.0) (2.10)\n",
            "Requirement already satisfied: urllib3!=1.25.0,!=1.25.1,<1.26,>=1.21.1 in /usr/local/lib/python3.7/dist-packages (from requests->torchtext==0.13.0) (1.25.11)\n",
            "Looking in indexes: https://pypi.org/simple, https://us-python.pkg.dev/colab-wheels/public/simple/\n",
            "Collecting datasets\n",
            "  Downloading datasets-2.4.0-py3-none-any.whl (365 kB)\n",
            "\u001b[K     |████████████████████████████████| 365 kB 5.2 MB/s \n",
            "\u001b[?25hRequirement already satisfied: numpy>=1.17 in /usr/local/lib/python3.7/dist-packages (from datasets) (1.21.6)\n",
            "Requirement already satisfied: aiohttp in /usr/local/lib/python3.7/dist-packages (from datasets) (3.8.1)\n",
            "Collecting multiprocess\n",
            "  Downloading multiprocess-0.70.13-py37-none-any.whl (115 kB)\n",
            "\u001b[K     |████████████████████████████████| 115 kB 73.2 MB/s \n",
            "\u001b[?25hCollecting xxhash\n",
            "  Downloading xxhash-3.0.0-cp37-cp37m-manylinux_2_17_x86_64.manylinux2014_x86_64.whl (212 kB)\n",
            "\u001b[K     |████████████████████████████████| 212 kB 70.3 MB/s \n",
            "\u001b[?25hRequirement already satisfied: dill<0.3.6 in /usr/local/lib/python3.7/dist-packages (from datasets) (0.3.5.1)\n",
            "Requirement already satisfied: pyarrow>=6.0.0 in /usr/local/lib/python3.7/dist-packages (from datasets) (6.0.1)\n",
            "Requirement already satisfied: tqdm>=4.62.1 in /usr/local/lib/python3.7/dist-packages (from datasets) (4.64.0)\n",
            "Requirement already satisfied: requests>=2.19.0 in /usr/local/lib/python3.7/dist-packages (from datasets) (2.23.0)\n",
            "Requirement already satisfied: pandas in /usr/local/lib/python3.7/dist-packages (from datasets) (1.3.5)\n",
            "Collecting huggingface-hub<1.0.0,>=0.1.0\n",
            "  Downloading huggingface_hub-0.8.1-py3-none-any.whl (101 kB)\n",
            "\u001b[K     |████████████████████████████████| 101 kB 12.7 MB/s \n",
            "\u001b[?25hRequirement already satisfied: importlib-metadata in /usr/local/lib/python3.7/dist-packages (from datasets) (4.12.0)\n",
            "Collecting fsspec[http]>=2021.11.1\n",
            "  Downloading fsspec-2022.7.1-py3-none-any.whl (141 kB)\n",
            "\u001b[K     |████████████████████████████████| 141 kB 68.6 MB/s \n",
            "\u001b[?25hCollecting responses<0.19\n",
            "  Downloading responses-0.18.0-py3-none-any.whl (38 kB)\n",
            "Requirement already satisfied: packaging in /usr/local/lib/python3.7/dist-packages (from datasets) (21.3)\n",
            "Requirement already satisfied: typing-extensions>=3.7.4.3 in /usr/local/lib/python3.7/dist-packages (from huggingface-hub<1.0.0,>=0.1.0->datasets) (4.1.1)\n",
            "Requirement already satisfied: filelock in /usr/local/lib/python3.7/dist-packages (from huggingface-hub<1.0.0,>=0.1.0->datasets) (3.7.1)\n",
            "Collecting pyyaml>=5.1\n",
            "  Downloading PyYAML-6.0-cp37-cp37m-manylinux_2_5_x86_64.manylinux1_x86_64.manylinux_2_12_x86_64.manylinux2010_x86_64.whl (596 kB)\n",
            "\u001b[K     |████████████████████████████████| 596 kB 63.9 MB/s \n",
            "\u001b[?25hRequirement already satisfied: pyparsing!=3.0.5,>=2.0.2 in /usr/local/lib/python3.7/dist-packages (from packaging->datasets) (3.0.9)\n",
            "Requirement already satisfied: certifi>=2017.4.17 in /usr/local/lib/python3.7/dist-packages (from requests>=2.19.0->datasets) (2022.6.15)\n",
            "Requirement already satisfied: urllib3!=1.25.0,!=1.25.1,<1.26,>=1.21.1 in /usr/local/lib/python3.7/dist-packages (from requests>=2.19.0->datasets) (1.25.11)\n",
            "Requirement already satisfied: chardet<4,>=3.0.2 in /usr/local/lib/python3.7/dist-packages (from requests>=2.19.0->datasets) (3.0.4)\n",
            "Requirement already satisfied: idna<3,>=2.5 in /usr/local/lib/python3.7/dist-packages (from requests>=2.19.0->datasets) (2.10)\n",
            "Requirement already satisfied: aiosignal>=1.1.2 in /usr/local/lib/python3.7/dist-packages (from aiohttp->datasets) (1.2.0)\n",
            "Requirement already satisfied: attrs>=17.3.0 in /usr/local/lib/python3.7/dist-packages (from aiohttp->datasets) (22.1.0)\n",
            "Requirement already satisfied: multidict<7.0,>=4.5 in /usr/local/lib/python3.7/dist-packages (from aiohttp->datasets) (6.0.2)\n",
            "Requirement already satisfied: asynctest==0.13.0 in /usr/local/lib/python3.7/dist-packages (from aiohttp->datasets) (0.13.0)\n",
            "Requirement already satisfied: async-timeout<5.0,>=4.0.0a3 in /usr/local/lib/python3.7/dist-packages (from aiohttp->datasets) (4.0.2)\n",
            "Requirement already satisfied: frozenlist>=1.1.1 in /usr/local/lib/python3.7/dist-packages (from aiohttp->datasets) (1.3.0)\n",
            "Requirement already satisfied: yarl<2.0,>=1.0 in /usr/local/lib/python3.7/dist-packages (from aiohttp->datasets) (1.7.2)\n",
            "Requirement already satisfied: charset-normalizer<3.0,>=2.0 in /usr/local/lib/python3.7/dist-packages (from aiohttp->datasets) (2.1.0)\n",
            "Requirement already satisfied: zipp>=0.5 in /usr/local/lib/python3.7/dist-packages (from importlib-metadata->datasets) (3.8.1)\n",
            "Requirement already satisfied: python-dateutil>=2.7.3 in /usr/local/lib/python3.7/dist-packages (from pandas->datasets) (2.8.2)\n",
            "Requirement already satisfied: pytz>=2017.3 in /usr/local/lib/python3.7/dist-packages (from pandas->datasets) (2022.1)\n",
            "Requirement already satisfied: six>=1.5 in /usr/local/lib/python3.7/dist-packages (from python-dateutil>=2.7.3->pandas->datasets) (1.15.0)\n",
            "Installing collected packages: pyyaml, fsspec, xxhash, responses, multiprocess, huggingface-hub, datasets\n",
            "  Attempting uninstall: pyyaml\n",
            "    Found existing installation: PyYAML 3.13\n",
            "    Uninstalling PyYAML-3.13:\n",
            "      Successfully uninstalled PyYAML-3.13\n",
            "Successfully installed datasets-2.4.0 fsspec-2022.7.1 huggingface-hub-0.8.1 multiprocess-0.70.13 pyyaml-6.0 responses-0.18.0 xxhash-3.0.0\n"
          ]
        }
      ],
      "source": [
        "!pip install torchdata\n",
        "!pip install -U torchtext==0.13.0\n",
        "!pip install datasets"
      ]
    },
    {
      "cell_type": "code",
      "source": [
        "import torch\n",
        "import torchtext\n",
        "import datasets\n",
        "\n",
        "# Used hugging face tutorial as a starting point: https://notebooks.githubusercontent.com/view/ipynb?azure_maps_enabled=false&browser=chrome&color_mode=auto&commit=b4efbefa47672174394a8b6a27d4e7bc193bc224&device=unknown&enc_url=68747470733a2f2f7261772e67697468756275736572636f6e74656e742e636f6d2f62656e747265766574742f7079746f7263682d73656e74696d656e742d616e616c797369732f623465666265666134373637323137343339346138623661323764346537626331393362633232342f746f726368746578745f305f31305f696d64625f6e626f772e6970796e62&enterprise_enabled=false&logged_in=false&nwo=bentrevett%2Fpytorch-sentiment-analysis&path=torchtext_0_10_imdb_nbow.ipynb&platform=android&repository_id=114125096&repository_type=Repository&version=102"
      ],
      "metadata": {
        "id": "ndoMqM9-ntt_"
      },
      "execution_count": 226,
      "outputs": []
    },
    {
      "cell_type": "code",
      "source": [
        "device = torch.device('cuda' if torch.cuda.is_available() else 'cpu')\n",
        "device"
      ],
      "metadata": {
        "colab": {
          "base_uri": "https://localhost:8080/"
        },
        "id": "iDxOIhg6qBVR",
        "outputId": "2fbf6b6e-74d6-4023-86f3-eeb061079dc9"
      },
      "execution_count": 227,
      "outputs": [
        {
          "output_type": "execute_result",
          "data": {
            "text/plain": [
              "device(type='cuda')"
            ]
          },
          "metadata": {},
          "execution_count": 227
        }
      ]
    },
    {
      "cell_type": "code",
      "source": [
        "# get dataset from hugging face library\n",
        "train_data, test_data = datasets.load_dataset('imdb', split = ['train', 'test'])"
      ],
      "metadata": {
        "colab": {
          "base_uri": "https://localhost:8080/",
          "height": 86,
          "referenced_widgets": [
            "f2bc083b47b84e9da6866072a0b9f0a0",
            "d1f1cd5c6b65453e99ed8de3be09e3ff",
            "ea5c81efb29443c2adeb64331a4942e0",
            "8c939e8fb98e4d3c8ee7824f81d1a505",
            "dffb888127ec4e92b47b80fe0d5ee3af",
            "d66fa9da522447a49f8642563705a5c7",
            "76f69e251c094237a1ebaae825379efe",
            "4610e664d6b848acb60d0d8ff4751b9e",
            "c5c1cce63e6f4f34b14c72ac3980cc6f",
            "618fb22f29be47edb0536253fbb80519",
            "10889ca33c5f41249a7d4185bf9c9120"
          ]
        },
        "id": "3yMVSleSoDkg",
        "outputId": "bf8e8024-bdf2-48e5-c34c-7ccabec3e741"
      },
      "execution_count": 228,
      "outputs": [
        {
          "output_type": "stream",
          "name": "stderr",
          "text": [
            "WARNING:datasets.builder:Reusing dataset imdb (/root/.cache/huggingface/datasets/imdb/plain_text/1.0.0/2fdd8b9bcadd6e7055e742a706876ba43f19faee861df134affd7a3f60fc38a1)\n"
          ]
        },
        {
          "output_type": "display_data",
          "data": {
            "text/plain": [
              "  0%|          | 0/2 [00:00<?, ?it/s]"
            ],
            "application/vnd.jupyter.widget-view+json": {
              "version_major": 2,
              "version_minor": 0,
              "model_id": "f2bc083b47b84e9da6866072a0b9f0a0"
            }
          },
          "metadata": {}
        }
      ]
    },
    {
      "cell_type": "code",
      "source": [
        "train_data, test_data"
      ],
      "metadata": {
        "colab": {
          "base_uri": "https://localhost:8080/"
        },
        "id": "maN-Pa_Hos-F",
        "outputId": "54d69cc4-6b12-4e2c-d977-bd00ba39ff69"
      },
      "execution_count": 229,
      "outputs": [
        {
          "output_type": "execute_result",
          "data": {
            "text/plain": [
              "(Dataset({\n",
              "     features: ['text', 'label'],\n",
              "     num_rows: 25000\n",
              " }), Dataset({\n",
              "     features: ['text', 'label'],\n",
              "     num_rows: 25000\n",
              " }))"
            ]
          },
          "metadata": {},
          "execution_count": 229
        }
      ]
    },
    {
      "cell_type": "code",
      "source": [
        "from torchtext.data.utils import get_tokenizer\n",
        "\n",
        "# use a standard english tokenizer\n",
        "tokenizer = get_tokenizer('basic_english')"
      ],
      "metadata": {
        "id": "ZmUA5dTZovuK"
      },
      "execution_count": 230,
      "outputs": []
    },
    {
      "cell_type": "code",
      "source": [
        "# function that tokenizes the data\n",
        "def tokenize_data(ex):\n",
        "  tokens = {'tokens': tokenizer(ex['text'])}\n",
        "  return tokens"
      ],
      "metadata": {
        "id": "umieKx7Io27F"
      },
      "execution_count": 231,
      "outputs": []
    },
    {
      "cell_type": "code",
      "source": [
        "# add a tokens column with the tokens for each text review\n",
        "# Documentation: https://huggingface.co/docs/datasets/v2.4.0/en/package_reference/main_classes#datasets.Dataset.map\n",
        "train_data = train_data.map(tokenize_data)\n",
        "test_data = test_data.map(tokenize_data)"
      ],
      "metadata": {
        "colab": {
          "base_uri": "https://localhost:8080/"
        },
        "id": "qRVaMjfipJLt",
        "outputId": "400cff99-94d9-4ea6-d0dc-3569ca5c33b7"
      },
      "execution_count": 232,
      "outputs": [
        {
          "output_type": "stream",
          "name": "stderr",
          "text": [
            "WARNING:datasets.arrow_dataset:Loading cached processed dataset at /root/.cache/huggingface/datasets/imdb/plain_text/1.0.0/2fdd8b9bcadd6e7055e742a706876ba43f19faee861df134affd7a3f60fc38a1/cache-3c8d8aa198c6acdf.arrow\n",
            "WARNING:datasets.arrow_dataset:Loading cached processed dataset at /root/.cache/huggingface/datasets/imdb/plain_text/1.0.0/2fdd8b9bcadd6e7055e742a706876ba43f19faee861df134affd7a3f60fc38a1/cache-b600c57360a69d2b.arrow\n"
          ]
        }
      ]
    },
    {
      "cell_type": "code",
      "source": [
        "train_data, test_data"
      ],
      "metadata": {
        "colab": {
          "base_uri": "https://localhost:8080/"
        },
        "id": "8NpqAEBKpl5Z",
        "outputId": "9a9cf5c0-38e7-4e63-c85c-80fdbb5e15bd"
      },
      "execution_count": 233,
      "outputs": [
        {
          "output_type": "execute_result",
          "data": {
            "text/plain": [
              "(Dataset({\n",
              "     features: ['text', 'label', 'tokens'],\n",
              "     num_rows: 25000\n",
              " }), Dataset({\n",
              "     features: ['text', 'label', 'tokens'],\n",
              "     num_rows: 25000\n",
              " }))"
            ]
          },
          "metadata": {},
          "execution_count": 233
        }
      ]
    },
    {
      "cell_type": "code",
      "source": [
        "#Documentation: https://huggingface.co/docs/datasets/v2.4.0/en/package_reference/main_classes#datasets.Dataset.train_test_split\n",
        "# split the training data into training and validation data\n",
        "train_valid_data = train_data.train_test_split() # default test_size is 0.25\n",
        "train_data = train_valid_data['train']\n",
        "valid_data = train_valid_data['test']"
      ],
      "metadata": {
        "id": "fV6WWfjbptEH"
      },
      "execution_count": 234,
      "outputs": []
    },
    {
      "cell_type": "code",
      "source": [
        "train_data, valid_data, test_data"
      ],
      "metadata": {
        "colab": {
          "base_uri": "https://localhost:8080/"
        },
        "id": "nwSuk47Or0G8",
        "outputId": "cfcc286d-a095-40db-8059-dc38c20ecc23"
      },
      "execution_count": 235,
      "outputs": [
        {
          "output_type": "execute_result",
          "data": {
            "text/plain": [
              "(Dataset({\n",
              "     features: ['text', 'label', 'tokens'],\n",
              "     num_rows: 18750\n",
              " }), Dataset({\n",
              "     features: ['text', 'label', 'tokens'],\n",
              "     num_rows: 6250\n",
              " }), Dataset({\n",
              "     features: ['text', 'label', 'tokens'],\n",
              "     num_rows: 25000\n",
              " }))"
            ]
          },
          "metadata": {},
          "execution_count": 235
        }
      ]
    },
    {
      "cell_type": "code",
      "source": [
        "from torchtext.vocab import Vocab, build_vocab_from_iterator\n",
        "\n",
        "UNK_IDX, PAD_IDX = 0, 1\n",
        "special_symbols = ['<unk>', '<pad>']\n",
        "\n",
        "# build vocab from the text tokens from training data\n",
        "vocab = build_vocab_from_iterator(train_data['tokens'], min_freq = 2, specials = special_symbols)\n",
        "\n",
        "# set unknown index as the default\n",
        "vocab.set_default_index(UNK_IDX)\n"
      ],
      "metadata": {
        "id": "UJuwpW0WsgOp"
      },
      "execution_count": 236,
      "outputs": []
    },
    {
      "cell_type": "code",
      "source": [
        "len(vocab)"
      ],
      "metadata": {
        "colab": {
          "base_uri": "https://localhost:8080/"
        },
        "id": "sz76ocSJqBsu",
        "outputId": "8bbbd3db-d0bd-4a2f-cc58-349ee5ba40ca"
      },
      "execution_count": 237,
      "outputs": [
        {
          "output_type": "execute_result",
          "data": {
            "text/plain": [
              "45440"
            ]
          },
          "metadata": {},
          "execution_count": 237
        }
      ]
    },
    {
      "cell_type": "code",
      "source": [
        "vocab.get_itos()[:5]"
      ],
      "metadata": {
        "colab": {
          "base_uri": "https://localhost:8080/"
        },
        "id": "0lIDPz6vsefZ",
        "outputId": "64600aa6-b561-4603-e3e7-fbfcdb75c95d"
      },
      "execution_count": 238,
      "outputs": [
        {
          "output_type": "execute_result",
          "data": {
            "text/plain": [
              "['<unk>', '<pad>', 'the', '.', ',']"
            ]
          },
          "metadata": {},
          "execution_count": 238
        }
      ]
    },
    {
      "cell_type": "code",
      "source": [
        "# transform the tokens into numerical values \n",
        "def transform_tokens(ex):\n",
        "  idxs = {'idxs': [vocab[token] for token in ex['tokens']]}\n",
        "  return idxs"
      ],
      "metadata": {
        "id": "_saoKxwctMnJ"
      },
      "execution_count": 239,
      "outputs": []
    },
    {
      "cell_type": "code",
      "source": [
        "# add a column with the idxs\n",
        "train_data = train_data.map(transform_tokens)\n",
        "valid_data = valid_data.map(transform_tokens)\n",
        "test_data = test_data.map(transform_tokens)"
      ],
      "metadata": {
        "colab": {
          "base_uri": "https://localhost:8080/",
          "height": 113,
          "referenced_widgets": [
            "6f2f311f7a7544a09288fcf3af59eb8b",
            "716b69cbf28f4dafa89d4623f5e2e742",
            "2b2d428602664360a8b6f5303e44bf25",
            "19d50f0a81ea4c99af80b01032e4e2cb",
            "11a523efa56e432ea773946a82ce4494",
            "d8eaf306353b4a918aaf58c277574521",
            "11445e27e9be4612a1eea0b1ade0d0c4",
            "4270833cb2f74459b8cb8dd712bf4431",
            "c60eb596622249b6a158f56081d6b67a",
            "74821c77b1e74521b4b0f12d8c5d63f5",
            "2b0f8e34d4684269ba4a568758bae2a8",
            "4b6d449fa2d24e688f26c6b0aebd22a1",
            "7e8c0209c7ca42e7a031f23fa2db6ac0",
            "bf1c3bf62546482aa9bacfb9ea9d0cac",
            "443ba96ba7714016bbdd6896820520ee",
            "26e115b66b8448a9a495e374fac959dd",
            "135079eb740949198b6521c324693cb1",
            "7750044b35f1453d8e416bf9543fcfb9",
            "d9441322f4d540689e78eb6b9df8bfb2",
            "91fc3c80db834b9f92fa8103971c3be7",
            "fcf305c0b1d8477e845f33ffee8038fc",
            "64b1de48c889429b80cede73d52fe22a",
            "4a1afbc0dc5f4298b8b4a710d1540238",
            "9eb2cb0b21854a77a2ac33256af02f55",
            "eb00616d234246ddb2258c9368c41364",
            "c58279607ffc4d5cb3cc5230be12a0c4",
            "f8542c779bfa4df29cf1529dee13eb63",
            "0504bb4441aa4be99cd4c64297531da3",
            "37d133af86f4443a8f06aa6e3d6f61a5",
            "eaea976a8d294bab8dd7c10bd0e17b4b",
            "1baa1ac10d8e410b822227cfe644aa90",
            "40bbe8d224ce48de867e0c3deb805bde",
            "99df659a87934a6f81320794575bf0fc"
          ]
        },
        "id": "Kl74sFUlt744",
        "outputId": "a2c6b9a1-b185-4004-c80d-ad8e0630cc7d"
      },
      "execution_count": 240,
      "outputs": [
        {
          "output_type": "display_data",
          "data": {
            "text/plain": [
              "  0%|          | 0/18750 [00:00<?, ?ex/s]"
            ],
            "application/vnd.jupyter.widget-view+json": {
              "version_major": 2,
              "version_minor": 0,
              "model_id": "6f2f311f7a7544a09288fcf3af59eb8b"
            }
          },
          "metadata": {}
        },
        {
          "output_type": "display_data",
          "data": {
            "text/plain": [
              "  0%|          | 0/6250 [00:00<?, ?ex/s]"
            ],
            "application/vnd.jupyter.widget-view+json": {
              "version_major": 2,
              "version_minor": 0,
              "model_id": "4b6d449fa2d24e688f26c6b0aebd22a1"
            }
          },
          "metadata": {}
        },
        {
          "output_type": "display_data",
          "data": {
            "text/plain": [
              "  0%|          | 0/25000 [00:00<?, ?ex/s]"
            ],
            "application/vnd.jupyter.widget-view+json": {
              "version_major": 2,
              "version_minor": 0,
              "model_id": "4a1afbc0dc5f4298b8b4a710d1540238"
            }
          },
          "metadata": {}
        }
      ]
    },
    {
      "cell_type": "code",
      "source": [
        "train_data, valid_data, test_data"
      ],
      "metadata": {
        "colab": {
          "base_uri": "https://localhost:8080/"
        },
        "id": "oazY9U1HuMSy",
        "outputId": "f2b52cb5-f930-49e1-9b09-6f3a21cb48ea"
      },
      "execution_count": 241,
      "outputs": [
        {
          "output_type": "execute_result",
          "data": {
            "text/plain": [
              "(Dataset({\n",
              "     features: ['text', 'label', 'tokens', 'idxs'],\n",
              "     num_rows: 18750\n",
              " }), Dataset({\n",
              "     features: ['text', 'label', 'tokens', 'idxs'],\n",
              "     num_rows: 6250\n",
              " }), Dataset({\n",
              "     features: ['text', 'label', 'tokens', 'idxs'],\n",
              "     num_rows: 25000\n",
              " }))"
            ]
          },
          "metadata": {},
          "execution_count": 241
        }
      ]
    },
    {
      "cell_type": "code",
      "source": [
        "print(train_data[0]) # labels are 0 (neg) and 1 (pos)"
      ],
      "metadata": {
        "colab": {
          "base_uri": "https://localhost:8080/"
        },
        "id": "xXiJu1D1uO_Y",
        "outputId": "c59ad99d-d9fc-4bc8-daea-b2d779841191"
      },
      "execution_count": 242,
      "outputs": [
        {
          "output_type": "stream",
          "name": "stdout",
          "text": [
            "{'text': 'Very bad. Very, very bad. As a fellow who aspires to make, be in or - at least - sniff the catering table at a movie set, I find it hard to criticize independents who actually got a movie of any sort made. However, this movie ... oh dear.<br /><br />Realizing Frightworld doesn\\'t aspire to anything more than crude exploitation (an honorable thing in itself) and to try to make it conform to more mainstream standards is a mistake. And to be fair, it is more entertaining than - say - Red Zone Cuba ... but not by much. So I won\\'t try to critique, just let me ask throw out some observations.<br /><br />1) If gore is the point of the movie, shouldn\\'t you be able to see it?<br /><br />2) If you have hire three sound men make sure at least one knows how to operate the equipment.<br /><br />3) In a horror movie your lead maniac must be scarier than a smurf doll. Difficult I know but really...<br /><br />4) There is a lot of talented videographers in the Buffalo/Rochester area, most you can hire really cheap. Get one who knows how to frame a scene.<br /><br />5) Just because you have someone who knows how to use After Effects and other cool programs doesn\\'t mean he should do so every two seconds.<br /><br />6) Kudos for getting the girls to take off their tops but next time, get girls who\\'s tops we want to see taken off.<br /><br />7) Editing should help tell the story or set a mood. At the least in this sort of movie editing should sell the gore gags. A chainsaw suddenly appearing in a characters stomach is not scary, it\\'s sloppy.<br /><br />Some good things. Not all the acting was bad. Jack was pretty good and I liked Acid once she started fighting back. There was some neat imagery, unfortunately it was thrown up on the screen without rhyme or reason. \"Acid Poptart\" is a name that deserves a better movie. I like the moxie of Frightworld too. Next time, now that they have a movie of sorts under their belts, I hope all involve aspire to something better than Colman Francis. Upgrade at least Ed Wood.', 'label': 0, 'tokens': ['very', 'bad', '.', 'very', ',', 'very', 'bad', '.', 'as', 'a', 'fellow', 'who', 'aspires', 'to', 'make', ',', 'be', 'in', 'or', '-', 'at', 'least', '-', 'sniff', 'the', 'catering', 'table', 'at', 'a', 'movie', 'set', ',', 'i', 'find', 'it', 'hard', 'to', 'criticize', 'independents', 'who', 'actually', 'got', 'a', 'movie', 'of', 'any', 'sort', 'made', '.', 'however', ',', 'this', 'movie', '.', '.', '.', 'oh', 'dear', '.', 'realizing', 'frightworld', 'doesn', \"'\", 't', 'aspire', 'to', 'anything', 'more', 'than', 'crude', 'exploitation', '(', 'an', 'honorable', 'thing', 'in', 'itself', ')', 'and', 'to', 'try', 'to', 'make', 'it', 'conform', 'to', 'more', 'mainstream', 'standards', 'is', 'a', 'mistake', '.', 'and', 'to', 'be', 'fair', ',', 'it', 'is', 'more', 'entertaining', 'than', '-', 'say', '-', 'red', 'zone', 'cuba', '.', '.', '.', 'but', 'not', 'by', 'much', '.', 'so', 'i', 'won', \"'\", 't', 'try', 'to', 'critique', ',', 'just', 'let', 'me', 'ask', 'throw', 'out', 'some', 'observations', '.', '1', ')', 'if', 'gore', 'is', 'the', 'point', 'of', 'the', 'movie', ',', 'shouldn', \"'\", 't', 'you', 'be', 'able', 'to', 'see', 'it', '?', '2', ')', 'if', 'you', 'have', 'hire', 'three', 'sound', 'men', 'make', 'sure', 'at', 'least', 'one', 'knows', 'how', 'to', 'operate', 'the', 'equipment', '.', '3', ')', 'in', 'a', 'horror', 'movie', 'your', 'lead', 'maniac', 'must', 'be', 'scarier', 'than', 'a', 'smurf', 'doll', '.', 'difficult', 'i', 'know', 'but', 'really', '.', '.', '.', '4', ')', 'there', 'is', 'a', 'lot', 'of', 'talented', 'videographers', 'in', 'the', 'buffalo/rochester', 'area', ',', 'most', 'you', 'can', 'hire', 'really', 'cheap', '.', 'get', 'one', 'who', 'knows', 'how', 'to', 'frame', 'a', 'scene', '.', '5', ')', 'just', 'because', 'you', 'have', 'someone', 'who', 'knows', 'how', 'to', 'use', 'after', 'effects', 'and', 'other', 'cool', 'programs', 'doesn', \"'\", 't', 'mean', 'he', 'should', 'do', 'so', 'every', 'two', 'seconds', '.', '6', ')', 'kudos', 'for', 'getting', 'the', 'girls', 'to', 'take', 'off', 'their', 'tops', 'but', 'next', 'time', ',', 'get', 'girls', 'who', \"'\", 's', 'tops', 'we', 'want', 'to', 'see', 'taken', 'off', '.', '7', ')', 'editing', 'should', 'help', 'tell', 'the', 'story', 'or', 'set', 'a', 'mood', '.', 'at', 'the', 'least', 'in', 'this', 'sort', 'of', 'movie', 'editing', 'should', 'sell', 'the', 'gore', 'gags', '.', 'a', 'chainsaw', 'suddenly', 'appearing', 'in', 'a', 'characters', 'stomach', 'is', 'not', 'scary', ',', 'it', \"'\", 's', 'sloppy', '.', 'some', 'good', 'things', '.', 'not', 'all', 'the', 'acting', 'was', 'bad', '.', 'jack', 'was', 'pretty', 'good', 'and', 'i', 'liked', 'acid', 'once', 'she', 'started', 'fighting', 'back', '.', 'there', 'was', 'some', 'neat', 'imagery', ',', 'unfortunately', 'it', 'was', 'thrown', 'up', 'on', 'the', 'screen', 'without', 'rhyme', 'or', 'reason', '.', 'acid', 'poptart', 'is', 'a', 'name', 'that', 'deserves', 'a', 'better', 'movie', '.', 'i', 'like', 'the', 'moxie', 'of', 'frightworld', 'too', '.', 'next', 'time', ',', 'now', 'that', 'they', 'have', 'a', 'movie', 'of', 'sorts', 'under', 'their', 'belts', ',', 'i', 'hope', 'all', 'involve', 'aspire', 'to', 'something', 'better', 'than', 'colman', 'francis', '.', 'upgrade', 'at', 'least', 'ed', 'wood', '.'], 'idxs': [62, 85, 3, 62, 4, 62, 85, 3, 18, 6, 1425, 42, 15556, 8, 107, 4, 34, 12, 49, 82, 38, 219, 82, 17264, 2, 16574, 2688, 38, 6, 21, 286, 4, 13, 171, 11, 269, 8, 7201, 24839, 42, 165, 195, 6, 21, 7, 106, 431, 100, 3, 196, 4, 14, 21, 3, 3, 3, 459, 3425, 3, 5108, 24587, 159, 9, 27, 13504, 8, 233, 59, 79, 2592, 2273, 25, 41, 8755, 160, 12, 423, 24, 5, 8, 362, 8, 107, 11, 17647, 8, 59, 2514, 1478, 10, 6, 1227, 3, 5, 8, 34, 1203, 4, 11, 10, 59, 457, 79, 82, 141, 82, 780, 3300, 3902, 3, 3, 3, 22, 29, 40, 81, 3, 44, 13, 384, 9, 27, 362, 8, 6356, 4, 48, 292, 78, 919, 1370, 53, 56, 6875, 3, 448, 24, 51, 612, 10, 2, 216, 7, 2, 21, 4, 1584, 9, 27, 26, 34, 492, 8, 75, 11, 55, 289, 24, 51, 26, 33, 3433, 309, 487, 348, 107, 254, 38, 219, 35, 701, 95, 8, 7985, 2, 4900, 3, 424, 24, 12, 6, 203, 21, 133, 491, 5294, 224, 34, 9040, 79, 6, 29192, 4338, 3, 879, 13, 129, 22, 71, 3, 3, 3, 586, 24, 46, 10, 6, 179, 7, 1017, 0, 12, 2, 0, 1528, 4, 96, 26, 58, 3433, 71, 718, 3, 86, 35, 42, 701, 95, 8, 2237, 6, 143, 3, 555, 24, 48, 91, 26, 33, 278, 42, 701, 95, 8, 354, 109, 305, 5, 90, 642, 5673, 159, 9, 27, 381, 30, 146, 92, 44, 181, 116, 1525, 3, 1267, 24, 3776, 19, 399, 2, 532, 8, 199, 139, 73, 5865, 22, 375, 68, 4, 86, 532, 42, 9, 16, 5865, 77, 186, 8, 75, 630, 139, 3, 1011, 24, 802, 146, 336, 377, 2, 72, 49, 286, 6, 1289, 3, 38, 2, 219, 12, 14, 431, 7, 21, 802, 146, 2091, 2, 612, 1898, 3, 6, 5073, 1089, 3357, 12, 6, 111, 3039, 10, 29, 608, 4, 11, 9, 16, 3858, 3, 56, 57, 188, 3, 29, 37, 2, 123, 17, 85, 3, 681, 17, 187, 57, 5, 13, 418, 4455, 284, 61, 620, 967, 153, 3, 46, 17, 56, 3187, 2938, 4, 469, 11, 17, 1328, 65, 28, 2, 293, 211, 9033, 49, 285, 3, 4455, 0, 10, 6, 395, 15, 977, 6, 132, 21, 3, 13, 45, 2, 25183, 7, 24587, 105, 3, 375, 68, 4, 156, 15, 39, 33, 6, 21, 7, 2428, 508, 73, 15586, 4, 13, 428, 37, 4299, 13504, 8, 150, 132, 79, 6942, 4241, 3, 16376, 38, 219, 1630, 1915, 3]}\n"
          ]
        }
      ]
    },
    {
      "cell_type": "code",
      "source": [
        "# set format of the idxs and labels to torch tensors\n",
        "# Documentation: https://huggingface.co/docs/datasets/v2.4.0/en/package_reference/main_classes#datasets.Dataset.set_format\n",
        "#train_data.set_format(type = 'torch', columns = ['idxs', 'label'])\n",
        "#valid_data.set_format(type = 'torch', columns = ['idxs', 'label'])\n",
        "#test_data.set_format(type = 'torch', columns = ['idxs', 'label'])"
      ],
      "metadata": {
        "id": "3r-qoItzuWPC"
      },
      "execution_count": 243,
      "outputs": []
    },
    {
      "cell_type": "code",
      "source": [
        "# SIMPLE RNN MODEL\n",
        "from torch import nn\n",
        "\n",
        "class RNN(nn.Module):\n",
        "# I referred to this tutorial for help: https://github.com/bentrevett/pytorch-sentiment-analysis/blob/master/1%20-%20Simple%20Sentiment%20Analysis.ipynb\n",
        "    def __init__(self, vocab_size, emb_dim, hid_dim, output_dim):\n",
        "        super().__init__()\n",
        "        # embedding layer\n",
        "        self.embedding = nn.Embedding(vocab_size, emb_dim)\n",
        "        # RNN layer\n",
        "        self.rnn = nn.RNN(emb_dim, hid_dim) # default batch_first is False\n",
        "        # linear layer\n",
        "        self.linear = nn.Linear(hid_dim, output_dim)\n",
        "    def forward(self, text):\n",
        "        # input text is dimension [seq_len, batch_size]\n",
        "        # apply embeddings to the words\n",
        "        embedded = self.embedding(text)\n",
        "        # embedded is dimension [seq_len, batch_size, emb_dim] because batch_first = False\n",
        "        # run through RNN\n",
        "        output, hidden = self.rnn(embedded)\n",
        "        # hidden is dimension [1, batch_size, hid_dim]\n",
        "        # get the predictions\n",
        "        scores = self.linear(hidden.squeeze(0))\n",
        "        # scores should have the dimension [batch_size, output_dim]\n",
        "        return scores"
      ],
      "metadata": {
        "id": "v-KsxBFKvjqE"
      },
      "execution_count": 271,
      "outputs": []
    },
    {
      "cell_type": "code",
      "source": [
        "from torch.nn.utils.rnn import pad_sequence\n",
        "\n",
        "# collate function to put examples in batches \n",
        "def collate_batch(batch):\n",
        "  batch_idxs, batch_labels = [], []\n",
        "\n",
        "  for b in batch: \n",
        "    #print(b)\n",
        "    batch_idxs.append(torch.LongTensor(b['idxs']))\n",
        "    batch_labels.append(torch.tensor(b['label']))\n",
        "  \n",
        "  #print('batch_idxs')\n",
        "  #print(batch_idxs)\n",
        "  #print('batch_labels')\n",
        "  #print(batch_labels)\n",
        "\n",
        "  # pad idxs that are shorter than the longest sentence\n",
        "  batch_idxs = pad_sequence(batch_idxs, batch_first = False, padding_value = PAD_IDX)\n",
        "  batch_labels = torch.stack(batch_labels)\n",
        "  \n",
        "  #print('batch_idx again')\n",
        "  #print(batch_idxs)\n",
        "\n",
        "  batch = {'idxs': batch_idxs,\n",
        "           'labels': batch_labels}\n",
        "  \n",
        "  return batch\n"
      ],
      "metadata": {
        "id": "Rx_HluX-wAty"
      },
      "execution_count": 272,
      "outputs": []
    },
    {
      "cell_type": "code",
      "source": [
        "INPUT_DIM = len(vocab)\n",
        "EMBEDDING_DIM = 100\n",
        "HIDDEN_DIM = 256\n",
        "OUTPUT_DIM = 2 # there are only 2 labels - 0 (neg) or 1 (pos)\n",
        "\n",
        "model = RNN(INPUT_DIM, EMBEDDING_DIM, HIDDEN_DIM, OUTPUT_DIM)\n",
        "model = model.to(device)\n",
        "\n",
        "criterion = nn.CrossEntropyLoss()\n",
        "criterion = criterion.to(device)"
      ],
      "metadata": {
        "id": "9fMLZ45Tv1tZ"
      },
      "execution_count": 276,
      "outputs": []
    },
    {
      "cell_type": "code",
      "source": [
        "from torch.utils.data import DataLoader\n",
        "\n",
        "BATCH_SIZE = 128\n",
        "\n",
        "train_dataloader = torch.utils.data.DataLoader(train_data, batch_size=BATCH_SIZE, collate_fn=collate_batch)\n",
        "valid_dataloader = torch.utils.data.DataLoader(valid_data, batch_size=BATCH_SIZE, collate_fn=collate_batch)\n",
        "test_dataloader = torch.utils.data.DataLoader(test_data, batch_size=BATCH_SIZE, collate_fn=collate_batch)"
      ],
      "metadata": {
        "id": "nvgGod7E0c6u"
      },
      "execution_count": 277,
      "outputs": []
    },
    {
      "cell_type": "code",
      "source": [
        "for i, b in enumerate(train_dataloader):\n",
        "  print('b')\n",
        "  print(b)\n",
        "\n",
        "  if i > -1:\n",
        "    break"
      ],
      "metadata": {
        "colab": {
          "base_uri": "https://localhost:8080/"
        },
        "id": "mMNPXiAb0kBS",
        "outputId": "e453f6f5-2453-473c-b521-0674731e2fe0"
      },
      "execution_count": 278,
      "outputs": [
        {
          "output_type": "stream",
          "name": "stdout",
          "text": [
            "b\n",
            "{'idxs': tensor([[   62,  2110,   682,  ...,   393, 13696,    56],\n",
            "        [   85,  2818,  5745,  ...,   324,     4,    68],\n",
            "        [    3,  1111,  2730,  ...,    10,  8145,    12],\n",
            "        ...,\n",
            "        [    1,     1,     1,  ...,     1,     1,     1],\n",
            "        [    1,     1,     1,  ...,     1,     1,     1],\n",
            "        [    1,     1,     1,  ...,     1,     1,     1]]), 'labels': tensor([0, 1, 1, 0, 1, 0, 0, 1, 1, 0, 1, 1, 1, 0, 0, 0, 0, 0, 1, 0, 0, 1, 1, 1,\n",
            "        1, 1, 0, 0, 0, 1, 1, 0, 1, 1, 0, 1, 1, 1, 1, 0, 0, 0, 1, 1, 1, 0, 1, 0,\n",
            "        1, 0, 1, 1, 0, 1, 1, 0, 0, 0, 1, 1, 0, 0, 1, 1, 0, 0, 0, 0, 0, 0, 1, 0,\n",
            "        1, 1, 1, 0, 1, 1, 0, 1, 0, 0, 1, 0, 1, 0, 0, 1, 1, 1, 1, 1, 0, 0, 0, 1,\n",
            "        0, 0, 0, 1, 0, 0, 1, 0, 1, 0, 1, 1, 1, 0, 0, 1, 0, 1, 0, 1, 0, 0, 0, 0,\n",
            "        1, 1, 0, 1, 0, 1, 0, 1])}\n"
          ]
        }
      ]
    },
    {
      "cell_type": "code",
      "source": [
        "import torch.optim as optim\n",
        "\n",
        "# initialize optimizer\n",
        "optimizer = optim.Adam(model.parameters())"
      ],
      "metadata": {
        "id": "iTVvTnp74tvT"
      },
      "execution_count": 279,
      "outputs": []
    },
    {
      "cell_type": "code",
      "source": [
        "def get_accuracy(predictions, actual_labels):\n",
        "  #print('predictions')\n",
        "  #print(predictions)\n",
        "  #print('predictions shape')\n",
        "  #print(predictions.shape)\n",
        "  #print('actual_labels')\n",
        "  #print(actual_labels)\n",
        "  batch_size = predictions.shape[0]\n",
        "  predicted_labels = predictions.argmax(1)\n",
        "  #print('predicted_labels')\n",
        "  #print(predicted_labels)\n",
        "  num_correct = (predicted_labels == actual_labels).sum()\n",
        "  #print('num_correct')\n",
        "  #print(num_correct)\n",
        "  accuracy = num_correct / len(actual_labels)\n",
        "  #print('accuracy')\n",
        "  #print(accuracy)\n",
        "  return accuracy\n"
      ],
      "metadata": {
        "id": "RpuQ3VLL-voj"
      },
      "execution_count": 280,
      "outputs": []
    },
    {
      "cell_type": "code",
      "source": [
        "def train(dataloader):\n",
        "  model.train()\n",
        "\n",
        "  epoch_loss, epoch_accuracy = 0, 0\n",
        "  log_interval = 500\n",
        "\n",
        "  for idx, batch in enumerate(dataloader):\n",
        "    token_ids = batch['idxs'].to(device)\n",
        "    labels = batch['labels'].to(device)\n",
        "    optimizer.zero_grad()\n",
        "    predictions = model(token_ids)\n",
        "    loss = criterion(predictions, labels)\n",
        "    accuracy = get_accuracy(predictions, labels)\n",
        "    loss.backward()\n",
        "    optimizer.step()\n",
        "    epoch_loss += loss.item()\n",
        "    epoch_accuracy += accuracy.item()\n",
        "\n",
        "    #if idx % log_interval == 0 and idx > 0:\n",
        "    #  print(f'At iteration {idx} the loss is {loss:.3f}.')\n",
        "    #  print(f'At iteration {idx} the accuracy is {accuracy:.3f}.')\n",
        "\n",
        "  return epoch_loss / len(dataloader), epoch_accuracy / len(dataloader)\n"
      ],
      "metadata": {
        "id": "axmY_Chg2hAE"
      },
      "execution_count": 281,
      "outputs": []
    },
    {
      "cell_type": "code",
      "source": [
        "def evaluate(dataloader):\n",
        "  model.eval()\n",
        "\n",
        "  epoch_loss, epoch_accuracy = 0, 0\n",
        "\n",
        "  with torch.no_grad():\n",
        "    for idx, batch in enumerate(dataloader):\n",
        "      token_ids = batch['idxs'].to(device)\n",
        "      labels = batch['labels'].to(device)\n",
        "      predictions = model(token_ids)\n",
        "      loss = criterion(predictions, labels)\n",
        "      accuracy = get_accuracy(predictions, labels)\n",
        "      epoch_loss += loss.item()\n",
        "      epoch_accuracy += accuracy.item()\n",
        "  \n",
        "  return epoch_loss / len(dataloader), epoch_accuracy / len(dataloader)\n",
        "  "
      ],
      "metadata": {
        "id": "U-V4_MqfBBJX"
      },
      "execution_count": 282,
      "outputs": []
    },
    {
      "cell_type": "code",
      "source": [
        "import time\n",
        "\n",
        "def epoch_time(start_time, end_time):\n",
        "    elapsed_time = end_time - start_time\n",
        "    elapsed_mins = int(elapsed_time / 60)\n",
        "    elapsed_secs = int(elapsed_time - (elapsed_mins * 60))\n",
        "    return elapsed_mins, elapsed_secs"
      ],
      "metadata": {
        "id": "zPZ5ro6XEEfl"
      },
      "execution_count": 283,
      "outputs": []
    },
    {
      "cell_type": "code",
      "source": [
        "N_EPOCHS = 10\n",
        "best_valid_loss = float('inf')\n",
        "\n",
        "for epoch in range(N_EPOCHS):\n",
        "  \n",
        "  start_time = time.time()\n",
        "\n",
        "  train_loss, train_acc = train(train_dataloader)\n",
        "  valid_loss, valid_acc = evaluate(valid_dataloader)\n",
        "\n",
        "  end_time = time.time()\n",
        "    \n",
        "  epoch_mins, epoch_secs = epoch_time(start_time, end_time)\n",
        "\n",
        "  # save the best model\n",
        "  if valid_loss < best_valid_loss:\n",
        "    best_valid_loss = valid_loss\n",
        "    torch.save(model.state_dict(), 'tut2-model.pt')\n",
        "\n",
        "  print(f'Epoch: {epoch+1:02} | Time: {epoch_mins}m {epoch_secs}s')\n",
        "  print(f'train_loss: {train_loss:.3f}, train_acc: {train_acc:.3f}')\n",
        "  print(f'valid_loss: {valid_loss:.3f}, valid_acc: {valid_acc:.3f}')\n"
      ],
      "metadata": {
        "colab": {
          "base_uri": "https://localhost:8080/"
        },
        "id": "1te4TVs_BTgV",
        "outputId": "77863f5c-ca5a-4f31-da7a-d6d511c6cb8b"
      },
      "execution_count": 284,
      "outputs": [
        {
          "output_type": "stream",
          "name": "stdout",
          "text": [
            "Epoch: 01 | Time: 0m 18s\n",
            "train_loss: 0.702, train_acc: 0.497\n",
            "valid_loss: 0.698, valid_acc: 0.490\n",
            "Epoch: 02 | Time: 0m 18s\n",
            "train_loss: 0.726, train_acc: 0.504\n",
            "valid_loss: 0.698, valid_acc: 0.493\n",
            "Epoch: 03 | Time: 0m 18s\n",
            "train_loss: 0.699, train_acc: 0.496\n",
            "valid_loss: 0.694, valid_acc: 0.499\n",
            "Epoch: 04 | Time: 0m 18s\n",
            "train_loss: 0.697, train_acc: 0.504\n",
            "valid_loss: 0.695, valid_acc: 0.497\n",
            "Epoch: 05 | Time: 0m 19s\n",
            "train_loss: 0.696, train_acc: 0.504\n",
            "valid_loss: 0.695, valid_acc: 0.497\n",
            "Epoch: 06 | Time: 0m 18s\n",
            "train_loss: 0.696, train_acc: 0.505\n",
            "valid_loss: 0.695, valid_acc: 0.497\n",
            "Epoch: 07 | Time: 0m 18s\n",
            "train_loss: 0.696, train_acc: 0.505\n",
            "valid_loss: 0.696, valid_acc: 0.498\n",
            "Epoch: 08 | Time: 0m 18s\n",
            "train_loss: 0.696, train_acc: 0.505\n",
            "valid_loss: 0.696, valid_acc: 0.498\n",
            "Epoch: 09 | Time: 0m 19s\n",
            "train_loss: 0.696, train_acc: 0.504\n",
            "valid_loss: 0.696, valid_acc: 0.498\n",
            "Epoch: 10 | Time: 0m 18s\n",
            "train_loss: 0.696, train_acc: 0.504\n",
            "valid_loss: 0.696, valid_acc: 0.498\n"
          ]
        }
      ]
    },
    {
      "cell_type": "code",
      "source": [
        "model.load_state_dict(torch.load('tut2-model.pt'))\n",
        "test_loss, test_acc = evaluate(test_dataloader)\n",
        "print(f'test_loss: {test_loss:.3f}, test_acc: {test_acc:.3f}')"
      ],
      "metadata": {
        "colab": {
          "base_uri": "https://localhost:8080/"
        },
        "id": "TRfeEpeoB3rA",
        "outputId": "33fc8794-8afd-42b8-b45d-9393f8373442"
      },
      "execution_count": 285,
      "outputs": [
        {
          "output_type": "stream",
          "name": "stdout",
          "text": [
            "test_loss: 0.694, test_acc: 0.504\n"
          ]
        }
      ]
    },
    {
      "cell_type": "code",
      "source": [
        ""
      ],
      "metadata": {
        "id": "HBEnoydZGwPv"
      },
      "execution_count": null,
      "outputs": []
    }
  ]
}